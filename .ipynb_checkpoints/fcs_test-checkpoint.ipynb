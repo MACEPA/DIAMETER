{
 "cells": [
  {
   "cell_type": "code",
   "execution_count": 15,
   "metadata": {},
   "outputs": [],
   "source": [
    "import math\n",
    "import numpy as np\n",
    "import pandas as pd\n",
    "from analytic_wfm import peakdetect_spline\n",
    "import matplotlib.pyplot as plt\n",
    "from scipy.stats import gaussian_kde\n",
    "from scipy.signal import find_peaks\n",
    "from scipy.interpolate import CubicSpline, UnivariateSpline\n",
    "from sklearn.neighbors import KernelDensity\n",
    "from FlowCytometryTools import FCMeasurement\n",
    "from statsmodels.distributions.empirical_distribution import ECDF\n",
    "# from jupyterthemes import jtplot\n",
    "# jtplot.style(theme='chesterish')"
   ]
  },
  {
   "cell_type": "code",
   "execution_count": 16,
   "metadata": {},
   "outputs": [],
   "source": [
    "fcs_dir = 'C:/Users/lzoeckler/Desktop/maria_data/Archive_facs'"
   ]
  },
  {
   "cell_type": "code",
   "execution_count": 17,
   "metadata": {},
   "outputs": [
    {
     "name": "stderr",
     "output_type": "stream",
     "text": [
      "Encountered an illegal utf-8 byte in the header.\n",
      " Illegal utf-8 characters will be ignored.\n",
      "'utf-8' codec can't decode byte 0xaa in position 101: invalid start byte\n",
      "Encountered an illegal utf-8 byte in the header.\n",
      " Illegal utf-8 characters will be ignored.\n",
      "'utf-8' codec can't decode byte 0xaa in position 101: invalid start byte\n"
     ]
    }
   ],
   "source": [
    "test = FCMeasurement(ID='', datafile='{}/1.fcs'.format(fcs_dir))\n",
    "fcs_data = test.data\n",
    "fcs_channels = test.channels"
   ]
  },
  {
   "cell_type": "code",
   "execution_count": 18,
   "metadata": {},
   "outputs": [
    {
     "name": "stdout",
     "output_type": "stream",
     "text": [
      "10000 observations\n",
      "<class 'pandas.core.frame.DataFrame'>\n"
     ]
    },
    {
     "data": {
      "text/html": [
       "<div>\n",
       "<style scoped>\n",
       "    .dataframe tbody tr th:only-of-type {\n",
       "        vertical-align: middle;\n",
       "    }\n",
       "\n",
       "    .dataframe tbody tr th {\n",
       "        vertical-align: top;\n",
       "    }\n",
       "\n",
       "    .dataframe thead th {\n",
       "        text-align: right;\n",
       "    }\n",
       "</style>\n",
       "<table border=\"1\" class=\"dataframe\">\n",
       "  <thead>\n",
       "    <tr style=\"text-align: right;\">\n",
       "      <th></th>\n",
       "      <th>$PnN</th>\n",
       "      <th>$PnR</th>\n",
       "      <th>$PnB</th>\n",
       "      <th>$PnE</th>\n",
       "      <th>$PnS</th>\n",
       "    </tr>\n",
       "    <tr>\n",
       "      <th>Channel Number</th>\n",
       "      <th></th>\n",
       "      <th></th>\n",
       "      <th></th>\n",
       "      <th></th>\n",
       "      <th></th>\n",
       "    </tr>\n",
       "  </thead>\n",
       "  <tbody>\n",
       "    <tr>\n",
       "      <th>1</th>\n",
       "      <td>FSC-H</td>\n",
       "      <td>1024</td>\n",
       "      <td>16</td>\n",
       "      <td>[0, 0]</td>\n",
       "      <td>FSC-Height</td>\n",
       "    </tr>\n",
       "    <tr>\n",
       "      <th>2</th>\n",
       "      <td>SSC-H</td>\n",
       "      <td>1024</td>\n",
       "      <td>16</td>\n",
       "      <td>[0, 0]</td>\n",
       "      <td>SSC-Height</td>\n",
       "    </tr>\n",
       "    <tr>\n",
       "      <th>3</th>\n",
       "      <td>FL1-H</td>\n",
       "      <td>1024</td>\n",
       "      <td>16</td>\n",
       "      <td>[4, 0]</td>\n",
       "      <td>FITC</td>\n",
       "    </tr>\n",
       "    <tr>\n",
       "      <th>4</th>\n",
       "      <td>FL2-H</td>\n",
       "      <td>1024</td>\n",
       "      <td>16</td>\n",
       "      <td>[4, 0]</td>\n",
       "      <td>None</td>\n",
       "    </tr>\n",
       "    <tr>\n",
       "      <th>5</th>\n",
       "      <td>FL3-H</td>\n",
       "      <td>1024</td>\n",
       "      <td>16</td>\n",
       "      <td>[4, 0]</td>\n",
       "      <td>None</td>\n",
       "    </tr>\n",
       "    <tr>\n",
       "      <th>6</th>\n",
       "      <td>FL1-A</td>\n",
       "      <td>1024</td>\n",
       "      <td>16</td>\n",
       "      <td>[0, 0]</td>\n",
       "      <td>None</td>\n",
       "    </tr>\n",
       "    <tr>\n",
       "      <th>7</th>\n",
       "      <td>FL4-H</td>\n",
       "      <td>1024</td>\n",
       "      <td>16</td>\n",
       "      <td>[4, 0]</td>\n",
       "      <td>None</td>\n",
       "    </tr>\n",
       "  </tbody>\n",
       "</table>\n",
       "</div>"
      ],
      "text/plain": [
       "                 $PnN  $PnR  $PnB    $PnE        $PnS\n",
       "Channel Number                                       \n",
       "1               FSC-H  1024    16  [0, 0]  FSC-Height\n",
       "2               SSC-H  1024    16  [0, 0]  SSC-Height\n",
       "3               FL1-H  1024    16  [4, 0]        FITC\n",
       "4               FL2-H  1024    16  [4, 0]        None\n",
       "5               FL3-H  1024    16  [4, 0]        None\n",
       "6               FL1-A  1024    16  [0, 0]        None\n",
       "7               FL4-H  1024    16  [4, 0]        None"
      ]
     },
     "execution_count": 18,
     "metadata": {},
     "output_type": "execute_result"
    }
   ],
   "source": [
    "print(len(fcs_data), 'observations')\n",
    "print(type(fcs_data))\n",
    "test.channels"
   ]
  },
  {
   "cell_type": "code",
   "execution_count": 19,
   "metadata": {},
   "outputs": [
    {
     "data": {
      "text/html": [
       "<div>\n",
       "<style scoped>\n",
       "    .dataframe tbody tr th:only-of-type {\n",
       "        vertical-align: middle;\n",
       "    }\n",
       "\n",
       "    .dataframe tbody tr th {\n",
       "        vertical-align: top;\n",
       "    }\n",
       "\n",
       "    .dataframe thead th {\n",
       "        text-align: right;\n",
       "    }\n",
       "</style>\n",
       "<table border=\"1\" class=\"dataframe\">\n",
       "  <thead>\n",
       "    <tr style=\"text-align: right;\">\n",
       "      <th></th>\n",
       "      <th>FSC-H</th>\n",
       "      <th>SSC-H</th>\n",
       "      <th>FL1-H</th>\n",
       "      <th>FL2-H</th>\n",
       "      <th>FL3-H</th>\n",
       "      <th>FL1-A</th>\n",
       "      <th>FL4-H</th>\n",
       "    </tr>\n",
       "  </thead>\n",
       "  <tbody>\n",
       "    <tr>\n",
       "      <th>0</th>\n",
       "      <td>395.0</td>\n",
       "      <td>205.0</td>\n",
       "      <td>468.0</td>\n",
       "      <td>416.0</td>\n",
       "      <td>419.0</td>\n",
       "      <td>13.0</td>\n",
       "      <td>451.0</td>\n",
       "    </tr>\n",
       "    <tr>\n",
       "      <th>1</th>\n",
       "      <td>237.0</td>\n",
       "      <td>385.0</td>\n",
       "      <td>516.0</td>\n",
       "      <td>453.0</td>\n",
       "      <td>454.0</td>\n",
       "      <td>22.0</td>\n",
       "      <td>470.0</td>\n",
       "    </tr>\n",
       "    <tr>\n",
       "      <th>2</th>\n",
       "      <td>190.0</td>\n",
       "      <td>148.0</td>\n",
       "      <td>552.0</td>\n",
       "      <td>477.0</td>\n",
       "      <td>489.0</td>\n",
       "      <td>32.0</td>\n",
       "      <td>527.0</td>\n",
       "    </tr>\n",
       "    <tr>\n",
       "      <th>3</th>\n",
       "      <td>487.0</td>\n",
       "      <td>169.0</td>\n",
       "      <td>579.0</td>\n",
       "      <td>529.0</td>\n",
       "      <td>553.0</td>\n",
       "      <td>41.0</td>\n",
       "      <td>553.0</td>\n",
       "    </tr>\n",
       "    <tr>\n",
       "      <th>4</th>\n",
       "      <td>419.0</td>\n",
       "      <td>185.0</td>\n",
       "      <td>525.0</td>\n",
       "      <td>465.0</td>\n",
       "      <td>470.0</td>\n",
       "      <td>25.0</td>\n",
       "      <td>512.0</td>\n",
       "    </tr>\n",
       "  </tbody>\n",
       "</table>\n",
       "</div>"
      ],
      "text/plain": [
       "   FSC-H  SSC-H  FL1-H  FL2-H  FL3-H  FL1-A  FL4-H\n",
       "0  395.0  205.0  468.0  416.0  419.0   13.0  451.0\n",
       "1  237.0  385.0  516.0  453.0  454.0   22.0  470.0\n",
       "2  190.0  148.0  552.0  477.0  489.0   32.0  527.0\n",
       "3  487.0  169.0  579.0  529.0  553.0   41.0  553.0\n",
       "4  419.0  185.0  525.0  465.0  470.0   25.0  512.0"
      ]
     },
     "execution_count": 19,
     "metadata": {},
     "output_type": "execute_result"
    }
   ],
   "source": [
    "fcs_data.head()"
   ]
  },
  {
   "cell_type": "code",
   "execution_count": 20,
   "metadata": {},
   "outputs": [
    {
     "data": {
      "text/html": [
       "<div>\n",
       "<style scoped>\n",
       "    .dataframe tbody tr th:only-of-type {\n",
       "        vertical-align: middle;\n",
       "    }\n",
       "\n",
       "    .dataframe tbody tr th {\n",
       "        vertical-align: top;\n",
       "    }\n",
       "\n",
       "    .dataframe thead th {\n",
       "        text-align: right;\n",
       "    }\n",
       "</style>\n",
       "<table border=\"1\" class=\"dataframe\">\n",
       "  <thead>\n",
       "    <tr style=\"text-align: right;\">\n",
       "      <th></th>\n",
       "      <th>FSC-H</th>\n",
       "      <th>SSC-H</th>\n",
       "      <th>FL1-A</th>\n",
       "    </tr>\n",
       "  </thead>\n",
       "  <tbody>\n",
       "    <tr>\n",
       "      <th>0</th>\n",
       "      <td>395.0</td>\n",
       "      <td>205.0</td>\n",
       "      <td>2.564949</td>\n",
       "    </tr>\n",
       "    <tr>\n",
       "      <th>1</th>\n",
       "      <td>237.0</td>\n",
       "      <td>385.0</td>\n",
       "      <td>3.091042</td>\n",
       "    </tr>\n",
       "    <tr>\n",
       "      <th>2</th>\n",
       "      <td>190.0</td>\n",
       "      <td>148.0</td>\n",
       "      <td>3.465736</td>\n",
       "    </tr>\n",
       "    <tr>\n",
       "      <th>3</th>\n",
       "      <td>487.0</td>\n",
       "      <td>169.0</td>\n",
       "      <td>3.713572</td>\n",
       "    </tr>\n",
       "    <tr>\n",
       "      <th>4</th>\n",
       "      <td>419.0</td>\n",
       "      <td>185.0</td>\n",
       "      <td>3.218876</td>\n",
       "    </tr>\n",
       "  </tbody>\n",
       "</table>\n",
       "</div>"
      ],
      "text/plain": [
       "   FSC-H  SSC-H     FL1-A\n",
       "0  395.0  205.0  2.564949\n",
       "1  237.0  385.0  3.091042\n",
       "2  190.0  148.0  3.465736\n",
       "3  487.0  169.0  3.713572\n",
       "4  419.0  185.0  3.218876"
      ]
     },
     "execution_count": 20,
     "metadata": {},
     "output_type": "execute_result"
    }
   ],
   "source": [
    "test = fcs_data.loc[fcs_data['FL1-A'] > 0]\n",
    "test = test[['FSC-H', 'SSC-H', 'FL1-A']]\n",
    "test['FL1-A'] = test['FL1-A'].apply(math.log)\n",
    "test.head()"
   ]
  },
  {
   "cell_type": "code",
   "execution_count": 21,
   "metadata": {},
   "outputs": [
    {
     "data": {
      "text/html": [
       "<div>\n",
       "<style scoped>\n",
       "    .dataframe tbody tr th:only-of-type {\n",
       "        vertical-align: middle;\n",
       "    }\n",
       "\n",
       "    .dataframe tbody tr th {\n",
       "        vertical-align: top;\n",
       "    }\n",
       "\n",
       "    .dataframe thead th {\n",
       "        text-align: right;\n",
       "    }\n",
       "</style>\n",
       "<table border=\"1\" class=\"dataframe\">\n",
       "  <thead>\n",
       "    <tr style=\"text-align: right;\">\n",
       "      <th></th>\n",
       "      <th>FSC-H</th>\n",
       "      <th>SSC-H</th>\n",
       "      <th>FL1-A</th>\n",
       "    </tr>\n",
       "  </thead>\n",
       "  <tbody>\n",
       "    <tr>\n",
       "      <th>0</th>\n",
       "      <td>0.787215</td>\n",
       "      <td>0.648359</td>\n",
       "      <td>2.564949</td>\n",
       "    </tr>\n",
       "    <tr>\n",
       "      <th>1</th>\n",
       "      <td>0.366547</td>\n",
       "      <td>0.883353</td>\n",
       "      <td>3.091042</td>\n",
       "    </tr>\n",
       "    <tr>\n",
       "      <th>2</th>\n",
       "      <td>0.264206</td>\n",
       "      <td>0.452781</td>\n",
       "      <td>3.465736</td>\n",
       "    </tr>\n",
       "    <tr>\n",
       "      <th>3</th>\n",
       "      <td>0.970988</td>\n",
       "      <td>0.536715</td>\n",
       "      <td>3.713572</td>\n",
       "    </tr>\n",
       "    <tr>\n",
       "      <th>4</th>\n",
       "      <td>0.853341</td>\n",
       "      <td>0.590336</td>\n",
       "      <td>3.218876</td>\n",
       "    </tr>\n",
       "  </tbody>\n",
       "</table>\n",
       "</div>"
      ],
      "text/plain": [
       "      FSC-H     SSC-H     FL1-A\n",
       "0  0.787215  0.648359  2.564949\n",
       "1  0.366547  0.883353  3.091042\n",
       "2  0.264206  0.452781  3.465736\n",
       "3  0.970988  0.536715  3.713572\n",
       "4  0.853341  0.590336  3.218876"
      ]
     },
     "execution_count": 21,
     "metadata": {},
     "output_type": "execute_result"
    }
   ],
   "source": [
    "FSC_ecdf = ECDF(test['FSC-H'])\n",
    "test['FSC-H'] = FSC_ecdf(test['FSC-H'])\n",
    "SSC_ecdf = ECDF(test['SSC-H'])\n",
    "test['SSC-H'] = SSC_ecdf(test['SSC-H'])\n",
    "test.head()"
   ]
  },
  {
   "cell_type": "code",
   "execution_count": 35,
   "metadata": {
    "scrolled": true
   },
   "outputs": [
    {
     "data": {
      "text/html": [
       "<div>\n",
       "<style scoped>\n",
       "    .dataframe tbody tr th:only-of-type {\n",
       "        vertical-align: middle;\n",
       "    }\n",
       "\n",
       "    .dataframe tbody tr th {\n",
       "        vertical-align: top;\n",
       "    }\n",
       "\n",
       "    .dataframe thead th {\n",
       "        text-align: right;\n",
       "    }\n",
       "</style>\n",
       "<table border=\"1\" class=\"dataframe\">\n",
       "  <thead>\n",
       "    <tr style=\"text-align: right;\">\n",
       "      <th></th>\n",
       "      <th>FSC-H</th>\n",
       "      <th>SSC-H</th>\n",
       "      <th>FL1-A</th>\n",
       "    </tr>\n",
       "  </thead>\n",
       "  <tbody>\n",
       "    <tr>\n",
       "      <th>4</th>\n",
       "      <td>0.853341</td>\n",
       "      <td>0.590336</td>\n",
       "      <td>3.218876</td>\n",
       "    </tr>\n",
       "    <tr>\n",
       "      <th>6</th>\n",
       "      <td>0.915066</td>\n",
       "      <td>0.449080</td>\n",
       "      <td>2.484907</td>\n",
       "    </tr>\n",
       "    <tr>\n",
       "      <th>7</th>\n",
       "      <td>0.703481</td>\n",
       "      <td>0.405362</td>\n",
       "      <td>2.639057</td>\n",
       "    </tr>\n",
       "    <tr>\n",
       "      <th>8</th>\n",
       "      <td>0.889156</td>\n",
       "      <td>0.494398</td>\n",
       "      <td>3.367296</td>\n",
       "    </tr>\n",
       "    <tr>\n",
       "      <th>9</th>\n",
       "      <td>0.585434</td>\n",
       "      <td>0.417167</td>\n",
       "      <td>2.079442</td>\n",
       "    </tr>\n",
       "  </tbody>\n",
       "</table>\n",
       "</div>"
      ],
      "text/plain": [
       "      FSC-H     SSC-H     FL1-A\n",
       "4  0.853341  0.590336  3.218876\n",
       "6  0.915066  0.449080  2.484907\n",
       "7  0.703481  0.405362  2.639057\n",
       "8  0.889156  0.494398  3.367296\n",
       "9  0.585434  0.417167  2.079442"
      ]
     },
     "execution_count": 35,
     "metadata": {},
     "output_type": "execute_result"
    }
   ],
   "source": [
    "fsc_filt = (.4, .95)\n",
    "ssc_filt = (.05, .6)\n",
    "fsc_filter = (test['FSC-H'] >= fsc_filt[0]) & (test['FSC-H'] <= fsc_filt[1])\n",
    "sub_test = test.loc[fsc_filter]\n",
    "ssc_filter = (test['SSC-H'] >= ssc_filt[0]) & (test['SSC-H'] <= ssc_filt[1])\n",
    "sub_test = sub_test.loc[ssc_filter]\n",
    "sub_test.head()"
   ]
  },
  {
   "cell_type": "code",
   "execution_count": 36,
   "metadata": {},
   "outputs": [
    {
     "data": {
      "text/plain": [
       "<matplotlib.axes._subplots.AxesSubplot at 0x19ae41256d8>"
      ]
     },
     "execution_count": 36,
     "metadata": {},
     "output_type": "execute_result"
    },
    {
     "data": {
      "image/png": "[encoded data removed]",
      "text/plain": [
       "<Figure size 460.8x403.2 with 1 Axes>"
      ]
     },
     "metadata": {},
     "output_type": "display_data"
    }
   ],
   "source": [
    "sub_test['FL1-A'].plot.kde()"
   ]
  },
  {
   "cell_type": "code",
   "execution_count": 40,
   "metadata": {},
   "outputs": [
    {
     "name": "stderr",
     "output_type": "stream",
     "text": [
      "C:\\Users\\lzoeckler\\miniconda3\\envs\\DIAMETER\\lib\\site-packages\\ipykernel_launcher.py:1: FutureWarning: Method .as_matrix will be removed in a future version. Use .values instead.\n",
      "  \"\"\"Entry point for launching an IPython kernel.\n"
     ]
    },
    {
     "data": {
      "text/html": [
       "<div>\n",
       "<style scoped>\n",
       "    .dataframe tbody tr th:only-of-type {\n",
       "        vertical-align: middle;\n",
       "    }\n",
       "\n",
       "    .dataframe tbody tr th {\n",
       "        vertical-align: top;\n",
       "    }\n",
       "\n",
       "    .dataframe thead th {\n",
       "        text-align: right;\n",
       "    }\n",
       "</style>\n",
       "<table border=\"1\" class=\"dataframe\">\n",
       "  <thead>\n",
       "    <tr style=\"text-align: right;\">\n",
       "      <th></th>\n",
       "      <th>FSC-H</th>\n",
       "      <th>SSC-H</th>\n",
       "      <th>FL1-A</th>\n",
       "      <th>density</th>\n",
       "      <th>freq</th>\n",
       "      <th>intensity</th>\n",
       "    </tr>\n",
       "  </thead>\n",
       "  <tbody>\n",
       "    <tr>\n",
       "      <th>1132</th>\n",
       "      <td>0.492597</td>\n",
       "      <td>0.425870</td>\n",
       "      <td>0.000000</td>\n",
       "      <td>0.010357</td>\n",
       "      <td>0.000005</td>\n",
       "      <td>0.000000</td>\n",
       "    </tr>\n",
       "    <tr>\n",
       "      <th>270</th>\n",
       "      <td>0.480692</td>\n",
       "      <td>0.180972</td>\n",
       "      <td>0.693147</td>\n",
       "      <td>0.096652</td>\n",
       "      <td>0.000045</td>\n",
       "      <td>16.861310</td>\n",
       "    </tr>\n",
       "    <tr>\n",
       "      <th>5915</th>\n",
       "      <td>0.647659</td>\n",
       "      <td>0.111845</td>\n",
       "      <td>1.098612</td>\n",
       "      <td>0.052205</td>\n",
       "      <td>0.000024</td>\n",
       "      <td>26.724544</td>\n",
       "    </tr>\n",
       "    <tr>\n",
       "      <th>818</th>\n",
       "      <td>0.459184</td>\n",
       "      <td>0.594138</td>\n",
       "      <td>1.386294</td>\n",
       "      <td>0.028889</td>\n",
       "      <td>0.000013</td>\n",
       "      <td>33.722620</td>\n",
       "    </tr>\n",
       "    <tr>\n",
       "      <th>1031</th>\n",
       "      <td>0.495198</td>\n",
       "      <td>0.125550</td>\n",
       "      <td>1.609438</td>\n",
       "      <td>0.039588</td>\n",
       "      <td>0.000018</td>\n",
       "      <td>39.150749</td>\n",
       "    </tr>\n",
       "  </tbody>\n",
       "</table>\n",
       "</div>"
      ],
      "text/plain": [
       "         FSC-H     SSC-H     FL1-A   density      freq  intensity\n",
       "1132  0.492597  0.425870  0.000000  0.010357  0.000005   0.000000\n",
       "270   0.480692  0.180972  0.693147  0.096652  0.000045  16.861310\n",
       "5915  0.647659  0.111845  1.098612  0.052205  0.000024  26.724544\n",
       "818   0.459184  0.594138  1.386294  0.028889  0.000013  33.722620\n",
       "1031  0.495198  0.125550  1.609438  0.039588  0.000018  39.150749"
      ]
     },
     "execution_count": 40,
     "metadata": {},
     "output_type": "execute_result"
    }
   ],
   "source": [
    "fl1h = sub_test['FL1-A'].as_matrix()\n",
    "density = gaussian_kde(fl1h).evaluate(fl1h)\n",
    "sub_test['density'] = density\n",
    "d_sum = sub_test['density'].sum()\n",
    "sub_test['freq'] = sub_test['density'].apply(lambda x: x / d_sum)\n",
    "fl1h_max = sub_test['FL1-A'].max()\n",
    "sub_test['intensity'] = sub_test['FL1-A'].apply(lambda x: 100 * (x / fl1h_max))\n",
    "sub_test.drop_duplicates(['FL1-A', 'density', 'freq', 'intensity'],\n",
    "                         inplace=True)\n",
    "sub_test.sort_values('intensity', inplace=True)\n",
    "sub_test.head()"
   ]
  },
  {
   "cell_type": "code",
   "execution_count": 41,
   "metadata": {},
   "outputs": [
    {
     "name": "stderr",
     "output_type": "stream",
     "text": [
      "C:\\Users\\lzoeckler\\miniconda3\\envs\\DIAMETER\\lib\\site-packages\\ipykernel_launcher.py:5: FutureWarning: Method .as_matrix will be removed in a future version. Use .values instead.\n",
      "  \"\"\"\n",
      "C:\\Users\\lzoeckler\\miniconda3\\envs\\DIAMETER\\lib\\site-packages\\ipykernel_launcher.py:6: FutureWarning: Method .as_matrix will be removed in a future version. Use .values instead.\n",
      "  \n"
     ]
    }
   ],
   "source": [
    "smooth_spline = CubicSpline(sub_test['intensity'], sub_test['freq'])\n",
    "spline_derivative = smooth_spline.derivative()\n",
    "den_x = smooth_spline(sub_test['density'])\n",
    "int_x = smooth_spline(sub_test['intensity'])\n",
    "intense = sub_test['intensity'].as_matrix()\n",
    "dense = sub_test['density'].as_matrix()"
   ]
  },
  {
   "cell_type": "code",
   "execution_count": 42,
   "metadata": {},
   "outputs": [
    {
     "data": {
      "text/plain": [
       "[<matplotlib.lines.Line2D at 0x19ae41bbac8>]"
      ]
     },
     "execution_count": 42,
     "metadata": {},
     "output_type": "execute_result"
    },
    {
     "data": {
      "image/png": "[encoded data removed]",
      "text/plain": [
       "<Figure size 460.8x403.2 with 1 Axes>"
      ]
     },
     "metadata": {},
     "output_type": "display_data"
    }
   ],
   "source": [
    "peaks1, properties1 = find_peaks(dense)\n",
    "plt.plot(intense, dense)\n",
    "plt.plot(intense[peaks1], dense[peaks1], \"o\", color='white')"
   ]
  },
  {
   "cell_type": "code",
   "execution_count": 43,
   "metadata": {},
   "outputs": [
    {
     "data": {
      "text/plain": [
       "[<matplotlib.lines.Line2D at 0x19ae51c99b0>]"
      ]
     },
     "execution_count": 43,
     "metadata": {},
     "output_type": "execute_result"
    },
    {
     "data": {
      "image/png": "[encoded data removed]",
      "text/plain": [
       "<Figure size 460.8x403.2 with 1 Axes>"
      ]
     },
     "metadata": {},
     "output_type": "display_data"
    }
   ],
   "source": [
    "peaks2, properties2 = find_peaks(den_x)\n",
    "plt.plot(int_x, den_x)\n",
    "plt.plot(int_x[peaks2], den_x[peaks2], \"o\", color='white')"
   ]
  },
  {
   "cell_type": "code",
   "execution_count": null,
   "metadata": {},
   "outputs": [],
   "source": []
  },
  {
   "cell_type": "code",
   "execution_count": 32,
   "metadata": {},
   "outputs": [
    {
     "data": {
      "text/plain": [
       "array([16.86130987, 82.73660283])"
      ]
     },
     "execution_count": 32,
     "metadata": {},
     "output_type": "execute_result"
    }
   ],
   "source": [
    "intense[peaks1]"
   ]
  },
  {
   "cell_type": "code",
   "execution_count": 34,
   "metadata": {},
   "outputs": [
    {
     "data": {
      "text/plain": [
       "array([0.09665205, 1.10782862])"
      ]
     },
     "execution_count": 34,
     "metadata": {},
     "output_type": "execute_result"
    }
   ],
   "source": [
    "dense[peaks1]"
   ]
  },
  {
   "cell_type": "code",
   "execution_count": null,
   "metadata": {},
   "outputs": [],
   "source": []
  }
 ],
 "metadata": {
  "kernelspec": {
   "display_name": "Python 3",
   "language": "python",
   "name": "python3"
  },
  "language_info": {
   "codemirror_mode": {
    "name": "ipython",
    "version": 3
   },
   "file_extension": ".py",
   "mimetype": "text/x-python",
   "name": "python",
   "nbconvert_exporter": "python",
   "pygments_lexer": "ipython3",
   "version": "3.7.3"
  }
 },
 "nbformat": 4,
 "nbformat_minor": 2
}
