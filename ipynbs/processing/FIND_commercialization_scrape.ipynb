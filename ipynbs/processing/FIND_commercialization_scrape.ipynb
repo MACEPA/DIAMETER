{
 "cells": [
  {
   "cell_type": "code",
   "execution_count": 1,
   "metadata": {},
   "outputs": [],
   "source": [
    "text = open('C:/Users/lzoeckler/Desktop/scraped.txt')\n",
    "list1 = text.readlines()"
   ]
  },
  {
   "cell_type": "code",
   "execution_count": 29,
   "metadata": {},
   "outputs": [],
   "source": [
    "list2 = [item.split('>') for item in list1]"
   ]
  },
  {
   "cell_type": "code",
   "execution_count": 30,
   "metadata": {},
   "outputs": [
    {
     "data": {
      "text/plain": [
       "['<a href=\"http://www.1drop.co.kr/\" class=\"labo\" target=\"_blank\"',\n",
       " '1drop Inc.</a',\n",
       " ' <a href=\"http://www.1drop.co.kr/sp.php?p=63\" class=\"diag_lk\" target=\"_blank\"',\n",
       " ' 1copyâ„¢ COVID-19 qPCR Kit </a',\n",
       " ' <span class=\"status\"',\n",
       " '(CE-IVD)</span',\n",
       " ' <span class=\"contact\"',\n",
       " '<p',\n",
       " '<a href=\"mailto:mdx@1drop.co.kr\"',\n",
       " 'Contact</a',\n",
       " '</p',\n",
       " '\\n']"
      ]
     },
     "execution_count": 30,
     "metadata": {},
     "output_type": "execute_result"
    }
   ],
   "source": [
    "list2[0]"
   ]
  },
  {
   "cell_type": "code",
   "execution_count": 31,
   "metadata": {},
   "outputs": [
    {
     "data": {
      "text/plain": [
       "['<a href=\"https://www.genetex.com/\" class=\"labo\" target=\"_blank\"',\n",
       " 'GeneTex International Corporation</a',\n",
       " ' <a href=\"https://www.genetex.com/Product/Detail/SARS-CoV-SARS-CoV-2-COVID-19-nucleocapsid-antibody-6H3/GTX632269\" class=\"diag_lk\" target=\"_blank\"',\n",
       " ' SARS-CoV / SARS-CoV-2 (COVID-19) nucleocapsid antibody [6H3] (GTX632269)_ELISA </a',\n",
       " ' <span class=\"status\"',\n",
       " '(RUO)</span',\n",
       " ' <span class=\"contact\"',\n",
       " '<p',\n",
       " '<a href=\"mailto:daith@genetex.com\" target=\"_blank\" rel=\"noopener\"',\n",
       " 'Contact</a',\n",
       " '</p',\n",
       " '\\n']"
      ]
     },
     "execution_count": 31,
     "metadata": {},
     "output_type": "execute_result"
    }
   ],
   "source": [
    "list2[200]"
   ]
  },
  {
   "cell_type": "code",
   "execution_count": 32,
   "metadata": {},
   "outputs": [
    {
     "data": {
      "text/plain": [
       "['<a href=\"http://www.zugotech-labs.com\" class=\"labo\" target=\"_blank\"',\n",
       " 'Zugotech Labs Ltd</a',\n",
       " '  Zugotech COVID-19 IgM/IgG Rapid Test  <span class=\"status\"',\n",
       " '(in development)</span',\n",
       " ' <span class=\"contact\"',\n",
       " '<p',\n",
       " '<a href=\"mailto:info@zugotech-labs.com\" target=\"_blank\" rel=\"noopener\"',\n",
       " 'Contact</a',\n",
       " '</p',\n",
       " '\\n']"
      ]
     },
     "execution_count": 32,
     "metadata": {},
     "output_type": "execute_result"
    }
   ],
   "source": [
    "list2[-1]"
   ]
  },
  {
   "cell_type": "code",
   "execution_count": 51,
   "metadata": {},
   "outputs": [],
   "source": [
    "list3 = []\n",
    "for text_list in list2:\n",
    "    first = text_list[1]\n",
    "    first = first.replace('.</a', '')\n",
    "    second = text_list[2]\n",
    "    second = second.replace('<a', '')\n",
    "    if 'http' in second:\n",
    "        second = second.split('=')[1]\n",
    "    third = text_list[3]\n",
    "    third = third.replace('</a', '')\n",
    "    fourth = text_list[-4]\n",
    "    try:\n",
    "        fourth = fourth.split('=')[1]\n",
    "        fourth = fourth.replace('target', '')\n",
    "    except:\n",
    "        pass\n",
    "    list3.append([first, second, third, fourth])"
   ]
  },
  {
   "cell_type": "code",
   "execution_count": 52,
   "metadata": {},
   "outputs": [
    {
     "data": {
      "text/plain": [
       "['Zugotech Labs Ltd</a',\n",
       " '  Zugotech COVID-19 IgM/IgG Rapid Test  <span class=\"status\"',\n",
       " '(in development)</span',\n",
       " '\"mailto:info@zugotech-labs.com\" ']"
      ]
     },
     "execution_count": 52,
     "metadata": {},
     "output_type": "execute_result"
    }
   ],
   "source": [
    "list3[-1]"
   ]
  },
  {
   "cell_type": "code",
   "execution_count": 53,
   "metadata": {},
   "outputs": [
    {
     "data": {
      "text/plain": [
       "['1drop Inc',\n",
       " '\"http://www.1drop.co.kr/sp.php?p',\n",
       " ' 1copyâ„¢ COVID-19 qPCR Kit ',\n",
       " '\"mailto:mdx@1drop.co.kr\"']"
      ]
     },
     "execution_count": 53,
     "metadata": {},
     "output_type": "execute_result"
    }
   ],
   "source": [
    "list3[0]"
   ]
  },
  {
   "cell_type": "code",
   "execution_count": 54,
   "metadata": {},
   "outputs": [
    {
     "data": {
      "text/plain": [
       "['GeneTex International Corporation</a',\n",
       " '\"https://www.genetex.com/Product/Detail/SARS-CoV-SARS-CoV-2-COVID-19-nucleocapsid-antibody-6H3/GTX632269\" class',\n",
       " ' SARS-CoV / SARS-CoV-2 (COVID-19) nucleocapsid antibody [6H3] (GTX632269)_ELISA ',\n",
       " '\"mailto:daith@genetex.com\" ']"
      ]
     },
     "execution_count": 54,
     "metadata": {},
     "output_type": "execute_result"
    }
   ],
   "source": [
    "list3[200]"
   ]
  },
  {
   "cell_type": "code",
   "execution_count": null,
   "metadata": {},
   "outputs": [],
   "source": []
  }
 ],
 "metadata": {
  "kernelspec": {
   "display_name": "Python 3",
   "language": "python",
   "name": "python3"
  },
  "language_info": {
   "codemirror_mode": {
    "name": "ipython",
    "version": 3
   },
   "file_extension": ".py",
   "mimetype": "text/x-python",
   "name": "python",
   "nbconvert_exporter": "python",
   "pygments_lexer": "ipython3",
   "version": "3.7.4"
  }
 },
 "nbformat": 4,
 "nbformat_minor": 2
}
