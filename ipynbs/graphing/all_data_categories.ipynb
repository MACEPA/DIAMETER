{
 "cells": [
  {
   "cell_type": "code",
   "execution_count": 1,
   "metadata": {},
   "outputs": [],
   "source": [
    "import pandas as pd\n",
    "import numpy as np\n",
    "import math\n",
    "from matplotlib.backends.backend_pdf import PdfPages\n",
    "from functools import partial, reduce\n",
    "import matplotlib.pyplot as plt\n",
    "from scipy.stats import norm\n",
    "import seaborn as sns\n",
    "import os\n",
    "import re\n",
    "import glob"
   ]
  },
  {
   "cell_type": "code",
   "execution_count": 2,
   "metadata": {},
   "outputs": [
    {
     "data": {
      "text/html": [
       "<div>\n",
       "<style scoped>\n",
       "    .dataframe tbody tr th:only-of-type {\n",
       "        vertical-align: middle;\n",
       "    }\n",
       "\n",
       "    .dataframe tbody tr th {\n",
       "        vertical-align: top;\n",
       "    }\n",
       "\n",
       "    .dataframe thead th {\n",
       "        text-align: right;\n",
       "    }\n",
       "</style>\n",
       "<table border=\"1\" class=\"dataframe\">\n",
       "  <thead>\n",
       "    <tr style=\"text-align: right;\">\n",
       "      <th></th>\n",
       "      <th>HRP2_deletion</th>\n",
       "      <th>PCR_pos</th>\n",
       "      <th>age_yrs</th>\n",
       "      <th>coinfection</th>\n",
       "      <th>country</th>\n",
       "      <th>febrile</th>\n",
       "      <th>infection_category</th>\n",
       "      <th>lat</th>\n",
       "      <th>long</th>\n",
       "      <th>microscopy_pos</th>\n",
       "      <th>...</th>\n",
       "      <th>quansys_LDH_Pf_result</th>\n",
       "      <th>quansys_LDH_Pv_bin</th>\n",
       "      <th>quansys_LDH_Pv_pg_ml</th>\n",
       "      <th>quansys_LDH_Pv_result</th>\n",
       "      <th>quansys_type</th>\n",
       "      <th>sample_id</th>\n",
       "      <th>sample_type</th>\n",
       "      <th>study_id</th>\n",
       "      <th>survey</th>\n",
       "      <th>timepoint_days</th>\n",
       "    </tr>\n",
       "  </thead>\n",
       "  <tbody>\n",
       "    <tr>\n",
       "      <td>0</td>\n",
       "      <td>NaN</td>\n",
       "      <td>0.0</td>\n",
       "      <td>NaN</td>\n",
       "      <td>0.0</td>\n",
       "      <td>Myanmar                                       ...</td>\n",
       "      <td>0.0</td>\n",
       "      <td>chronic                                       ...</td>\n",
       "      <td>NaN</td>\n",
       "      <td>NaN</td>\n",
       "      <td>NaN</td>\n",
       "      <td>...</td>\n",
       "      <td>NaN</td>\n",
       "      <td>0.0</td>\n",
       "      <td>&lt; 2.33</td>\n",
       "      <td>0.0</td>\n",
       "      <td>4plex</td>\n",
       "      <td>1 110501023 ()</td>\n",
       "      <td>WB</td>\n",
       "      <td>16-SMRU-01</td>\n",
       "      <td>cross sectional                               ...</td>\n",
       "      <td>NaN</td>\n",
       "    </tr>\n",
       "    <tr>\n",
       "      <td>1</td>\n",
       "      <td>NaN</td>\n",
       "      <td>0.0</td>\n",
       "      <td>NaN</td>\n",
       "      <td>0.0</td>\n",
       "      <td>Myanmar                                       ...</td>\n",
       "      <td>0.0</td>\n",
       "      <td>chronic                                       ...</td>\n",
       "      <td>NaN</td>\n",
       "      <td>NaN</td>\n",
       "      <td>NaN</td>\n",
       "      <td>...</td>\n",
       "      <td>NaN</td>\n",
       "      <td>0.0</td>\n",
       "      <td>&lt; 2.33</td>\n",
       "      <td>0.0</td>\n",
       "      <td>4plex</td>\n",
       "      <td>1 1421001 ()</td>\n",
       "      <td>WB</td>\n",
       "      <td>16-SMRU-01</td>\n",
       "      <td>cross sectional                               ...</td>\n",
       "      <td>NaN</td>\n",
       "    </tr>\n",
       "    <tr>\n",
       "      <td>2</td>\n",
       "      <td>NaN</td>\n",
       "      <td>0.0</td>\n",
       "      <td>NaN</td>\n",
       "      <td>0.0</td>\n",
       "      <td>Myanmar                                       ...</td>\n",
       "      <td>0.0</td>\n",
       "      <td>chronic                                       ...</td>\n",
       "      <td>NaN</td>\n",
       "      <td>NaN</td>\n",
       "      <td>NaN</td>\n",
       "      <td>...</td>\n",
       "      <td>NaN</td>\n",
       "      <td>0.0</td>\n",
       "      <td>&lt; 2.33</td>\n",
       "      <td>0.0</td>\n",
       "      <td>4plex</td>\n",
       "      <td>1 1421035 ()</td>\n",
       "      <td>WB</td>\n",
       "      <td>16-SMRU-01</td>\n",
       "      <td>cross sectional                               ...</td>\n",
       "      <td>NaN</td>\n",
       "    </tr>\n",
       "    <tr>\n",
       "      <td>3</td>\n",
       "      <td>NaN</td>\n",
       "      <td>0.0</td>\n",
       "      <td>NaN</td>\n",
       "      <td>0.0</td>\n",
       "      <td>Myanmar                                       ...</td>\n",
       "      <td>0.0</td>\n",
       "      <td>chronic                                       ...</td>\n",
       "      <td>NaN</td>\n",
       "      <td>NaN</td>\n",
       "      <td>NaN</td>\n",
       "      <td>...</td>\n",
       "      <td>NaN</td>\n",
       "      <td>0.0</td>\n",
       "      <td>&lt; 2.33</td>\n",
       "      <td>0.0</td>\n",
       "      <td>4plex</td>\n",
       "      <td>1 151019 ()</td>\n",
       "      <td>WB</td>\n",
       "      <td>16-SMRU-01</td>\n",
       "      <td>cross sectional                               ...</td>\n",
       "      <td>NaN</td>\n",
       "    </tr>\n",
       "    <tr>\n",
       "      <td>4</td>\n",
       "      <td>NaN</td>\n",
       "      <td>0.0</td>\n",
       "      <td>NaN</td>\n",
       "      <td>0.0</td>\n",
       "      <td>Myanmar                                       ...</td>\n",
       "      <td>0.0</td>\n",
       "      <td>chronic                                       ...</td>\n",
       "      <td>NaN</td>\n",
       "      <td>NaN</td>\n",
       "      <td>NaN</td>\n",
       "      <td>...</td>\n",
       "      <td>NaN</td>\n",
       "      <td>0.0</td>\n",
       "      <td>&lt; 2.33</td>\n",
       "      <td>0.0</td>\n",
       "      <td>4plex</td>\n",
       "      <td>1 1771028 ()</td>\n",
       "      <td>WB</td>\n",
       "      <td>16-SMRU-01</td>\n",
       "      <td>cross sectional                               ...</td>\n",
       "      <td>NaN</td>\n",
       "    </tr>\n",
       "  </tbody>\n",
       "</table>\n",
       "<p>5 rows × 38 columns</p>\n",
       "</div>"
      ],
      "text/plain": [
       "   HRP2_deletion  PCR_pos  age_yrs  coinfection  \\\n",
       "0            NaN      0.0      NaN          0.0   \n",
       "1            NaN      0.0      NaN          0.0   \n",
       "2            NaN      0.0      NaN          0.0   \n",
       "3            NaN      0.0      NaN          0.0   \n",
       "4            NaN      0.0      NaN          0.0   \n",
       "\n",
       "                                             country  febrile  \\\n",
       "0  Myanmar                                       ...      0.0   \n",
       "1  Myanmar                                       ...      0.0   \n",
       "2  Myanmar                                       ...      0.0   \n",
       "3  Myanmar                                       ...      0.0   \n",
       "4  Myanmar                                       ...      0.0   \n",
       "\n",
       "                                  infection_category  lat  long  \\\n",
       "0  chronic                                       ...  NaN   NaN   \n",
       "1  chronic                                       ...  NaN   NaN   \n",
       "2  chronic                                       ...  NaN   NaN   \n",
       "3  chronic                                       ...  NaN   NaN   \n",
       "4  chronic                                       ...  NaN   NaN   \n",
       "\n",
       "   microscopy_pos  ...  quansys_LDH_Pf_result quansys_LDH_Pv_bin  \\\n",
       "0             NaN  ...                    NaN                0.0   \n",
       "1             NaN  ...                    NaN                0.0   \n",
       "2             NaN  ...                    NaN                0.0   \n",
       "3             NaN  ...                    NaN                0.0   \n",
       "4             NaN  ...                    NaN                0.0   \n",
       "\n",
       "   quansys_LDH_Pv_pg_ml  quansys_LDH_Pv_result  quansys_type       sample_id  \\\n",
       "0                < 2.33                    0.0         4plex  1 110501023 ()   \n",
       "1                < 2.33                    0.0         4plex    1 1421001 ()   \n",
       "2                < 2.33                    0.0         4plex    1 1421035 ()   \n",
       "3                < 2.33                    0.0         4plex     1 151019 ()   \n",
       "4                < 2.33                    0.0         4plex    1 1771028 ()   \n",
       "\n",
       "   sample_type    study_id                                             survey  \\\n",
       "0   WB          16-SMRU-01  cross sectional                               ...   \n",
       "1   WB          16-SMRU-01  cross sectional                               ...   \n",
       "2   WB          16-SMRU-01  cross sectional                               ...   \n",
       "3   WB          16-SMRU-01  cross sectional                               ...   \n",
       "4   WB          16-SMRU-01  cross sectional                               ...   \n",
       "\n",
       "   timepoint_days  \n",
       "0             NaN  \n",
       "1             NaN  \n",
       "2             NaN  \n",
       "3             NaN  \n",
       "4             NaN  \n",
       "\n",
       "[5 rows x 38 columns]"
      ]
     },
     "execution_count": 2,
     "metadata": {},
     "output_type": "execute_result"
    }
   ],
   "source": [
    "all_files = glob.glob('C:/Users/lzoeckler/Desktop/all_data/separated/binned/*.csv')\n",
    "big_df = []\n",
    "for file in all_files:\n",
    "    df = pd.read_csv(file)\n",
    "    big_df.append(df)\n",
    "big_df = pd.concat(big_df, sort=True)\n",
    "big_df.head()"
   ]
  },
  {
   "cell_type": "code",
   "execution_count": 22,
   "metadata": {},
   "outputs": [
    {
     "data": {
      "text/plain": [
       "9341"
      ]
     },
     "execution_count": 22,
     "metadata": {},
     "output_type": "execute_result"
    }
   ],
   "source": [
    "len(big_df)"
   ]
  },
  {
   "cell_type": "code",
   "execution_count": 3,
   "metadata": {},
   "outputs": [
    {
     "data": {
      "text/plain": [
       "1487"
      ]
     },
     "execution_count": 3,
     "metadata": {},
     "output_type": "execute_result"
    }
   ],
   "source": [
    "len(big_df.loc[big_df['PCR_pos'] == 1])"
   ]
  },
  {
   "cell_type": "code",
   "execution_count": 4,
   "metadata": {},
   "outputs": [
    {
     "data": {
      "text/plain": [
       "1968"
      ]
     },
     "execution_count": 4,
     "metadata": {},
     "output_type": "execute_result"
    }
   ],
   "source": [
    "len(big_df.loc[big_df['PCR_pos'] == 0])"
   ]
  },
  {
   "cell_type": "code",
   "execution_count": 5,
   "metadata": {},
   "outputs": [
    {
     "data": {
      "text/plain": [
       "2372"
      ]
     },
     "execution_count": 5,
     "metadata": {},
     "output_type": "execute_result"
    }
   ],
   "source": [
    "len(big_df.loc[big_df['pf'] == 1])"
   ]
  },
  {
   "cell_type": "code",
   "execution_count": 6,
   "metadata": {},
   "outputs": [
    {
     "data": {
      "text/plain": [
       "620"
      ]
     },
     "execution_count": 6,
     "metadata": {},
     "output_type": "execute_result"
    }
   ],
   "source": [
    "len(big_df.loc[big_df['pv'] == 1])"
   ]
  },
  {
   "cell_type": "code",
   "execution_count": 7,
   "metadata": {},
   "outputs": [
    {
     "data": {
      "text/plain": [
       "160"
      ]
     },
     "execution_count": 7,
     "metadata": {},
     "output_type": "execute_result"
    }
   ],
   "source": [
    "len(big_df.loc[big_df['pm'] == 1]) + len(big_df.loc[big_df['po'] == 1]) + len(big_df.loc[big_df['p_spp'] == 1])"
   ]
  },
  {
   "cell_type": "code",
   "execution_count": 16,
   "metadata": {},
   "outputs": [],
   "source": [
    "big_df['infection_category'] = big_df['infection_category'].str.strip()"
   ]
  },
  {
   "cell_type": "code",
   "execution_count": 17,
   "metadata": {},
   "outputs": [
    {
     "data": {
      "text/plain": [
       "array(['chronic', nan, 'symptomatic', 'uninfected', 'nascent', 'clearing'],\n",
       "      dtype=object)"
      ]
     },
     "execution_count": 17,
     "metadata": {},
     "output_type": "execute_result"
    }
   ],
   "source": [
    "big_df['infection_category'].unique()"
   ]
  },
  {
   "cell_type": "code",
   "execution_count": 18,
   "metadata": {},
   "outputs": [
    {
     "data": {
      "text/plain": [
       "1854"
      ]
     },
     "execution_count": 18,
     "metadata": {},
     "output_type": "execute_result"
    }
   ],
   "source": [
    "len(big_df.loc[big_df['infection_category'] == 'chronic'])"
   ]
  },
  {
   "cell_type": "code",
   "execution_count": 19,
   "metadata": {},
   "outputs": [
    {
     "data": {
      "text/plain": [
       "347"
      ]
     },
     "execution_count": 19,
     "metadata": {},
     "output_type": "execute_result"
    }
   ],
   "source": [
    "len(big_df.loc[big_df['infection_category'] == 'symptomatic'])"
   ]
  },
  {
   "cell_type": "code",
   "execution_count": 20,
   "metadata": {},
   "outputs": [
    {
     "data": {
      "text/plain": [
       "273"
      ]
     },
     "execution_count": 20,
     "metadata": {},
     "output_type": "execute_result"
    }
   ],
   "source": [
    "len(big_df.loc[big_df['infection_category'] == 'nascent'])"
   ]
  },
  {
   "cell_type": "code",
   "execution_count": 21,
   "metadata": {},
   "outputs": [
    {
     "data": {
      "text/plain": [
       "1613"
      ]
     },
     "execution_count": 21,
     "metadata": {},
     "output_type": "execute_result"
    }
   ],
   "source": [
    "len(big_df.loc[big_df['infection_category'] == 'clearing'])"
   ]
  },
  {
   "cell_type": "code",
   "execution_count": null,
   "metadata": {},
   "outputs": [],
   "source": []
  }
 ],
 "metadata": {
  "kernelspec": {
   "display_name": "Python 3",
   "language": "python",
   "name": "python3"
  },
  "language_info": {
   "codemirror_mode": {
    "name": "ipython",
    "version": 3
   },
   "file_extension": ".py",
   "mimetype": "text/x-python",
   "name": "python",
   "nbconvert_exporter": "python",
   "pygments_lexer": "ipython3",
   "version": "3.7.4"
  }
 },
 "nbformat": 4,
 "nbformat_minor": 2
}
