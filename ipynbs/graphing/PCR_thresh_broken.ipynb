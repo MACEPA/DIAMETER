{
 "cells": [
  {
   "cell_type": "code",
   "execution_count": 1,
   "metadata": {},
   "outputs": [],
   "source": [
    "import pandas as pd\n",
    "import numpy as np\n",
    "import math\n",
    "from matplotlib.backends.backend_pdf import PdfPages\n",
    "from functools import partial, reduce\n",
    "import matplotlib.pyplot as plt\n",
    "from scipy.stats import norm\n",
    "import seaborn as sns\n",
    "import os\n",
    "import re\n",
    "import glob"
   ]
  },
  {
   "cell_type": "code",
   "execution_count": 2,
   "metadata": {},
   "outputs": [
    {
     "data": {
      "text/html": [
       "<div>\n",
       "<style scoped>\n",
       "    .dataframe tbody tr th:only-of-type {\n",
       "        vertical-align: middle;\n",
       "    }\n",
       "\n",
       "    .dataframe tbody tr th {\n",
       "        vertical-align: top;\n",
       "    }\n",
       "\n",
       "    .dataframe thead th {\n",
       "        text-align: right;\n",
       "    }\n",
       "</style>\n",
       "<table border=\"1\" class=\"dataframe\">\n",
       "  <thead>\n",
       "    <tr style=\"text-align: right;\">\n",
       "      <th></th>\n",
       "      <th>HRP2_deletion</th>\n",
       "      <th>PCR_pos</th>\n",
       "      <th>age_yrs</th>\n",
       "      <th>coinfection</th>\n",
       "      <th>country</th>\n",
       "      <th>febrile</th>\n",
       "      <th>infection_category</th>\n",
       "      <th>lat</th>\n",
       "      <th>long</th>\n",
       "      <th>microscopy_pos</th>\n",
       "      <th>...</th>\n",
       "      <th>quansys_LDH_Pf_result</th>\n",
       "      <th>quansys_LDH_Pv_bin</th>\n",
       "      <th>quansys_LDH_Pv_pg_ml</th>\n",
       "      <th>quansys_LDH_Pv_result</th>\n",
       "      <th>quansys_type</th>\n",
       "      <th>sample_id</th>\n",
       "      <th>sample_type</th>\n",
       "      <th>study_id</th>\n",
       "      <th>survey</th>\n",
       "      <th>timepoint_days</th>\n",
       "    </tr>\n",
       "  </thead>\n",
       "  <tbody>\n",
       "    <tr>\n",
       "      <td>0</td>\n",
       "      <td>NaN</td>\n",
       "      <td>0.0</td>\n",
       "      <td>NaN</td>\n",
       "      <td>0.0</td>\n",
       "      <td>Myanmar                                       ...</td>\n",
       "      <td>0.0</td>\n",
       "      <td>chronic                                       ...</td>\n",
       "      <td>NaN</td>\n",
       "      <td>NaN</td>\n",
       "      <td>NaN</td>\n",
       "      <td>...</td>\n",
       "      <td>NaN</td>\n",
       "      <td>0.0</td>\n",
       "      <td>&lt; 2.33</td>\n",
       "      <td>0.0</td>\n",
       "      <td>4plex</td>\n",
       "      <td>1 110501023 ()</td>\n",
       "      <td>WB</td>\n",
       "      <td>16-SMRU-01</td>\n",
       "      <td>cross sectional                               ...</td>\n",
       "      <td>NaN</td>\n",
       "    </tr>\n",
       "    <tr>\n",
       "      <td>1</td>\n",
       "      <td>NaN</td>\n",
       "      <td>0.0</td>\n",
       "      <td>NaN</td>\n",
       "      <td>0.0</td>\n",
       "      <td>Myanmar                                       ...</td>\n",
       "      <td>0.0</td>\n",
       "      <td>chronic                                       ...</td>\n",
       "      <td>NaN</td>\n",
       "      <td>NaN</td>\n",
       "      <td>NaN</td>\n",
       "      <td>...</td>\n",
       "      <td>NaN</td>\n",
       "      <td>0.0</td>\n",
       "      <td>&lt; 2.33</td>\n",
       "      <td>0.0</td>\n",
       "      <td>4plex</td>\n",
       "      <td>1 1421001 ()</td>\n",
       "      <td>WB</td>\n",
       "      <td>16-SMRU-01</td>\n",
       "      <td>cross sectional                               ...</td>\n",
       "      <td>NaN</td>\n",
       "    </tr>\n",
       "    <tr>\n",
       "      <td>2</td>\n",
       "      <td>NaN</td>\n",
       "      <td>0.0</td>\n",
       "      <td>NaN</td>\n",
       "      <td>0.0</td>\n",
       "      <td>Myanmar                                       ...</td>\n",
       "      <td>0.0</td>\n",
       "      <td>chronic                                       ...</td>\n",
       "      <td>NaN</td>\n",
       "      <td>NaN</td>\n",
       "      <td>NaN</td>\n",
       "      <td>...</td>\n",
       "      <td>NaN</td>\n",
       "      <td>0.0</td>\n",
       "      <td>&lt; 2.33</td>\n",
       "      <td>0.0</td>\n",
       "      <td>4plex</td>\n",
       "      <td>1 1421035 ()</td>\n",
       "      <td>WB</td>\n",
       "      <td>16-SMRU-01</td>\n",
       "      <td>cross sectional                               ...</td>\n",
       "      <td>NaN</td>\n",
       "    </tr>\n",
       "    <tr>\n",
       "      <td>3</td>\n",
       "      <td>NaN</td>\n",
       "      <td>0.0</td>\n",
       "      <td>NaN</td>\n",
       "      <td>0.0</td>\n",
       "      <td>Myanmar                                       ...</td>\n",
       "      <td>0.0</td>\n",
       "      <td>chronic                                       ...</td>\n",
       "      <td>NaN</td>\n",
       "      <td>NaN</td>\n",
       "      <td>NaN</td>\n",
       "      <td>...</td>\n",
       "      <td>NaN</td>\n",
       "      <td>0.0</td>\n",
       "      <td>&lt; 2.33</td>\n",
       "      <td>0.0</td>\n",
       "      <td>4plex</td>\n",
       "      <td>1 151019 ()</td>\n",
       "      <td>WB</td>\n",
       "      <td>16-SMRU-01</td>\n",
       "      <td>cross sectional                               ...</td>\n",
       "      <td>NaN</td>\n",
       "    </tr>\n",
       "    <tr>\n",
       "      <td>4</td>\n",
       "      <td>NaN</td>\n",
       "      <td>0.0</td>\n",
       "      <td>NaN</td>\n",
       "      <td>0.0</td>\n",
       "      <td>Myanmar                                       ...</td>\n",
       "      <td>0.0</td>\n",
       "      <td>chronic                                       ...</td>\n",
       "      <td>NaN</td>\n",
       "      <td>NaN</td>\n",
       "      <td>NaN</td>\n",
       "      <td>...</td>\n",
       "      <td>NaN</td>\n",
       "      <td>0.0</td>\n",
       "      <td>&lt; 2.33</td>\n",
       "      <td>0.0</td>\n",
       "      <td>4plex</td>\n",
       "      <td>1 1771028 ()</td>\n",
       "      <td>WB</td>\n",
       "      <td>16-SMRU-01</td>\n",
       "      <td>cross sectional                               ...</td>\n",
       "      <td>NaN</td>\n",
       "    </tr>\n",
       "  </tbody>\n",
       "</table>\n",
       "<p>5 rows × 38 columns</p>\n",
       "</div>"
      ],
      "text/plain": [
       "   HRP2_deletion  PCR_pos  age_yrs  coinfection  \\\n",
       "0            NaN      0.0      NaN          0.0   \n",
       "1            NaN      0.0      NaN          0.0   \n",
       "2            NaN      0.0      NaN          0.0   \n",
       "3            NaN      0.0      NaN          0.0   \n",
       "4            NaN      0.0      NaN          0.0   \n",
       "\n",
       "                                             country  febrile  \\\n",
       "0  Myanmar                                       ...      0.0   \n",
       "1  Myanmar                                       ...      0.0   \n",
       "2  Myanmar                                       ...      0.0   \n",
       "3  Myanmar                                       ...      0.0   \n",
       "4  Myanmar                                       ...      0.0   \n",
       "\n",
       "                                  infection_category  lat  long  \\\n",
       "0  chronic                                       ...  NaN   NaN   \n",
       "1  chronic                                       ...  NaN   NaN   \n",
       "2  chronic                                       ...  NaN   NaN   \n",
       "3  chronic                                       ...  NaN   NaN   \n",
       "4  chronic                                       ...  NaN   NaN   \n",
       "\n",
       "   microscopy_pos  ...  quansys_LDH_Pf_result quansys_LDH_Pv_bin  \\\n",
       "0             NaN  ...                    NaN                0.0   \n",
       "1             NaN  ...                    NaN                0.0   \n",
       "2             NaN  ...                    NaN                0.0   \n",
       "3             NaN  ...                    NaN                0.0   \n",
       "4             NaN  ...                    NaN                0.0   \n",
       "\n",
       "   quansys_LDH_Pv_pg_ml  quansys_LDH_Pv_result  quansys_type       sample_id  \\\n",
       "0                < 2.33                    0.0         4plex  1 110501023 ()   \n",
       "1                < 2.33                    0.0         4plex    1 1421001 ()   \n",
       "2                < 2.33                    0.0         4plex    1 1421035 ()   \n",
       "3                < 2.33                    0.0         4plex     1 151019 ()   \n",
       "4                < 2.33                    0.0         4plex    1 1771028 ()   \n",
       "\n",
       "   sample_type    study_id                                             survey  \\\n",
       "0   WB          16-SMRU-01  cross sectional                               ...   \n",
       "1   WB          16-SMRU-01  cross sectional                               ...   \n",
       "2   WB          16-SMRU-01  cross sectional                               ...   \n",
       "3   WB          16-SMRU-01  cross sectional                               ...   \n",
       "4   WB          16-SMRU-01  cross sectional                               ...   \n",
       "\n",
       "   timepoint_days  \n",
       "0             NaN  \n",
       "1             NaN  \n",
       "2             NaN  \n",
       "3             NaN  \n",
       "4             NaN  \n",
       "\n",
       "[5 rows x 38 columns]"
      ]
     },
     "execution_count": 2,
     "metadata": {},
     "output_type": "execute_result"
    }
   ],
   "source": [
    "all_files = glob.glob('C:/Users/lzoeckler/Desktop/all_data/separated/binned/*.csv')\n",
    "big_df = []\n",
    "for file in all_files:\n",
    "    df = pd.read_csv(file)\n",
    "    big_df.append(df)\n",
    "big_df = pd.concat(big_df, sort=True)\n",
    "big_df = big_df.loc[~big_df['PCR_pos'].isnull()]\n",
    "big_df.head()"
   ]
  },
  {
   "cell_type": "code",
   "execution_count": 3,
   "metadata": {},
   "outputs": [],
   "source": [
    "def clean_strings(val):\n",
    "    if isinstance(val, str):\n",
    "        if '<' in val:\n",
    "            return np.log10(.1)\n",
    "        elif '>' in val:\n",
    "            clean = val.replace('> ', '')\n",
    "            return np.log10(float(clean) + .1)\n",
    "        else:\n",
    "            try:\n",
    "                return np.log10(float(val) + .1)\n",
    "            except ValueError:\n",
    "                return np.null\n",
    "    elif isinstance(val, float) or isinstance(val, int):\n",
    "        return np.log10(val + .1)\n",
    "    else:\n",
    "        raise"
   ]
  },
  {
   "cell_type": "code",
   "execution_count": 4,
   "metadata": {},
   "outputs": [],
   "source": [
    "val_cols = ['quansys_HRP2_pg_ml', 'quansys_LDH_Pan_pg_ml', 'quansys_LDH_Pv_pg_ml',\n",
    "            'quansys_LDH_Pf_pg_ml', 'quansys_CRP_ng_ml']"
   ]
  },
  {
   "cell_type": "code",
   "execution_count": 5,
   "metadata": {},
   "outputs": [],
   "source": [
    "pos_df = big_df.loc[big_df['PCR_pos'] == 1]\n",
    "pos_df = pos_df.loc[~pos_df['quansys_LDH_Pv_pg_ml'].isnull()]\n",
    "pos_df = pos_df.loc[~pos_df['quansys_HRP2_pg_ml'].isnull()]\n",
    "pos_df[val_cols] = pos_df[val_cols].applymap(clean_strings)"
   ]
  },
  {
   "cell_type": "code",
   "execution_count": 6,
   "metadata": {},
   "outputs": [],
   "source": [
    "feb_df = pos_df.copy(deep=True)\n",
    "feb_df = feb_df.loc[feb_df['febrile'] == 1]\n",
    "feb_pf_df = feb_df.loc[feb_df['pf'] == 1]\n",
    "feb_pv_df = feb_df.loc[feb_df['pv'] == 1]\n",
    "feb_pf_df = feb_pf_df[val_cols + ['PCR_pos', 'sample_id']]\n",
    "feb_pv_df = feb_pv_df[val_cols + ['PCR_pos', 'sample_id']]\n",
    "feb_df = feb_df[val_cols + ['PCR_pos', 'sample_id']]"
   ]
  },
  {
   "cell_type": "code",
   "execution_count": 7,
   "metadata": {},
   "outputs": [],
   "source": [
    "non_feb_df = pos_df.copy(deep=True)\n",
    "non_feb_df = non_feb_df.loc[non_feb_df['febrile'] == 0]\n",
    "non_feb_pf_df = non_feb_df.loc[non_feb_df['pf'] == 1]\n",
    "non_feb_pv_df = non_feb_df.loc[non_feb_df['pv'] == 1]\n",
    "non_feb_pf_df = non_feb_pf_df[val_cols + ['PCR_pos', 'sample_id']]\n",
    "non_feb_pv_df = non_feb_pv_df[val_cols + ['PCR_pos', 'sample_id']]\n",
    "non_feb_df = non_feb_df[val_cols + ['PCR_pos', 'sample_id']]"
   ]
  },
  {
   "cell_type": "code",
   "execution_count": 12,
   "metadata": {},
   "outputs": [
    {
     "data": {
      "image/png": "[encoded data removed]",
      "text/plain": [
       "<Figure size 432x288 with 1 Axes>"
      ]
     },
     "metadata": {
      "needs_background": "light"
     },
     "output_type": "display_data"
    }
   ],
   "source": [
    "x = non_feb_df['quansys_LDH_Pan_pg_ml'].values\n",
    "ax = sns.distplot(x, hist=False, color='k')\n",
    "ln = ax.lines[0]\n",
    "y = ln.get_ydata()\n",
    "x1 = ln.get_xdata()\n",
    "ax.fill_between(x1, 0, y, where=(0 > x1) & (x1 > -2), color='k')\n",
    "plt.show()\n",
    "plt.close()"
   ]
  },
  {
   "cell_type": "code",
   "execution_count": 13,
   "metadata": {},
   "outputs": [
    {
     "ename": "ValueError",
     "evalue": "operands could not be broadcast together with shapes (210,) (128,) ",
     "output_type": "error",
     "traceback": [
      "\u001b[1;31m---------------------------------------------------------------------------\u001b[0m",
      "\u001b[1;31mValueError\u001b[0m                                Traceback (most recent call last)",
      "\u001b[1;32m<ipython-input-13-059e7b0ba301>\u001b[0m in \u001b[0;36m<module>\u001b[1;34m\u001b[0m\n\u001b[0;32m      7\u001b[0m     \u001b[0my\u001b[0m \u001b[1;33m=\u001b[0m \u001b[0mln\u001b[0m\u001b[1;33m.\u001b[0m\u001b[0mget_ydata\u001b[0m\u001b[1;33m(\u001b[0m\u001b[1;33m)\u001b[0m\u001b[1;33m\u001b[0m\u001b[1;33m\u001b[0m\u001b[0m\n\u001b[0;32m      8\u001b[0m     \u001b[0mx2a\u001b[0m \u001b[1;33m=\u001b[0m \u001b[0mln\u001b[0m\u001b[1;33m.\u001b[0m\u001b[0mget_xdata\u001b[0m\u001b[1;33m(\u001b[0m\u001b[1;33m)\u001b[0m\u001b[1;33m\u001b[0m\u001b[1;33m\u001b[0m\u001b[0m\n\u001b[1;32m----> 9\u001b[1;33m     \u001b[0max\u001b[0m\u001b[1;33m.\u001b[0m\u001b[0mfill_between\u001b[0m\u001b[1;33m(\u001b[0m\u001b[0mx2\u001b[0m\u001b[1;33m,\u001b[0m \u001b[1;36m0\u001b[0m\u001b[1;33m,\u001b[0m \u001b[0my\u001b[0m\u001b[1;33m,\u001b[0m \u001b[0mwhere\u001b[0m\u001b[1;33m=\u001b[0m\u001b[1;33m(\u001b[0m\u001b[1;36m1\u001b[0m \u001b[1;33m>\u001b[0m \u001b[0mx2\u001b[0m\u001b[1;33m)\u001b[0m \u001b[1;33m&\u001b[0m \u001b[1;33m(\u001b[0m\u001b[0mx2\u001b[0m \u001b[1;33m>\u001b[0m \u001b[1;36m0\u001b[0m\u001b[1;33m)\u001b[0m\u001b[1;33m,\u001b[0m \u001b[0mcolor\u001b[0m\u001b[1;33m=\u001b[0m\u001b[1;34m'purple'\u001b[0m\u001b[1;33m)\u001b[0m\u001b[1;33m\u001b[0m\u001b[1;33m\u001b[0m\u001b[0m\n\u001b[0m\u001b[0;32m     10\u001b[0m     \u001b[0mplt\u001b[0m\u001b[1;33m.\u001b[0m\u001b[0mshow\u001b[0m\u001b[1;33m(\u001b[0m\u001b[1;33m)\u001b[0m\u001b[1;33m\u001b[0m\u001b[1;33m\u001b[0m\u001b[0m\n\u001b[0;32m     11\u001b[0m     \u001b[0mplt\u001b[0m\u001b[1;33m.\u001b[0m\u001b[0mclose\u001b[0m\u001b[1;33m(\u001b[0m\u001b[1;33m)\u001b[0m\u001b[1;33m\u001b[0m\u001b[1;33m\u001b[0m\u001b[0m\n",
      "\u001b[1;32m~\\AppData\\Local\\Continuum\\anaconda3\\lib\\site-packages\\matplotlib\\__init__.py\u001b[0m in \u001b[0;36minner\u001b[1;34m(ax, data, *args, **kwargs)\u001b[0m\n\u001b[0;32m   1599\u001b[0m     \u001b[1;32mdef\u001b[0m \u001b[0minner\u001b[0m\u001b[1;33m(\u001b[0m\u001b[0max\u001b[0m\u001b[1;33m,\u001b[0m \u001b[1;33m*\u001b[0m\u001b[0margs\u001b[0m\u001b[1;33m,\u001b[0m \u001b[0mdata\u001b[0m\u001b[1;33m=\u001b[0m\u001b[1;32mNone\u001b[0m\u001b[1;33m,\u001b[0m \u001b[1;33m**\u001b[0m\u001b[0mkwargs\u001b[0m\u001b[1;33m)\u001b[0m\u001b[1;33m:\u001b[0m\u001b[1;33m\u001b[0m\u001b[1;33m\u001b[0m\u001b[0m\n\u001b[0;32m   1600\u001b[0m         \u001b[1;32mif\u001b[0m \u001b[0mdata\u001b[0m \u001b[1;32mis\u001b[0m \u001b[1;32mNone\u001b[0m\u001b[1;33m:\u001b[0m\u001b[1;33m\u001b[0m\u001b[1;33m\u001b[0m\u001b[0m\n\u001b[1;32m-> 1601\u001b[1;33m             \u001b[1;32mreturn\u001b[0m \u001b[0mfunc\u001b[0m\u001b[1;33m(\u001b[0m\u001b[0max\u001b[0m\u001b[1;33m,\u001b[0m \u001b[1;33m*\u001b[0m\u001b[0mmap\u001b[0m\u001b[1;33m(\u001b[0m\u001b[0msanitize_sequence\u001b[0m\u001b[1;33m,\u001b[0m \u001b[0margs\u001b[0m\u001b[1;33m)\u001b[0m\u001b[1;33m,\u001b[0m \u001b[1;33m**\u001b[0m\u001b[0mkwargs\u001b[0m\u001b[1;33m)\u001b[0m\u001b[1;33m\u001b[0m\u001b[1;33m\u001b[0m\u001b[0m\n\u001b[0m\u001b[0;32m   1602\u001b[0m \u001b[1;33m\u001b[0m\u001b[0m\n\u001b[0;32m   1603\u001b[0m         \u001b[0mbound\u001b[0m \u001b[1;33m=\u001b[0m \u001b[0mnew_sig\u001b[0m\u001b[1;33m.\u001b[0m\u001b[0mbind\u001b[0m\u001b[1;33m(\u001b[0m\u001b[0max\u001b[0m\u001b[1;33m,\u001b[0m \u001b[1;33m*\u001b[0m\u001b[0margs\u001b[0m\u001b[1;33m,\u001b[0m \u001b[1;33m**\u001b[0m\u001b[0mkwargs\u001b[0m\u001b[1;33m)\u001b[0m\u001b[1;33m\u001b[0m\u001b[1;33m\u001b[0m\u001b[0m\n",
      "\u001b[1;32m~\\AppData\\Local\\Continuum\\anaconda3\\lib\\site-packages\\matplotlib\\axes\\_axes.py\u001b[0m in \u001b[0;36mfill_between\u001b[1;34m(self, x, y1, y2, where, interpolate, step, **kwargs)\u001b[0m\n\u001b[0;32m   5234\u001b[0m             \u001b[0mwhere\u001b[0m \u001b[1;33m=\u001b[0m \u001b[1;32mTrue\u001b[0m\u001b[1;33m\u001b[0m\u001b[1;33m\u001b[0m\u001b[0m\n\u001b[0;32m   5235\u001b[0m         where = where & ~functools.reduce(np.logical_or,\n\u001b[1;32m-> 5236\u001b[1;33m                                           map(np.ma.getmask, [x, y1, y2]))\n\u001b[0m\u001b[0;32m   5237\u001b[0m \u001b[1;33m\u001b[0m\u001b[0m\n\u001b[0;32m   5238\u001b[0m         \u001b[0mx\u001b[0m\u001b[1;33m,\u001b[0m \u001b[0my1\u001b[0m\u001b[1;33m,\u001b[0m \u001b[0my2\u001b[0m \u001b[1;33m=\u001b[0m \u001b[0mnp\u001b[0m\u001b[1;33m.\u001b[0m\u001b[0mbroadcast_arrays\u001b[0m\u001b[1;33m(\u001b[0m\u001b[0mnp\u001b[0m\u001b[1;33m.\u001b[0m\u001b[0matleast_1d\u001b[0m\u001b[1;33m(\u001b[0m\u001b[0mx\u001b[0m\u001b[1;33m)\u001b[0m\u001b[1;33m,\u001b[0m \u001b[0my1\u001b[0m\u001b[1;33m,\u001b[0m \u001b[0my2\u001b[0m\u001b[1;33m)\u001b[0m\u001b[1;33m\u001b[0m\u001b[1;33m\u001b[0m\u001b[0m\n",
      "\u001b[1;31mValueError\u001b[0m: operands could not be broadcast together with shapes (210,) (128,) "
     ]
    },
    {
     "data": {
      "image/png": "[encoded data removed]",
      "text/plain": [
       "<Figure size 432x288 with 1 Axes>"
      ]
     },
     "metadata": {
      "needs_background": "light"
     },
     "output_type": "display_data"
    }
   ],
   "source": [
    "for feb_df, non_feb_df, species in [(feb_pf_df, non_feb_pf_df, 'Pf'), (feb_pv_df, non_feb_pv_df, 'Pv')]:\n",
    "    x1 = feb_df['quansys_LDH_Pan_pg_ml'].values\n",
    "    x2 = non_feb_df['quansys_LDH_Pan_pg_ml'].values\n",
    "    ax = sns.distplot(x2, hist=False, color='k', label='Non-febrile')\n",
    "    lns = ax.lines\n",
    "    ln = ax.lines[0]\n",
    "    y = ln.get_ydata()\n",
    "    x2a = ln.get_xdata()\n",
    "    ax.fill_between(x2, 0, y, where=(1 > x2) & (x2 > 0), color='purple')\n",
    "    plt.show()\n",
    "    plt.close()"
   ]
  },
  {
   "cell_type": "code",
   "execution_count": 37,
   "metadata": {},
   "outputs": [
    {
     "data": {
      "text/plain": [
       "210"
      ]
     },
     "execution_count": 37,
     "metadata": {},
     "output_type": "execute_result"
    }
   ],
   "source": [
    "len(x2)"
   ]
  },
  {
   "cell_type": "code",
   "execution_count": 38,
   "metadata": {},
   "outputs": [
    {
     "data": {
      "text/plain": [
       "128"
      ]
     },
     "execution_count": 38,
     "metadata": {},
     "output_type": "execute_result"
    }
   ],
   "source": [
    "len(y)"
   ]
  },
  {
   "cell_type": "code",
   "execution_count": null,
   "metadata": {},
   "outputs": [],
   "source": []
  }
 ],
 "metadata": {
  "kernelspec": {
   "display_name": "Python 3",
   "language": "python",
   "name": "python3"
  },
  "language_info": {
   "codemirror_mode": {
    "name": "ipython",
    "version": 3
   },
   "file_extension": ".py",
   "mimetype": "text/x-python",
   "name": "python",
   "nbconvert_exporter": "python",
   "pygments_lexer": "ipython3",
   "version": "3.7.4"
  }
 },
 "nbformat": 4,
 "nbformat_minor": 2
}
