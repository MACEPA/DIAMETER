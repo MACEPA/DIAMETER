{
 "cells": [
  {
   "cell_type": "code",
   "execution_count": 1,
   "metadata": {},
   "outputs": [],
   "source": [
    "import pandas as pd\n",
    "import numpy as np\n",
    "import math\n",
    "from matplotlib.backends.backend_pdf import PdfPages\n",
    "from functools import partial, reduce\n",
    "import matplotlib.pyplot as plt\n",
    "from scipy.stats import norm\n",
    "import seaborn as sns\n",
    "import os\n",
    "import re\n",
    "import glob"
   ]
  },
  {
   "cell_type": "code",
   "execution_count": 2,
   "metadata": {},
   "outputs": [
    {
     "data": {
      "text/html": [
       "<div>\n",
       "<style scoped>\n",
       "    .dataframe tbody tr th:only-of-type {\n",
       "        vertical-align: middle;\n",
       "    }\n",
       "\n",
       "    .dataframe tbody tr th {\n",
       "        vertical-align: top;\n",
       "    }\n",
       "\n",
       "    .dataframe thead th {\n",
       "        text-align: right;\n",
       "    }\n",
       "</style>\n",
       "<table border=\"1\" class=\"dataframe\">\n",
       "  <thead>\n",
       "    <tr style=\"text-align: right;\">\n",
       "      <th></th>\n",
       "      <th>HRP2_deletion</th>\n",
       "      <th>PCR_pos</th>\n",
       "      <th>age_yrs</th>\n",
       "      <th>coinfection</th>\n",
       "      <th>country</th>\n",
       "      <th>febrile</th>\n",
       "      <th>infection_category</th>\n",
       "      <th>lat</th>\n",
       "      <th>long</th>\n",
       "      <th>microscopy_pos</th>\n",
       "      <th>...</th>\n",
       "      <th>quansys_LDH_Pf_result</th>\n",
       "      <th>quansys_LDH_Pv_bin</th>\n",
       "      <th>quansys_LDH_Pv_pg_ml</th>\n",
       "      <th>quansys_LDH_Pv_result</th>\n",
       "      <th>quansys_type</th>\n",
       "      <th>sample_id</th>\n",
       "      <th>sample_type</th>\n",
       "      <th>study_id</th>\n",
       "      <th>survey</th>\n",
       "      <th>timepoint_days</th>\n",
       "    </tr>\n",
       "  </thead>\n",
       "  <tbody>\n",
       "    <tr>\n",
       "      <td>0</td>\n",
       "      <td>NaN</td>\n",
       "      <td>0.0</td>\n",
       "      <td>NaN</td>\n",
       "      <td>0.0</td>\n",
       "      <td>Myanmar                                       ...</td>\n",
       "      <td>0.0</td>\n",
       "      <td>chronic                                       ...</td>\n",
       "      <td>NaN</td>\n",
       "      <td>NaN</td>\n",
       "      <td>NaN</td>\n",
       "      <td>...</td>\n",
       "      <td>NaN</td>\n",
       "      <td>0.0</td>\n",
       "      <td>&lt; 2.33</td>\n",
       "      <td>0.0</td>\n",
       "      <td>4plex</td>\n",
       "      <td>1 110501023 ()</td>\n",
       "      <td>WB</td>\n",
       "      <td>16-SMRU-01</td>\n",
       "      <td>cross sectional                               ...</td>\n",
       "      <td>NaN</td>\n",
       "    </tr>\n",
       "    <tr>\n",
       "      <td>1</td>\n",
       "      <td>NaN</td>\n",
       "      <td>0.0</td>\n",
       "      <td>NaN</td>\n",
       "      <td>0.0</td>\n",
       "      <td>Myanmar                                       ...</td>\n",
       "      <td>0.0</td>\n",
       "      <td>chronic                                       ...</td>\n",
       "      <td>NaN</td>\n",
       "      <td>NaN</td>\n",
       "      <td>NaN</td>\n",
       "      <td>...</td>\n",
       "      <td>NaN</td>\n",
       "      <td>0.0</td>\n",
       "      <td>&lt; 2.33</td>\n",
       "      <td>0.0</td>\n",
       "      <td>4plex</td>\n",
       "      <td>1 1421001 ()</td>\n",
       "      <td>WB</td>\n",
       "      <td>16-SMRU-01</td>\n",
       "      <td>cross sectional                               ...</td>\n",
       "      <td>NaN</td>\n",
       "    </tr>\n",
       "    <tr>\n",
       "      <td>2</td>\n",
       "      <td>NaN</td>\n",
       "      <td>0.0</td>\n",
       "      <td>NaN</td>\n",
       "      <td>0.0</td>\n",
       "      <td>Myanmar                                       ...</td>\n",
       "      <td>0.0</td>\n",
       "      <td>chronic                                       ...</td>\n",
       "      <td>NaN</td>\n",
       "      <td>NaN</td>\n",
       "      <td>NaN</td>\n",
       "      <td>...</td>\n",
       "      <td>NaN</td>\n",
       "      <td>0.0</td>\n",
       "      <td>&lt; 2.33</td>\n",
       "      <td>0.0</td>\n",
       "      <td>4plex</td>\n",
       "      <td>1 1421035 ()</td>\n",
       "      <td>WB</td>\n",
       "      <td>16-SMRU-01</td>\n",
       "      <td>cross sectional                               ...</td>\n",
       "      <td>NaN</td>\n",
       "    </tr>\n",
       "    <tr>\n",
       "      <td>3</td>\n",
       "      <td>NaN</td>\n",
       "      <td>0.0</td>\n",
       "      <td>NaN</td>\n",
       "      <td>0.0</td>\n",
       "      <td>Myanmar                                       ...</td>\n",
       "      <td>0.0</td>\n",
       "      <td>chronic                                       ...</td>\n",
       "      <td>NaN</td>\n",
       "      <td>NaN</td>\n",
       "      <td>NaN</td>\n",
       "      <td>...</td>\n",
       "      <td>NaN</td>\n",
       "      <td>0.0</td>\n",
       "      <td>&lt; 2.33</td>\n",
       "      <td>0.0</td>\n",
       "      <td>4plex</td>\n",
       "      <td>1 151019 ()</td>\n",
       "      <td>WB</td>\n",
       "      <td>16-SMRU-01</td>\n",
       "      <td>cross sectional                               ...</td>\n",
       "      <td>NaN</td>\n",
       "    </tr>\n",
       "    <tr>\n",
       "      <td>4</td>\n",
       "      <td>NaN</td>\n",
       "      <td>0.0</td>\n",
       "      <td>NaN</td>\n",
       "      <td>0.0</td>\n",
       "      <td>Myanmar                                       ...</td>\n",
       "      <td>0.0</td>\n",
       "      <td>chronic                                       ...</td>\n",
       "      <td>NaN</td>\n",
       "      <td>NaN</td>\n",
       "      <td>NaN</td>\n",
       "      <td>...</td>\n",
       "      <td>NaN</td>\n",
       "      <td>0.0</td>\n",
       "      <td>&lt; 2.33</td>\n",
       "      <td>0.0</td>\n",
       "      <td>4plex</td>\n",
       "      <td>1 1771028 ()</td>\n",
       "      <td>WB</td>\n",
       "      <td>16-SMRU-01</td>\n",
       "      <td>cross sectional                               ...</td>\n",
       "      <td>NaN</td>\n",
       "    </tr>\n",
       "  </tbody>\n",
       "</table>\n",
       "<p>5 rows × 38 columns</p>\n",
       "</div>"
      ],
      "text/plain": [
       "   HRP2_deletion  PCR_pos  age_yrs  coinfection  \\\n",
       "0            NaN      0.0      NaN          0.0   \n",
       "1            NaN      0.0      NaN          0.0   \n",
       "2            NaN      0.0      NaN          0.0   \n",
       "3            NaN      0.0      NaN          0.0   \n",
       "4            NaN      0.0      NaN          0.0   \n",
       "\n",
       "                                             country  febrile  \\\n",
       "0  Myanmar                                       ...      0.0   \n",
       "1  Myanmar                                       ...      0.0   \n",
       "2  Myanmar                                       ...      0.0   \n",
       "3  Myanmar                                       ...      0.0   \n",
       "4  Myanmar                                       ...      0.0   \n",
       "\n",
       "                                  infection_category  lat  long  \\\n",
       "0  chronic                                       ...  NaN   NaN   \n",
       "1  chronic                                       ...  NaN   NaN   \n",
       "2  chronic                                       ...  NaN   NaN   \n",
       "3  chronic                                       ...  NaN   NaN   \n",
       "4  chronic                                       ...  NaN   NaN   \n",
       "\n",
       "   microscopy_pos  ...  quansys_LDH_Pf_result quansys_LDH_Pv_bin  \\\n",
       "0             NaN  ...                    NaN                0.0   \n",
       "1             NaN  ...                    NaN                0.0   \n",
       "2             NaN  ...                    NaN                0.0   \n",
       "3             NaN  ...                    NaN                0.0   \n",
       "4             NaN  ...                    NaN                0.0   \n",
       "\n",
       "   quansys_LDH_Pv_pg_ml  quansys_LDH_Pv_result  quansys_type       sample_id  \\\n",
       "0                < 2.33                    0.0         4plex  1 110501023 ()   \n",
       "1                < 2.33                    0.0         4plex    1 1421001 ()   \n",
       "2                < 2.33                    0.0         4plex    1 1421035 ()   \n",
       "3                < 2.33                    0.0         4plex     1 151019 ()   \n",
       "4                < 2.33                    0.0         4plex    1 1771028 ()   \n",
       "\n",
       "   sample_type    study_id                                             survey  \\\n",
       "0   WB          16-SMRU-01  cross sectional                               ...   \n",
       "1   WB          16-SMRU-01  cross sectional                               ...   \n",
       "2   WB          16-SMRU-01  cross sectional                               ...   \n",
       "3   WB          16-SMRU-01  cross sectional                               ...   \n",
       "4   WB          16-SMRU-01  cross sectional                               ...   \n",
       "\n",
       "   timepoint_days  \n",
       "0             NaN  \n",
       "1             NaN  \n",
       "2             NaN  \n",
       "3             NaN  \n",
       "4             NaN  \n",
       "\n",
       "[5 rows x 38 columns]"
      ]
     },
     "execution_count": 2,
     "metadata": {},
     "output_type": "execute_result"
    }
   ],
   "source": [
    "all_files = glob.glob('C:/Users/lzoeckler/Desktop/all_data/separated/binned/*.csv')\n",
    "big_df = []\n",
    "for file in all_files:\n",
    "    df = pd.read_csv(file)\n",
    "    big_df.append(df)\n",
    "big_df = pd.concat(big_df, sort=True)\n",
    "big_df = big_df.loc[~big_df['PCR_pos'].isnull()]\n",
    "big_df.head()"
   ]
  },
  {
   "cell_type": "code",
   "execution_count": 3,
   "metadata": {},
   "outputs": [
    {
     "name": "stdout",
     "output_type": "stream",
     "text": [
      "16-SMRU-01 1822\n",
      "17-NIH-01 620\n",
      "17-NIH-02 327\n",
      "17-QIMR-01 305\n",
      "17-QIMR-02 163\n",
      "17-QIMR-03 22\n",
      "18-DLS-01 75\n",
      "18-DLS-02 2\n",
      "18-FIND-01 94\n",
      "18-FIND-02 25\n"
     ]
    }
   ],
   "source": [
    "for study_id in big_df['study_id'].unique():\n",
    "    study_df = big_df.loc[big_df['study_id'] == study_id]\n",
    "    print(study_id, len(study_df))"
   ]
  },
  {
   "cell_type": "code",
   "execution_count": 4,
   "metadata": {},
   "outputs": [
    {
     "data": {
      "text/plain": [
       "3455"
      ]
     },
     "execution_count": 4,
     "metadata": {},
     "output_type": "execute_result"
    }
   ],
   "source": [
    "len(big_df)"
   ]
  },
  {
   "cell_type": "code",
   "execution_count": 5,
   "metadata": {},
   "outputs": [],
   "source": [
    "def clean_strings(val):\n",
    "    if isinstance(val, str):\n",
    "        if '<' in val:\n",
    "            return np.log10(.1)\n",
    "        elif '>' in val:\n",
    "            clean = val.replace('> ', '')\n",
    "            return np.log10(float(clean) + .1)\n",
    "        else:\n",
    "            try:\n",
    "                return np.log10(float(val) + .1)\n",
    "            except ValueError:\n",
    "                return np.null\n",
    "    elif isinstance(val, float) or isinstance(val, int):\n",
    "        return np.log10(val + .1)\n",
    "    else:\n",
    "        raise"
   ]
  },
  {
   "cell_type": "code",
   "execution_count": 6,
   "metadata": {},
   "outputs": [],
   "source": [
    "val_cols = ['quansys_HRP2_pg_ml', 'quansys_LDH_Pan_pg_ml', 'quansys_LDH_Pv_pg_ml',\n",
    "            'quansys_LDH_Pf_pg_ml', 'quansys_CRP_ng_ml']"
   ]
  },
  {
   "cell_type": "code",
   "execution_count": 7,
   "metadata": {},
   "outputs": [
    {
     "data": {
      "text/plain": [
       "'Which datasets are contributing the bulk of samples? Guessing Myanmar is one\\n\\nCan we make subplots for the 2-4 datasets that contribute the most samples?\\n17-NIH-01 620\\n17-NIH-02 327\\n17-QIMR-01 305'"
      ]
     },
     "execution_count": 7,
     "metadata": {},
     "output_type": "execute_result"
    }
   ],
   "source": [
    "\"\"\"Which datasets are contributing the bulk of samples? Guessing Myanmar is one\n",
    "\n",
    "Can we make subplots for the 2-4 datasets that contribute the most samples?\n",
    "17-NIH-01 620\n",
    "17-NIH-02 327\n",
    "17-QIMR-01 305\"\"\"\n"
   ]
  },
  {
   "cell_type": "code",
   "execution_count": 8,
   "metadata": {},
   "outputs": [
    {
     "data": {
      "text/html": [
       "<div>\n",
       "<style scoped>\n",
       "    .dataframe tbody tr th:only-of-type {\n",
       "        vertical-align: middle;\n",
       "    }\n",
       "\n",
       "    .dataframe tbody tr th {\n",
       "        vertical-align: top;\n",
       "    }\n",
       "\n",
       "    .dataframe thead th {\n",
       "        text-align: right;\n",
       "    }\n",
       "</style>\n",
       "<table border=\"1\" class=\"dataframe\">\n",
       "  <thead>\n",
       "    <tr style=\"text-align: right;\">\n",
       "      <th></th>\n",
       "      <th>quansys_HRP2_pg_ml</th>\n",
       "      <th>quansys_LDH_Pan_pg_ml</th>\n",
       "      <th>quansys_LDH_Pv_pg_ml</th>\n",
       "      <th>quansys_LDH_Pf_pg_ml</th>\n",
       "      <th>quansys_CRP_ng_ml</th>\n",
       "      <th>PCR_pos</th>\n",
       "      <th>sample_id</th>\n",
       "    </tr>\n",
       "  </thead>\n",
       "  <tbody>\n",
       "    <tr>\n",
       "      <td>10</td>\n",
       "      <td>-1.000000</td>\n",
       "      <td>2.382557</td>\n",
       "      <td>1.654658</td>\n",
       "      <td>NaN</td>\n",
       "      <td>1.445823</td>\n",
       "      <td>1.0</td>\n",
       "      <td>1 26831051 ()</td>\n",
       "    </tr>\n",
       "    <tr>\n",
       "      <td>12</td>\n",
       "      <td>3.648414</td>\n",
       "      <td>3.406799</td>\n",
       "      <td>-1.000000</td>\n",
       "      <td>NaN</td>\n",
       "      <td>2.477490</td>\n",
       "      <td>1.0</td>\n",
       "      <td>1 2751037 ()</td>\n",
       "    </tr>\n",
       "    <tr>\n",
       "      <td>18</td>\n",
       "      <td>-1.000000</td>\n",
       "      <td>2.184635</td>\n",
       "      <td>1.618884</td>\n",
       "      <td>NaN</td>\n",
       "      <td>1.889668</td>\n",
       "      <td>1.0</td>\n",
       "      <td>1 3201006 ()</td>\n",
       "    </tr>\n",
       "    <tr>\n",
       "      <td>21</td>\n",
       "      <td>-1.000000</td>\n",
       "      <td>3.318706</td>\n",
       "      <td>1.806858</td>\n",
       "      <td>NaN</td>\n",
       "      <td>2.064804</td>\n",
       "      <td>1.0</td>\n",
       "      <td>1 3391021 ()</td>\n",
       "    </tr>\n",
       "    <tr>\n",
       "      <td>22</td>\n",
       "      <td>-1.000000</td>\n",
       "      <td>2.247581</td>\n",
       "      <td>-1.000000</td>\n",
       "      <td>NaN</td>\n",
       "      <td>2.338987</td>\n",
       "      <td>1.0</td>\n",
       "      <td>1 3421021 ()</td>\n",
       "    </tr>\n",
       "  </tbody>\n",
       "</table>\n",
       "</div>"
      ],
      "text/plain": [
       "    quansys_HRP2_pg_ml  quansys_LDH_Pan_pg_ml  quansys_LDH_Pv_pg_ml  \\\n",
       "10           -1.000000               2.382557              1.654658   \n",
       "12            3.648414               3.406799             -1.000000   \n",
       "18           -1.000000               2.184635              1.618884   \n",
       "21           -1.000000               3.318706              1.806858   \n",
       "22           -1.000000               2.247581             -1.000000   \n",
       "\n",
       "    quansys_LDH_Pf_pg_ml  quansys_CRP_ng_ml  PCR_pos      sample_id  \n",
       "10                   NaN           1.445823      1.0  1 26831051 ()  \n",
       "12                   NaN           2.477490      1.0   1 2751037 ()  \n",
       "18                   NaN           1.889668      1.0   1 3201006 ()  \n",
       "21                   NaN           2.064804      1.0   1 3391021 ()  \n",
       "22                   NaN           2.338987      1.0   1 3421021 ()  "
      ]
     },
     "execution_count": 8,
     "metadata": {},
     "output_type": "execute_result"
    }
   ],
   "source": [
    "pos_df = big_df.loc[big_df['PCR_pos'] == 1]\n",
    "test_df = pos_df.copy(deep=True)\n",
    "test_df = test_df[val_cols + ['PCR_pos', 'sample_id']]\n",
    "test_df = test_df.loc[~test_df['quansys_LDH_Pv_pg_ml'].isnull()]\n",
    "test_df = test_df.loc[~test_df['quansys_HRP2_pg_ml'].isnull()]\n",
    "test_df[val_cols] = test_df[val_cols].applymap(clean_strings)\n",
    "x = test_df['quansys_LDH_Pan_pg_ml'].values\n",
    "test_df.head()"
   ]
  },
  {
   "cell_type": "code",
   "execution_count": 9,
   "metadata": {},
   "outputs": [
    {
     "data": {
      "text/plain": [
       "107"
      ]
     },
     "execution_count": 9,
     "metadata": {},
     "output_type": "execute_result"
    }
   ],
   "source": [
    "sub = test_df.loc[test_df['quansys_LDH_Pan_pg_ml'] > np.log10(1000)]\n",
    "sub = sub.loc[sub['quansys_LDH_Pan_pg_ml'] < np.log10(2000)]\n",
    "sub_samps = sub['sample_id'].values\n",
    "len(sub)"
   ]
  },
  {
   "cell_type": "code",
   "execution_count": 10,
   "metadata": {},
   "outputs": [
    {
     "data": {
      "text/plain": [
       "871"
      ]
     },
     "execution_count": 10,
     "metadata": {},
     "output_type": "execute_result"
    }
   ],
   "source": [
    "below = test_df.loc[test_df['quansys_LDH_Pan_pg_ml'] < np.log10(1000)]\n",
    "len(below)"
   ]
  },
  {
   "cell_type": "code",
   "execution_count": 11,
   "metadata": {},
   "outputs": [
    {
     "data": {
      "text/plain": [
       "1477"
      ]
     },
     "execution_count": 11,
     "metadata": {},
     "output_type": "execute_result"
    }
   ],
   "source": [
    "len(test_df)"
   ]
  },
  {
   "cell_type": "code",
   "execution_count": 12,
   "metadata": {},
   "outputs": [
    {
     "data": {
      "text/plain": [
       "0.07244414353419093"
      ]
     },
     "execution_count": 12,
     "metadata": {},
     "output_type": "execute_result"
    }
   ],
   "source": [
    "107/1477"
   ]
  },
  {
   "cell_type": "code",
   "execution_count": 13,
   "metadata": {},
   "outputs": [
    {
     "data": {
      "text/plain": [
       "0.5897088693297224"
      ]
     },
     "execution_count": 13,
     "metadata": {},
     "output_type": "execute_result"
    }
   ],
   "source": [
    "871/1477"
   ]
  },
  {
   "cell_type": "code",
   "execution_count": 14,
   "metadata": {},
   "outputs": [
    {
     "data": {
      "image/png": "[encoded data removed]",
      "text/plain": [
       "<Figure size 432x288 with 1 Axes>"
      ]
     },
     "metadata": {
      "needs_background": "light"
     },
     "output_type": "display_data"
    }
   ],
   "source": [
    "pp = PdfPages('C:/Users/lzoeckler/Desktop/density_plot.pdf')\n",
    "ax = sns.distplot(x, hist=False, color='k')\n",
    "ln = ax.lines[0]\n",
    "y = ln.get_ydata()\n",
    "x1 = ln.get_xdata()\n",
    "ax.fill_between(x1, 0, y, where=(np.log10(2000) > x1) & (x1 > np.log10(900)), color='k', label='Total number of\\nsamples between\\n1 and 2 ng/ml')\n",
    "ax.axvline(np.log10(1000), color='g', label='1 ng/ml')#, ymax=0.5)\n",
    "ax.axvline(np.log10(2000), color='r', label='2 ng/ml')#, ymax=0.5)\n",
    "ax.set_ylim(0, 0.4)\n",
    "ax.legend()\n",
    "ax.set_ylabel('Density')\n",
    "ax.set_xlabel('log10 pLDH pg/ml')\n",
    "plt.xticks([-1, 0, 1, 2, 3, 4, 6, 8], [0.1, 1, 10, 100, 1000, 10000, 1000000, 100000000])\n",
    "f = ax.get_figure()\n",
    "plt.title('PCR+ pLDH\\n107/1477 samples fall between 1 and 2 ng/ml (~7.2%)\\n871/1477 samples fall below 1 ng/ml (~56.0%)')\n",
    "plt.tight_layout()\n",
    "plt.show()\n",
    "pp.savefig(f)\n",
    "plt.close()\n",
    "pp.close()"
   ]
  },
  {
   "cell_type": "code",
   "execution_count": 15,
   "metadata": {},
   "outputs": [
    {
     "data": {
      "text/html": [
       "<div>\n",
       "<style scoped>\n",
       "    .dataframe tbody tr th:only-of-type {\n",
       "        vertical-align: middle;\n",
       "    }\n",
       "\n",
       "    .dataframe tbody tr th {\n",
       "        vertical-align: top;\n",
       "    }\n",
       "\n",
       "    .dataframe thead th {\n",
       "        text-align: right;\n",
       "    }\n",
       "</style>\n",
       "<table border=\"1\" class=\"dataframe\">\n",
       "  <thead>\n",
       "    <tr style=\"text-align: right;\">\n",
       "      <th></th>\n",
       "      <th>quansys_HRP2_pg_ml</th>\n",
       "      <th>quansys_LDH_Pan_pg_ml</th>\n",
       "      <th>quansys_LDH_Pv_pg_ml</th>\n",
       "      <th>quansys_LDH_Pf_pg_ml</th>\n",
       "      <th>quansys_CRP_ng_ml</th>\n",
       "      <th>PCR_pos</th>\n",
       "      <th>sample_id</th>\n",
       "    </tr>\n",
       "  </thead>\n",
       "  <tbody>\n",
       "    <tr>\n",
       "      <td>10</td>\n",
       "      <td>-1.000000</td>\n",
       "      <td>2.382557</td>\n",
       "      <td>1.654658</td>\n",
       "      <td>NaN</td>\n",
       "      <td>1.445823</td>\n",
       "      <td>1.0</td>\n",
       "      <td>1 26831051 ()</td>\n",
       "    </tr>\n",
       "    <tr>\n",
       "      <td>12</td>\n",
       "      <td>3.648414</td>\n",
       "      <td>3.406799</td>\n",
       "      <td>-1.000000</td>\n",
       "      <td>NaN</td>\n",
       "      <td>2.477490</td>\n",
       "      <td>1.0</td>\n",
       "      <td>1 2751037 ()</td>\n",
       "    </tr>\n",
       "    <tr>\n",
       "      <td>18</td>\n",
       "      <td>-1.000000</td>\n",
       "      <td>2.184635</td>\n",
       "      <td>1.618884</td>\n",
       "      <td>NaN</td>\n",
       "      <td>1.889668</td>\n",
       "      <td>1.0</td>\n",
       "      <td>1 3201006 ()</td>\n",
       "    </tr>\n",
       "    <tr>\n",
       "      <td>21</td>\n",
       "      <td>-1.000000</td>\n",
       "      <td>3.318706</td>\n",
       "      <td>1.806858</td>\n",
       "      <td>NaN</td>\n",
       "      <td>2.064804</td>\n",
       "      <td>1.0</td>\n",
       "      <td>1 3391021 ()</td>\n",
       "    </tr>\n",
       "    <tr>\n",
       "      <td>22</td>\n",
       "      <td>-1.000000</td>\n",
       "      <td>2.247581</td>\n",
       "      <td>-1.000000</td>\n",
       "      <td>NaN</td>\n",
       "      <td>2.338987</td>\n",
       "      <td>1.0</td>\n",
       "      <td>1 3421021 ()</td>\n",
       "    </tr>\n",
       "  </tbody>\n",
       "</table>\n",
       "</div>"
      ],
      "text/plain": [
       "    quansys_HRP2_pg_ml  quansys_LDH_Pan_pg_ml  quansys_LDH_Pv_pg_ml  \\\n",
       "10           -1.000000               2.382557              1.654658   \n",
       "12            3.648414               3.406799             -1.000000   \n",
       "18           -1.000000               2.184635              1.618884   \n",
       "21           -1.000000               3.318706              1.806858   \n",
       "22           -1.000000               2.247581             -1.000000   \n",
       "\n",
       "    quansys_LDH_Pf_pg_ml  quansys_CRP_ng_ml  PCR_pos      sample_id  \n",
       "10                   NaN           1.445823      1.0  1 26831051 ()  \n",
       "12                   NaN           2.477490      1.0   1 2751037 ()  \n",
       "18                   NaN           1.889668      1.0   1 3201006 ()  \n",
       "21                   NaN           2.064804      1.0   1 3391021 ()  \n",
       "22                   NaN           2.338987      1.0   1 3421021 ()  "
      ]
     },
     "execution_count": 15,
     "metadata": {},
     "output_type": "execute_result"
    }
   ],
   "source": [
    "pos_df = big_df.loc[big_df['PCR_pos'] == 1]\n",
    "myan_df = pos_df.loc[pos_df['study_id'] == '16-SMRU-01']\n",
    "test_df = myan_df.copy(deep=True)\n",
    "test_df = test_df[val_cols + ['PCR_pos', 'sample_id']]\n",
    "test_df = test_df.loc[~test_df['quansys_LDH_Pv_pg_ml'].isnull()]\n",
    "test_df = test_df.loc[~test_df['quansys_HRP2_pg_ml'].isnull()]\n",
    "test_df[val_cols] = test_df[val_cols].applymap(clean_strings)\n",
    "x = test_df['quansys_LDH_Pan_pg_ml'].values\n",
    "test_df.head()"
   ]
  },
  {
   "cell_type": "code",
   "execution_count": 16,
   "metadata": {},
   "outputs": [
    {
     "data": {
      "text/plain": [
       "53"
      ]
     },
     "execution_count": 16,
     "metadata": {},
     "output_type": "execute_result"
    }
   ],
   "source": [
    "sub = test_df.loc[test_df['quansys_LDH_Pan_pg_ml'] > np.log10(1000)]\n",
    "sub = sub.loc[sub['quansys_LDH_Pan_pg_ml'] < np.log10(2000)]\n",
    "sub_samps = sub['sample_id'].values\n",
    "len(sub)"
   ]
  },
  {
   "cell_type": "code",
   "execution_count": 17,
   "metadata": {},
   "outputs": [
    {
     "data": {
      "text/plain": [
       "414"
      ]
     },
     "execution_count": 17,
     "metadata": {},
     "output_type": "execute_result"
    }
   ],
   "source": [
    "below = test_df.loc[test_df['quansys_LDH_Pan_pg_ml'] < np.log10(1000)]\n",
    "len(below)"
   ]
  },
  {
   "cell_type": "code",
   "execution_count": 18,
   "metadata": {},
   "outputs": [
    {
     "data": {
      "text/plain": [
       "635"
      ]
     },
     "execution_count": 18,
     "metadata": {},
     "output_type": "execute_result"
    }
   ],
   "source": [
    "len(test_df)"
   ]
  },
  {
   "cell_type": "code",
   "execution_count": 19,
   "metadata": {},
   "outputs": [
    {
     "data": {
      "text/plain": [
       "0.08346456692913386"
      ]
     },
     "execution_count": 19,
     "metadata": {},
     "output_type": "execute_result"
    }
   ],
   "source": [
    "53/635"
   ]
  },
  {
   "cell_type": "code",
   "execution_count": 20,
   "metadata": {},
   "outputs": [
    {
     "data": {
      "text/plain": [
       "0.6519685039370079"
      ]
     },
     "execution_count": 20,
     "metadata": {},
     "output_type": "execute_result"
    }
   ],
   "source": [
    "414/635"
   ]
  },
  {
   "cell_type": "code",
   "execution_count": 21,
   "metadata": {},
   "outputs": [
    {
     "data": {
      "image/png": "[encoded data removed]",
      "text/plain": [
       "<Figure size 432x288 with 1 Axes>"
      ]
     },
     "metadata": {
      "needs_background": "light"
     },
     "output_type": "display_data"
    }
   ],
   "source": [
    "pp = PdfPages('C:/Users/lzoeckler/Desktop/myan_density_plot.pdf')\n",
    "ax = sns.distplot(x, hist=False, color='k')\n",
    "ln = ax.lines[0]\n",
    "y = ln.get_ydata()\n",
    "x1 = ln.get_xdata()\n",
    "ax.fill_between(x1, 0, y, where=(np.log10(2000) > x1) & (x1 > np.log10(900)), color='k', label='Total number of\\nsamples between\\n1 and 2 ng/ml')\n",
    "ax.axvline(np.log10(1000), color='g', label='1 ng/ml')#, ymax=0.5)\n",
    "ax.axvline(np.log10(2000), color='r', label='2 ng/ml')#, ymax=0.5)\n",
    "ax.set_ylim(0, 0.4)\n",
    "ax.legend()\n",
    "ax.set_ylabel('Density')\n",
    "ax.set_xlabel('log10 pLDH pg/ml')\n",
    "plt.xticks([-1, 0, 1, 2, 3, 4, 6], [0.1, 1, 10, 100, 1000, 10000, 1000000])\n",
    "f = ax.get_figure()\n",
    "plt.title('PCR+ pLDH Myanmar\\n53/635 samples fall between 1 and 2 ng/ml (~8.3%)\\n414/635 samples fall below 1 ng/ml (~65.2%)')\n",
    "plt.tight_layout()\n",
    "plt.show()\n",
    "pp.savefig(f)\n",
    "plt.close()\n",
    "pp.close()"
   ]
  },
  {
   "cell_type": "code",
   "execution_count": 22,
   "metadata": {},
   "outputs": [
    {
     "data": {
      "text/html": [
       "<div>\n",
       "<style scoped>\n",
       "    .dataframe tbody tr th:only-of-type {\n",
       "        vertical-align: middle;\n",
       "    }\n",
       "\n",
       "    .dataframe tbody tr th {\n",
       "        vertical-align: top;\n",
       "    }\n",
       "\n",
       "    .dataframe thead th {\n",
       "        text-align: right;\n",
       "    }\n",
       "</style>\n",
       "<table border=\"1\" class=\"dataframe\">\n",
       "  <thead>\n",
       "    <tr style=\"text-align: right;\">\n",
       "      <th></th>\n",
       "      <th>quansys_HRP2_pg_ml</th>\n",
       "      <th>quansys_LDH_Pan_pg_ml</th>\n",
       "      <th>quansys_LDH_Pv_pg_ml</th>\n",
       "      <th>quansys_LDH_Pf_pg_ml</th>\n",
       "      <th>quansys_CRP_ng_ml</th>\n",
       "      <th>PCR_pos</th>\n",
       "      <th>sample_id</th>\n",
       "    </tr>\n",
       "  </thead>\n",
       "  <tbody>\n",
       "    <tr>\n",
       "      <td>12</td>\n",
       "      <td>3.648414</td>\n",
       "      <td>3.406799</td>\n",
       "      <td>-1.000000</td>\n",
       "      <td>NaN</td>\n",
       "      <td>2.477490</td>\n",
       "      <td>1.0</td>\n",
       "      <td>1 2751037 ()</td>\n",
       "    </tr>\n",
       "    <tr>\n",
       "      <td>21</td>\n",
       "      <td>-1.000000</td>\n",
       "      <td>3.318706</td>\n",
       "      <td>1.806858</td>\n",
       "      <td>NaN</td>\n",
       "      <td>2.064804</td>\n",
       "      <td>1.0</td>\n",
       "      <td>1 3391021 ()</td>\n",
       "    </tr>\n",
       "    <tr>\n",
       "      <td>26</td>\n",
       "      <td>1.522835</td>\n",
       "      <td>1.716421</td>\n",
       "      <td>-1.000000</td>\n",
       "      <td>NaN</td>\n",
       "      <td>3.082272</td>\n",
       "      <td>1.0</td>\n",
       "      <td>1 3501016 ()</td>\n",
       "    </tr>\n",
       "    <tr>\n",
       "      <td>27</td>\n",
       "      <td>0.715167</td>\n",
       "      <td>3.038866</td>\n",
       "      <td>1.837083</td>\n",
       "      <td>NaN</td>\n",
       "      <td>3.124379</td>\n",
       "      <td>1.0</td>\n",
       "      <td>1 3571005 ()</td>\n",
       "    </tr>\n",
       "    <tr>\n",
       "      <td>28</td>\n",
       "      <td>0.431364</td>\n",
       "      <td>1.710456</td>\n",
       "      <td>0.627366</td>\n",
       "      <td>NaN</td>\n",
       "      <td>3.003681</td>\n",
       "      <td>1.0</td>\n",
       "      <td>1 3571039 ()</td>\n",
       "    </tr>\n",
       "  </tbody>\n",
       "</table>\n",
       "</div>"
      ],
      "text/plain": [
       "    quansys_HRP2_pg_ml  quansys_LDH_Pan_pg_ml  quansys_LDH_Pv_pg_ml  \\\n",
       "12            3.648414               3.406799             -1.000000   \n",
       "21           -1.000000               3.318706              1.806858   \n",
       "26            1.522835               1.716421             -1.000000   \n",
       "27            0.715167               3.038866              1.837083   \n",
       "28            0.431364               1.710456              0.627366   \n",
       "\n",
       "    quansys_LDH_Pf_pg_ml  quansys_CRP_ng_ml  PCR_pos     sample_id  \n",
       "12                   NaN           2.477490      1.0  1 2751037 ()  \n",
       "21                   NaN           2.064804      1.0  1 3391021 ()  \n",
       "26                   NaN           3.082272      1.0  1 3501016 ()  \n",
       "27                   NaN           3.124379      1.0  1 3571005 ()  \n",
       "28                   NaN           3.003681      1.0  1 3571039 ()  "
      ]
     },
     "execution_count": 22,
     "metadata": {},
     "output_type": "execute_result"
    }
   ],
   "source": [
    "pos_df = big_df.loc[big_df['PCR_pos'] == 1]\n",
    "pf_df = pos_df.loc[pos_df['pf'] == 1]\n",
    "test_df = pf_df.copy(deep=True)\n",
    "test_df = test_df[val_cols + ['PCR_pos', 'sample_id']]\n",
    "test_df = test_df.loc[~test_df['quansys_LDH_Pv_pg_ml'].isnull()]\n",
    "test_df = test_df.loc[~test_df['quansys_HRP2_pg_ml'].isnull()]\n",
    "test_df[val_cols] = test_df[val_cols].applymap(clean_strings)\n",
    "x = test_df['quansys_LDH_Pan_pg_ml'].values\n",
    "test_df.head()"
   ]
  },
  {
   "cell_type": "code",
   "execution_count": 23,
   "metadata": {},
   "outputs": [
    {
     "data": {
      "text/plain": [
       "46"
      ]
     },
     "execution_count": 23,
     "metadata": {},
     "output_type": "execute_result"
    }
   ],
   "source": [
    "sub = test_df.loc[test_df['quansys_LDH_Pan_pg_ml'] > np.log10(1000)]\n",
    "sub = sub.loc[sub['quansys_LDH_Pan_pg_ml'] < np.log10(2000)]\n",
    "sub_samps = sub['sample_id'].values\n",
    "len(sub)"
   ]
  },
  {
   "cell_type": "code",
   "execution_count": 24,
   "metadata": {},
   "outputs": [
    {
     "data": {
      "text/plain": [
       "509"
      ]
     },
     "execution_count": 24,
     "metadata": {},
     "output_type": "execute_result"
    }
   ],
   "source": [
    "below = test_df.loc[test_df['quansys_LDH_Pan_pg_ml'] < np.log10(1000)]\n",
    "len(below)"
   ]
  },
  {
   "cell_type": "code",
   "execution_count": 25,
   "metadata": {},
   "outputs": [
    {
     "data": {
      "text/plain": [
       "802"
      ]
     },
     "execution_count": 25,
     "metadata": {},
     "output_type": "execute_result"
    }
   ],
   "source": [
    "len(test_df)"
   ]
  },
  {
   "cell_type": "code",
   "execution_count": 26,
   "metadata": {},
   "outputs": [
    {
     "data": {
      "text/plain": [
       "0.057356608478802994"
      ]
     },
     "execution_count": 26,
     "metadata": {},
     "output_type": "execute_result"
    }
   ],
   "source": [
    "46/802"
   ]
  },
  {
   "cell_type": "code",
   "execution_count": 27,
   "metadata": {},
   "outputs": [
    {
     "data": {
      "text/plain": [
       "0.6346633416458853"
      ]
     },
     "execution_count": 27,
     "metadata": {},
     "output_type": "execute_result"
    }
   ],
   "source": [
    "509/802"
   ]
  },
  {
   "cell_type": "code",
   "execution_count": 28,
   "metadata": {},
   "outputs": [
    {
     "data": {
      "image/png": "[encoded data removed]",
      "text/plain": [
       "<Figure size 432x288 with 1 Axes>"
      ]
     },
     "metadata": {
      "needs_background": "light"
     },
     "output_type": "display_data"
    }
   ],
   "source": [
    "pp = PdfPages('C:/Users/lzoeckler/Desktop/pf_density_plot.pdf')\n",
    "ax = sns.distplot(x, hist=False, color='k')\n",
    "ln = ax.lines[0]\n",
    "y = ln.get_ydata()\n",
    "x1 = ln.get_xdata()\n",
    "ax.fill_between(x1, 0, y, where=(np.log10(2000) > x1) & (x1 > np.log10(900)), color='k', label='Total number of\\nsamples between\\n1 and 2 ng/ml')\n",
    "ax.axvline(np.log10(1000), color='g', label='1 ng/ml')#, ymax=0.5)\n",
    "ax.axvline(np.log10(2000), color='r', label='2 ng/ml')#, ymax=0.5)\n",
    "ax.set_ylim(0, 0.4)\n",
    "ax.legend()\n",
    "ax.set_ylabel('Density')\n",
    "ax.set_xlabel('log10 pLDH pg/ml')\n",
    "plt.xticks([-1, 0, 1, 2, 3, 4, 6], [0.1, 1, 10, 100, 1000, 10000, 1000000])\n",
    "f = ax.get_figure()\n",
    "plt.title('Pf+ PCR+ pLDH\\n46/802 samples fall between 1 and 2 ng/ml (~5.7%)\\n509/802 samples fall below 1 ng/ml (~63.5%)')\n",
    "plt.tight_layout()\n",
    "plt.show()\n",
    "pp.savefig(f)\n",
    "plt.close()\n",
    "pp.close()"
   ]
  },
  {
   "cell_type": "code",
   "execution_count": 29,
   "metadata": {},
   "outputs": [
    {
     "data": {
      "text/html": [
       "<div>\n",
       "<style scoped>\n",
       "    .dataframe tbody tr th:only-of-type {\n",
       "        vertical-align: middle;\n",
       "    }\n",
       "\n",
       "    .dataframe tbody tr th {\n",
       "        vertical-align: top;\n",
       "    }\n",
       "\n",
       "    .dataframe thead th {\n",
       "        text-align: right;\n",
       "    }\n",
       "</style>\n",
       "<table border=\"1\" class=\"dataframe\">\n",
       "  <thead>\n",
       "    <tr style=\"text-align: right;\">\n",
       "      <th></th>\n",
       "      <th>quansys_HRP2_pg_ml</th>\n",
       "      <th>quansys_LDH_Pan_pg_ml</th>\n",
       "      <th>quansys_LDH_Pv_pg_ml</th>\n",
       "      <th>quansys_LDH_Pf_pg_ml</th>\n",
       "      <th>quansys_CRP_ng_ml</th>\n",
       "      <th>PCR_pos</th>\n",
       "      <th>sample_id</th>\n",
       "    </tr>\n",
       "  </thead>\n",
       "  <tbody>\n",
       "    <tr>\n",
       "      <td>10</td>\n",
       "      <td>-1.000000</td>\n",
       "      <td>2.382557</td>\n",
       "      <td>1.654658</td>\n",
       "      <td>NaN</td>\n",
       "      <td>1.445823</td>\n",
       "      <td>1.0</td>\n",
       "      <td>1 26831051 ()</td>\n",
       "    </tr>\n",
       "    <tr>\n",
       "      <td>21</td>\n",
       "      <td>-1.000000</td>\n",
       "      <td>3.318706</td>\n",
       "      <td>1.806858</td>\n",
       "      <td>NaN</td>\n",
       "      <td>2.064804</td>\n",
       "      <td>1.0</td>\n",
       "      <td>1 3391021 ()</td>\n",
       "    </tr>\n",
       "    <tr>\n",
       "      <td>31</td>\n",
       "      <td>-1.000000</td>\n",
       "      <td>2.707246</td>\n",
       "      <td>2.097084</td>\n",
       "      <td>NaN</td>\n",
       "      <td>1.964025</td>\n",
       "      <td>1.0</td>\n",
       "      <td>1 3611044 ()</td>\n",
       "    </tr>\n",
       "    <tr>\n",
       "      <td>32</td>\n",
       "      <td>-1.000000</td>\n",
       "      <td>2.626443</td>\n",
       "      <td>-1.000000</td>\n",
       "      <td>NaN</td>\n",
       "      <td>2.445625</td>\n",
       "      <td>1.0</td>\n",
       "      <td>1 36311031 ()</td>\n",
       "    </tr>\n",
       "    <tr>\n",
       "      <td>36</td>\n",
       "      <td>1.190892</td>\n",
       "      <td>1.784689</td>\n",
       "      <td>-1.000000</td>\n",
       "      <td>NaN</td>\n",
       "      <td>3.086740</td>\n",
       "      <td>1.0</td>\n",
       "      <td>1 36351030 ()</td>\n",
       "    </tr>\n",
       "  </tbody>\n",
       "</table>\n",
       "</div>"
      ],
      "text/plain": [
       "    quansys_HRP2_pg_ml  quansys_LDH_Pan_pg_ml  quansys_LDH_Pv_pg_ml  \\\n",
       "10           -1.000000               2.382557              1.654658   \n",
       "21           -1.000000               3.318706              1.806858   \n",
       "31           -1.000000               2.707246              2.097084   \n",
       "32           -1.000000               2.626443             -1.000000   \n",
       "36            1.190892               1.784689             -1.000000   \n",
       "\n",
       "    quansys_LDH_Pf_pg_ml  quansys_CRP_ng_ml  PCR_pos      sample_id  \n",
       "10                   NaN           1.445823      1.0  1 26831051 ()  \n",
       "21                   NaN           2.064804      1.0   1 3391021 ()  \n",
       "31                   NaN           1.964025      1.0   1 3611044 ()  \n",
       "32                   NaN           2.445625      1.0  1 36311031 ()  \n",
       "36                   NaN           3.086740      1.0  1 36351030 ()  "
      ]
     },
     "execution_count": 29,
     "metadata": {},
     "output_type": "execute_result"
    }
   ],
   "source": [
    "pos_df = big_df.loc[big_df['PCR_pos'] == 1]\n",
    "pv_df = pos_df.loc[pos_df['pv'] == 1]\n",
    "test_df = pv_df.copy(deep=True)\n",
    "test_df = test_df[val_cols + ['PCR_pos', 'sample_id']]\n",
    "test_df = test_df.loc[~test_df['quansys_LDH_Pv_pg_ml'].isnull()]\n",
    "test_df = test_df.loc[~test_df['quansys_HRP2_pg_ml'].isnull()]\n",
    "test_df[val_cols] = test_df[val_cols].applymap(clean_strings)\n",
    "x = test_df['quansys_LDH_Pan_pg_ml'].values\n",
    "test_df.head()"
   ]
  },
  {
   "cell_type": "code",
   "execution_count": 30,
   "metadata": {},
   "outputs": [
    {
     "data": {
      "text/plain": [
       "56"
      ]
     },
     "execution_count": 30,
     "metadata": {},
     "output_type": "execute_result"
    }
   ],
   "source": [
    "sub = test_df.loc[test_df['quansys_LDH_Pan_pg_ml'] > np.log10(1000)]\n",
    "sub = sub.loc[sub['quansys_LDH_Pan_pg_ml'] < np.log10(2000)]\n",
    "sub_samps = sub['sample_id'].values\n",
    "len(sub)"
   ]
  },
  {
   "cell_type": "code",
   "execution_count": 31,
   "metadata": {},
   "outputs": [
    {
     "data": {
      "text/plain": [
       "251"
      ]
     },
     "execution_count": 31,
     "metadata": {},
     "output_type": "execute_result"
    }
   ],
   "source": [
    "below = test_df.loc[test_df['quansys_LDH_Pan_pg_ml'] < np.log10(1000)]\n",
    "len(below)"
   ]
  },
  {
   "cell_type": "code",
   "execution_count": 32,
   "metadata": {},
   "outputs": [
    {
     "data": {
      "text/plain": [
       "596"
      ]
     },
     "execution_count": 32,
     "metadata": {},
     "output_type": "execute_result"
    }
   ],
   "source": [
    "len(test_df)"
   ]
  },
  {
   "cell_type": "code",
   "execution_count": 33,
   "metadata": {},
   "outputs": [
    {
     "data": {
      "text/plain": [
       "0.09395973154362416"
      ]
     },
     "execution_count": 33,
     "metadata": {},
     "output_type": "execute_result"
    }
   ],
   "source": [
    "56/596"
   ]
  },
  {
   "cell_type": "code",
   "execution_count": 34,
   "metadata": {},
   "outputs": [
    {
     "data": {
      "text/plain": [
       "0.4211409395973154"
      ]
     },
     "execution_count": 34,
     "metadata": {},
     "output_type": "execute_result"
    }
   ],
   "source": [
    "251/596"
   ]
  },
  {
   "cell_type": "code",
   "execution_count": 35,
   "metadata": {},
   "outputs": [
    {
     "data": {
      "image/png": "[encoded data removed]",
      "text/plain": [
       "<Figure size 432x288 with 1 Axes>"
      ]
     },
     "metadata": {
      "needs_background": "light"
     },
     "output_type": "display_data"
    }
   ],
   "source": [
    "pp = PdfPages('C:/Users/lzoeckler/Desktop/pv_density_plot.pdf')\n",
    "ax = sns.distplot(x, hist=False, color='k')\n",
    "ln = ax.lines[0]\n",
    "y = ln.get_ydata()\n",
    "x1 = ln.get_xdata()\n",
    "ax.fill_between(x1, 0, y, where=(np.log10(2000) > x1) & (x1 > np.log10(900)), color='k', label='Total number of\\nsamples between\\n1 and 2 ng/ml')\n",
    "ax.axvline(np.log10(1000), color='g', label='1 ng/ml')#, ymax=0.5)\n",
    "ax.axvline(np.log10(2000), color='r', label='2 ng/ml')#, ymax=0.5)\n",
    "ax.set_ylim(0, 0.4)\n",
    "ax.legend()\n",
    "ax.set_ylabel('Density')\n",
    "ax.set_xlabel('log10 pLDH pg/ml')\n",
    "plt.xticks([-1, 0, 1, 2, 3, 4, 6], [0.1, 1, 10, 100, 1000, 10000, 1000000])\n",
    "f = ax.get_figure()\n",
    "plt.title('Pv+ PCR+ pLDH\\n56/596 samples fall between 1 and 2 ng/ml (~9.4%)\\n251/596 samples fall below 1 ng/ml (~42.1%)')\n",
    "plt.tight_layout()\n",
    "plt.show()\n",
    "pp.savefig(f)\n",
    "plt.close()\n",
    "pp.close()"
   ]
  },
  {
   "cell_type": "code",
   "execution_count": 36,
   "metadata": {},
   "outputs": [
    {
     "data": {
      "text/html": [
       "<div>\n",
       "<style scoped>\n",
       "    .dataframe tbody tr th:only-of-type {\n",
       "        vertical-align: middle;\n",
       "    }\n",
       "\n",
       "    .dataframe tbody tr th {\n",
       "        vertical-align: top;\n",
       "    }\n",
       "\n",
       "    .dataframe thead th {\n",
       "        text-align: right;\n",
       "    }\n",
       "</style>\n",
       "<table border=\"1\" class=\"dataframe\">\n",
       "  <thead>\n",
       "    <tr style=\"text-align: right;\">\n",
       "      <th></th>\n",
       "      <th>quansys_HRP2_pg_ml</th>\n",
       "      <th>quansys_LDH_Pan_pg_ml</th>\n",
       "      <th>quansys_LDH_Pv_pg_ml</th>\n",
       "      <th>quansys_LDH_Pf_pg_ml</th>\n",
       "      <th>quansys_CRP_ng_ml</th>\n",
       "      <th>PCR_pos</th>\n",
       "      <th>sample_id</th>\n",
       "    </tr>\n",
       "  </thead>\n",
       "  <tbody>\n",
       "    <tr>\n",
       "      <td>17</td>\n",
       "      <td>4.156454</td>\n",
       "      <td>4.547260</td>\n",
       "      <td>0.792987</td>\n",
       "      <td>NaN</td>\n",
       "      <td>2.682798</td>\n",
       "      <td>1.0</td>\n",
       "      <td>1 MV-15-444-E D547 ()</td>\n",
       "    </tr>\n",
       "    <tr>\n",
       "      <td>27</td>\n",
       "      <td>3.789929</td>\n",
       "      <td>2.191311</td>\n",
       "      <td>0.550045</td>\n",
       "      <td>NaN</td>\n",
       "      <td>1.940873</td>\n",
       "      <td>1.0</td>\n",
       "      <td>10 444-E D568 ()</td>\n",
       "    </tr>\n",
       "    <tr>\n",
       "      <td>38</td>\n",
       "      <td>-1.000000</td>\n",
       "      <td>-1.000000</td>\n",
       "      <td>-1.000000</td>\n",
       "      <td>NaN</td>\n",
       "      <td>-1.000000</td>\n",
       "      <td>1.0</td>\n",
       "      <td>11 322-T D582 ()</td>\n",
       "    </tr>\n",
       "    <tr>\n",
       "      <td>42</td>\n",
       "      <td>4.128456</td>\n",
       "      <td>3.974204</td>\n",
       "      <td>0.856203</td>\n",
       "      <td>NaN</td>\n",
       "      <td>2.951730</td>\n",
       "      <td>1.0</td>\n",
       "      <td>11 389-X D568 ()</td>\n",
       "    </tr>\n",
       "    <tr>\n",
       "      <td>47</td>\n",
       "      <td>4.217487</td>\n",
       "      <td>4.173392</td>\n",
       "      <td>0.518461</td>\n",
       "      <td>NaN</td>\n",
       "      <td>3.417125</td>\n",
       "      <td>1.0</td>\n",
       "      <td>11 463-V D554 ()</td>\n",
       "    </tr>\n",
       "  </tbody>\n",
       "</table>\n",
       "</div>"
      ],
      "text/plain": [
       "    quansys_HRP2_pg_ml  quansys_LDH_Pan_pg_ml  quansys_LDH_Pv_pg_ml  \\\n",
       "17            4.156454               4.547260              0.792987   \n",
       "27            3.789929               2.191311              0.550045   \n",
       "38           -1.000000              -1.000000             -1.000000   \n",
       "42            4.128456               3.974204              0.856203   \n",
       "47            4.217487               4.173392              0.518461   \n",
       "\n",
       "    quansys_LDH_Pf_pg_ml  quansys_CRP_ng_ml  PCR_pos              sample_id  \n",
       "17                   NaN           2.682798      1.0  1 MV-15-444-E D547 ()  \n",
       "27                   NaN           1.940873      1.0       10 444-E D568 ()  \n",
       "38                   NaN          -1.000000      1.0       11 322-T D582 ()  \n",
       "42                   NaN           2.951730      1.0       11 389-X D568 ()  \n",
       "47                   NaN           3.417125      1.0       11 463-V D554 ()  "
      ]
     },
     "execution_count": 36,
     "metadata": {},
     "output_type": "execute_result"
    }
   ],
   "source": [
    "pos_df = big_df.loc[big_df['PCR_pos'] == 1]\n",
    "NIH_01_df = pos_df.loc[pos_df['study_id'] == '17-NIH-01']\n",
    "test_df = NIH_01_df.copy(deep=True)\n",
    "test_df = test_df[val_cols + ['PCR_pos', 'sample_id']]\n",
    "test_df = test_df.loc[~test_df['quansys_LDH_Pv_pg_ml'].isnull()]\n",
    "test_df = test_df.loc[~test_df['quansys_HRP2_pg_ml'].isnull()]\n",
    "test_df[val_cols] = test_df[val_cols].applymap(clean_strings)\n",
    "x = test_df['quansys_LDH_Pan_pg_ml'].values\n",
    "test_df.head()"
   ]
  },
  {
   "cell_type": "code",
   "execution_count": 37,
   "metadata": {},
   "outputs": [
    {
     "data": {
      "text/plain": [
       "7"
      ]
     },
     "execution_count": 37,
     "metadata": {},
     "output_type": "execute_result"
    }
   ],
   "source": [
    "sub = test_df.loc[test_df['quansys_LDH_Pan_pg_ml'] > np.log10(1000)]\n",
    "sub = sub.loc[sub['quansys_LDH_Pan_pg_ml'] < np.log10(2000)]\n",
    "sub_samps = sub['sample_id'].values\n",
    "len(sub)"
   ]
  },
  {
   "cell_type": "code",
   "execution_count": 38,
   "metadata": {},
   "outputs": [
    {
     "data": {
      "text/plain": [
       "54"
      ]
     },
     "execution_count": 38,
     "metadata": {},
     "output_type": "execute_result"
    }
   ],
   "source": [
    "below = test_df.loc[test_df['quansys_LDH_Pan_pg_ml'] < np.log10(1000)]\n",
    "len(below)"
   ]
  },
  {
   "cell_type": "code",
   "execution_count": 39,
   "metadata": {},
   "outputs": [
    {
     "data": {
      "text/plain": [
       "125"
      ]
     },
     "execution_count": 39,
     "metadata": {},
     "output_type": "execute_result"
    }
   ],
   "source": [
    "len(test_df)"
   ]
  },
  {
   "cell_type": "code",
   "execution_count": 40,
   "metadata": {},
   "outputs": [
    {
     "data": {
      "text/plain": [
       "0.056"
      ]
     },
     "execution_count": 40,
     "metadata": {},
     "output_type": "execute_result"
    }
   ],
   "source": [
    "7/125"
   ]
  },
  {
   "cell_type": "code",
   "execution_count": 41,
   "metadata": {},
   "outputs": [
    {
     "data": {
      "text/plain": [
       "0.432"
      ]
     },
     "execution_count": 41,
     "metadata": {},
     "output_type": "execute_result"
    }
   ],
   "source": [
    "54/125"
   ]
  },
  {
   "cell_type": "code",
   "execution_count": 42,
   "metadata": {},
   "outputs": [
    {
     "data": {
      "image/png": "[encoded data removed]",
      "text/plain": [
       "<Figure size 432x288 with 1 Axes>"
      ]
     },
     "metadata": {
      "needs_background": "light"
     },
     "output_type": "display_data"
    }
   ],
   "source": [
    "pp = PdfPages('C:/Users/lzoeckler/Desktop/NIH_01_density_plot.pdf')\n",
    "ax = sns.distplot(x, hist=False, color='k')\n",
    "ln = ax.lines[0]\n",
    "y = ln.get_ydata()\n",
    "x1 = ln.get_xdata()\n",
    "ax.fill_between(x1, 0, y, where=(np.log10(2000) > x1) & (x1 > np.log10(900)), color='k', label='Total number of\\nsamples between\\n1 and 2 ng/ml')\n",
    "ax.axvline(np.log10(1000), color='g', label='1 ng/ml')#, ymax=0.5)\n",
    "ax.axvline(np.log10(2000), color='r', label='2 ng/ml')#, ymax=0.5)\n",
    "ax.set_ylim(0, 0.4)\n",
    "ax.legend()\n",
    "ax.set_ylabel('Density')\n",
    "ax.set_xlabel('log10 pLDH pg/ml')\n",
    "plt.xticks([-1, 0, 1, 2, 3, 4, 6], [0.1, 1, 10, 100, 1000, 10000, 1000000])\n",
    "f = ax.get_figure()\n",
    "plt.title('NIH Pf TBV PCR+ pLDH\\n7/125 samples fall between 1 and 2 ng/ml (5.6%)\\n125/125 samples fall below 1 ng/ml (43.2%)')\n",
    "plt.tight_layout()\n",
    "plt.show()\n",
    "pp.savefig(f)\n",
    "plt.close()\n",
    "pp.close()"
   ]
  },
  {
   "cell_type": "code",
   "execution_count": 43,
   "metadata": {},
   "outputs": [
    {
     "data": {
      "text/html": [
       "<div>\n",
       "<style scoped>\n",
       "    .dataframe tbody tr th:only-of-type {\n",
       "        vertical-align: middle;\n",
       "    }\n",
       "\n",
       "    .dataframe tbody tr th {\n",
       "        vertical-align: top;\n",
       "    }\n",
       "\n",
       "    .dataframe thead th {\n",
       "        text-align: right;\n",
       "    }\n",
       "</style>\n",
       "<table border=\"1\" class=\"dataframe\">\n",
       "  <thead>\n",
       "    <tr style=\"text-align: right;\">\n",
       "      <th></th>\n",
       "      <th>quansys_HRP2_pg_ml</th>\n",
       "      <th>quansys_LDH_Pan_pg_ml</th>\n",
       "      <th>quansys_LDH_Pv_pg_ml</th>\n",
       "      <th>quansys_LDH_Pf_pg_ml</th>\n",
       "      <th>quansys_CRP_ng_ml</th>\n",
       "      <th>PCR_pos</th>\n",
       "      <th>sample_id</th>\n",
       "    </tr>\n",
       "  </thead>\n",
       "  <tbody>\n",
       "    <tr>\n",
       "      <td>86</td>\n",
       "      <td>3.804619</td>\n",
       "      <td>3.973994</td>\n",
       "      <td>1.132900</td>\n",
       "      <td>NaN</td>\n",
       "      <td>2.995130</td>\n",
       "      <td>1.0</td>\n",
       "      <td>10 3611019 ()</td>\n",
       "    </tr>\n",
       "    <tr>\n",
       "      <td>90</td>\n",
       "      <td>4.217487</td>\n",
       "      <td>4.630735</td>\n",
       "      <td>3.061622</td>\n",
       "      <td>NaN</td>\n",
       "      <td>1.709069</td>\n",
       "      <td>1.0</td>\n",
       "      <td>10 36341034 ()</td>\n",
       "    </tr>\n",
       "    <tr>\n",
       "      <td>115</td>\n",
       "      <td>3.591910</td>\n",
       "      <td>3.991607</td>\n",
       "      <td>3.975803</td>\n",
       "      <td>NaN</td>\n",
       "      <td>2.660987</td>\n",
       "      <td>1.0</td>\n",
       "      <td>11 2211003 ()</td>\n",
       "    </tr>\n",
       "    <tr>\n",
       "      <td>196</td>\n",
       "      <td>3.367522</td>\n",
       "      <td>3.155461</td>\n",
       "      <td>1.205204</td>\n",
       "      <td>NaN</td>\n",
       "      <td>3.514161</td>\n",
       "      <td>1.0</td>\n",
       "      <td>12 36341002 ()</td>\n",
       "    </tr>\n",
       "    <tr>\n",
       "      <td>233</td>\n",
       "      <td>4.217487</td>\n",
       "      <td>3.852183</td>\n",
       "      <td>-1.000000</td>\n",
       "      <td>NaN</td>\n",
       "      <td>3.479332</td>\n",
       "      <td>1.0</td>\n",
       "      <td>13 3201018 ()</td>\n",
       "    </tr>\n",
       "  </tbody>\n",
       "</table>\n",
       "</div>"
      ],
      "text/plain": [
       "     quansys_HRP2_pg_ml  quansys_LDH_Pan_pg_ml  quansys_LDH_Pv_pg_ml  \\\n",
       "86             3.804619               3.973994              1.132900   \n",
       "90             4.217487               4.630735              3.061622   \n",
       "115            3.591910               3.991607              3.975803   \n",
       "196            3.367522               3.155461              1.205204   \n",
       "233            4.217487               3.852183             -1.000000   \n",
       "\n",
       "     quansys_LDH_Pf_pg_ml  quansys_CRP_ng_ml  PCR_pos       sample_id  \n",
       "86                    NaN           2.995130      1.0   10 3611019 ()  \n",
       "90                    NaN           1.709069      1.0  10 36341034 ()  \n",
       "115                   NaN           2.660987      1.0   11 2211003 ()  \n",
       "196                   NaN           3.514161      1.0  12 36341002 ()  \n",
       "233                   NaN           3.479332      1.0   13 3201018 ()  "
      ]
     },
     "execution_count": 43,
     "metadata": {},
     "output_type": "execute_result"
    }
   ],
   "source": [
    "pos_df = big_df.loc[big_df['PCR_pos'] == 1]\n",
    "feb_df = pos_df.loc[pos_df['febrile'] == 1]\n",
    "test_df = feb_df.copy(deep=True)\n",
    "test_df = test_df[val_cols + ['PCR_pos', 'sample_id']]\n",
    "test_df = test_df.loc[~test_df['quansys_LDH_Pan_pg_ml'].isnull()]\n",
    "test_df = test_df.loc[~test_df['quansys_HRP2_pg_ml'].isnull()]\n",
    "test_df[val_cols] = test_df[val_cols].applymap(clean_strings)\n",
    "x = test_df['quansys_LDH_Pan_pg_ml'].values\n",
    "test_df.head()"
   ]
  },
  {
   "cell_type": "code",
   "execution_count": 44,
   "metadata": {},
   "outputs": [
    {
     "data": {
      "text/plain": [
       "5"
      ]
     },
     "execution_count": 44,
     "metadata": {},
     "output_type": "execute_result"
    }
   ],
   "source": [
    "sub = test_df.loc[test_df['quansys_LDH_Pan_pg_ml'] > np.log10(1000)]\n",
    "sub = sub.loc[sub['quansys_LDH_Pan_pg_ml'] < np.log10(2000)]\n",
    "sub_samps = sub['sample_id'].values\n",
    "len(sub)"
   ]
  },
  {
   "cell_type": "code",
   "execution_count": 45,
   "metadata": {},
   "outputs": [
    {
     "data": {
      "text/plain": [
       "8"
      ]
     },
     "execution_count": 45,
     "metadata": {},
     "output_type": "execute_result"
    }
   ],
   "source": [
    "below = test_df.loc[test_df['quansys_LDH_Pan_pg_ml'] < np.log10(1000)]\n",
    "len(below)"
   ]
  },
  {
   "cell_type": "code",
   "execution_count": 46,
   "metadata": {},
   "outputs": [
    {
     "data": {
      "text/plain": [
       "131"
      ]
     },
     "execution_count": 46,
     "metadata": {},
     "output_type": "execute_result"
    }
   ],
   "source": [
    "len(test_df)"
   ]
  },
  {
   "cell_type": "code",
   "execution_count": 47,
   "metadata": {},
   "outputs": [
    {
     "data": {
      "text/plain": [
       "0.03816793893129771"
      ]
     },
     "execution_count": 47,
     "metadata": {},
     "output_type": "execute_result"
    }
   ],
   "source": [
    "5/131"
   ]
  },
  {
   "cell_type": "code",
   "execution_count": 48,
   "metadata": {},
   "outputs": [
    {
     "data": {
      "text/plain": [
       "0.061068702290076333"
      ]
     },
     "execution_count": 48,
     "metadata": {},
     "output_type": "execute_result"
    }
   ],
   "source": [
    "8/131"
   ]
  },
  {
   "cell_type": "code",
   "execution_count": 49,
   "metadata": {},
   "outputs": [
    {
     "data": {
      "image/png": "[encoded data removed]",
      "text/plain": [
       "<Figure size 432x288 with 1 Axes>"
      ]
     },
     "metadata": {
      "needs_background": "light"
     },
     "output_type": "display_data"
    }
   ],
   "source": [
    "pp = PdfPages('C:/Users/lzoeckler/Desktop/febrile_density_plot.pdf')\n",
    "ax = sns.distplot(x, hist=False, color='k')\n",
    "ln = ax.lines[0]\n",
    "y = ln.get_ydata()\n",
    "x1 = ln.get_xdata()\n",
    "ax.fill_between(x1, 0, y, where=(np.log10(2000) > x1) & (x1 > np.log10(900)), color='k', label='Total number of\\nsamples between\\n1 and 2 ng/ml')\n",
    "ax.axvline(np.log10(1000), color='g', label='1 ng/ml')#, ymax=0.5)\n",
    "ax.axvline(np.log10(2000), color='r', label='2 ng/ml')#, ymax=0.5)\n",
    "ax.set_ylim(0, 0.4)\n",
    "ax.legend()\n",
    "ax.set_ylabel('Density')\n",
    "ax.set_xlabel('log10 pLDH pg/ml')\n",
    "plt.xticks([-1, 0, 1, 2, 3, 4, 6], [0.1, 1, 10, 100, 1000, 10000, 1000000])\n",
    "f = ax.get_figure()\n",
    "plt.title('Febrile PCR+ pLDH\\n5/131 samples fall between 1 and 2 ng/ml (~3.8%)\\n8/131 samples fall below 1 ng/ml (~6.1%)')\n",
    "plt.tight_layout()\n",
    "plt.show()\n",
    "pp.savefig(f)\n",
    "plt.close()\n",
    "pp.close()"
   ]
  },
  {
   "cell_type": "code",
   "execution_count": 50,
   "metadata": {},
   "outputs": [
    {
     "data": {
      "text/html": [
       "<div>\n",
       "<style scoped>\n",
       "    .dataframe tbody tr th:only-of-type {\n",
       "        vertical-align: middle;\n",
       "    }\n",
       "\n",
       "    .dataframe tbody tr th {\n",
       "        vertical-align: top;\n",
       "    }\n",
       "\n",
       "    .dataframe thead th {\n",
       "        text-align: right;\n",
       "    }\n",
       "</style>\n",
       "<table border=\"1\" class=\"dataframe\">\n",
       "  <thead>\n",
       "    <tr style=\"text-align: right;\">\n",
       "      <th></th>\n",
       "      <th>quansys_HRP2_pg_ml</th>\n",
       "      <th>quansys_LDH_Pan_pg_ml</th>\n",
       "      <th>quansys_LDH_Pv_pg_ml</th>\n",
       "      <th>quansys_LDH_Pf_pg_ml</th>\n",
       "      <th>quansys_CRP_ng_ml</th>\n",
       "      <th>PCR_pos</th>\n",
       "      <th>sample_id</th>\n",
       "    </tr>\n",
       "  </thead>\n",
       "  <tbody>\n",
       "    <tr>\n",
       "      <td>10</td>\n",
       "      <td>-1.000000</td>\n",
       "      <td>2.382557</td>\n",
       "      <td>1.654658</td>\n",
       "      <td>NaN</td>\n",
       "      <td>1.445823</td>\n",
       "      <td>1.0</td>\n",
       "      <td>1 26831051 ()</td>\n",
       "    </tr>\n",
       "    <tr>\n",
       "      <td>12</td>\n",
       "      <td>3.648414</td>\n",
       "      <td>3.406799</td>\n",
       "      <td>-1.000000</td>\n",
       "      <td>NaN</td>\n",
       "      <td>2.477490</td>\n",
       "      <td>1.0</td>\n",
       "      <td>1 2751037 ()</td>\n",
       "    </tr>\n",
       "    <tr>\n",
       "      <td>18</td>\n",
       "      <td>-1.000000</td>\n",
       "      <td>2.184635</td>\n",
       "      <td>1.618884</td>\n",
       "      <td>NaN</td>\n",
       "      <td>1.889668</td>\n",
       "      <td>1.0</td>\n",
       "      <td>1 3201006 ()</td>\n",
       "    </tr>\n",
       "    <tr>\n",
       "      <td>21</td>\n",
       "      <td>-1.000000</td>\n",
       "      <td>3.318706</td>\n",
       "      <td>1.806858</td>\n",
       "      <td>NaN</td>\n",
       "      <td>2.064804</td>\n",
       "      <td>1.0</td>\n",
       "      <td>1 3391021 ()</td>\n",
       "    </tr>\n",
       "    <tr>\n",
       "      <td>22</td>\n",
       "      <td>-1.000000</td>\n",
       "      <td>2.247581</td>\n",
       "      <td>-1.000000</td>\n",
       "      <td>NaN</td>\n",
       "      <td>2.338987</td>\n",
       "      <td>1.0</td>\n",
       "      <td>1 3421021 ()</td>\n",
       "    </tr>\n",
       "  </tbody>\n",
       "</table>\n",
       "</div>"
      ],
      "text/plain": [
       "    quansys_HRP2_pg_ml  quansys_LDH_Pan_pg_ml  quansys_LDH_Pv_pg_ml  \\\n",
       "10           -1.000000               2.382557              1.654658   \n",
       "12            3.648414               3.406799             -1.000000   \n",
       "18           -1.000000               2.184635              1.618884   \n",
       "21           -1.000000               3.318706              1.806858   \n",
       "22           -1.000000               2.247581             -1.000000   \n",
       "\n",
       "    quansys_LDH_Pf_pg_ml  quansys_CRP_ng_ml  PCR_pos      sample_id  \n",
       "10                   NaN           1.445823      1.0  1 26831051 ()  \n",
       "12                   NaN           2.477490      1.0   1 2751037 ()  \n",
       "18                   NaN           1.889668      1.0   1 3201006 ()  \n",
       "21                   NaN           2.064804      1.0   1 3391021 ()  \n",
       "22                   NaN           2.338987      1.0   1 3421021 ()  "
      ]
     },
     "execution_count": 50,
     "metadata": {},
     "output_type": "execute_result"
    }
   ],
   "source": [
    "pos_df = big_df.loc[big_df['PCR_pos'] == 1]\n",
    "non_feb_df = pos_df.loc[pos_df['febrile'] == 0]\n",
    "test_df = non_feb_df.copy(deep=True)\n",
    "test_df = test_df[val_cols + ['PCR_pos', 'sample_id']]\n",
    "test_df = test_df.loc[~test_df['quansys_LDH_Pan_pg_ml'].isnull()]\n",
    "test_df = test_df.loc[~test_df['quansys_HRP2_pg_ml'].isnull()]\n",
    "test_df[val_cols] = test_df[val_cols].applymap(clean_strings)\n",
    "x = test_df['quansys_LDH_Pan_pg_ml'].values\n",
    "test_df.head()"
   ]
  },
  {
   "cell_type": "code",
   "execution_count": 51,
   "metadata": {},
   "outputs": [
    {
     "data": {
      "text/plain": [
       "48"
      ]
     },
     "execution_count": 51,
     "metadata": {},
     "output_type": "execute_result"
    }
   ],
   "source": [
    "sub = test_df.loc[test_df['quansys_LDH_Pan_pg_ml'] > np.log10(1000)]\n",
    "sub = sub.loc[sub['quansys_LDH_Pan_pg_ml'] < np.log10(2000)]\n",
    "sub_samps = sub['sample_id'].values\n",
    "len(sub)"
   ]
  },
  {
   "cell_type": "code",
   "execution_count": 52,
   "metadata": {},
   "outputs": [
    {
     "data": {
      "text/plain": [
       "408"
      ]
     },
     "execution_count": 52,
     "metadata": {},
     "output_type": "execute_result"
    }
   ],
   "source": [
    "below = test_df.loc[test_df['quansys_LDH_Pan_pg_ml'] < np.log10(1000)]\n",
    "below = below['sample_id'].values\n",
    "len(below)"
   ]
  },
  {
   "cell_type": "code",
   "execution_count": 53,
   "metadata": {},
   "outputs": [
    {
     "data": {
      "text/plain": [
       "595"
      ]
     },
     "execution_count": 53,
     "metadata": {},
     "output_type": "execute_result"
    }
   ],
   "source": [
    "len(test_df)"
   ]
  },
  {
   "cell_type": "code",
   "execution_count": 54,
   "metadata": {},
   "outputs": [
    {
     "data": {
      "text/plain": [
       "0.08067226890756303"
      ]
     },
     "execution_count": 54,
     "metadata": {},
     "output_type": "execute_result"
    }
   ],
   "source": [
    "48/595"
   ]
  },
  {
   "cell_type": "code",
   "execution_count": 55,
   "metadata": {},
   "outputs": [
    {
     "data": {
      "text/plain": [
       "0.6857142857142857"
      ]
     },
     "execution_count": 55,
     "metadata": {},
     "output_type": "execute_result"
    }
   ],
   "source": [
    "408/595"
   ]
  },
  {
   "cell_type": "code",
   "execution_count": 56,
   "metadata": {},
   "outputs": [
    {
     "data": {
      "image/png": "[encoded data removed]",
      "text/plain": [
       "<Figure size 432x288 with 1 Axes>"
      ]
     },
     "metadata": {
      "needs_background": "light"
     },
     "output_type": "display_data"
    }
   ],
   "source": [
    "pp = PdfPages('C:/Users/lzoeckler/Desktop/non_febrile_density_plot.pdf')\n",
    "ax = sns.distplot(x, hist=False, color='k')\n",
    "ln = ax.lines[0]\n",
    "y = ln.get_ydata()\n",
    "x1 = ln.get_xdata()\n",
    "ax.fill_between(x1, 0, y, where=(np.log10(2000) > x1) & (x1 > np.log10(900)), color='k', label='Total number of\\nsamples between\\n1 and 2 ng/ml')\n",
    "ax.axvline(np.log10(1000), color='g', label='1 ng/ml')#, ymax=0.5)\n",
    "ax.axvline(np.log10(2000), color='r', label='2 ng/ml')#, ymax=0.5)\n",
    "ax.set_ylim(0, 0.4)\n",
    "ax.legend()\n",
    "ax.set_ylabel('Density')\n",
    "ax.set_xlabel('log10 pLDH pg/ml')\n",
    "plt.xticks([-1, 0, 1, 2, 3, 4, 6], [0.1, 1, 10, 100, 1000, 10000, 1000000])\n",
    "f = ax.get_figure()\n",
    "plt.title('Non-febrile PCR+ pLDH\\n48/595 samples fall between 1 and 2 ng/ml (~8.1%)\\n408/595 samples fall below 1 ng/ml (~68.6%) ')\n",
    "plt.tight_layout()\n",
    "plt.show()\n",
    "pp.savefig(f)\n",
    "plt.close()\n",
    "pp.close()"
   ]
  },
  {
   "cell_type": "code",
   "execution_count": 57,
   "metadata": {},
   "outputs": [],
   "source": [
    "from scipy.integrate import simps\n",
    "from numpy import trapz"
   ]
  },
  {
   "cell_type": "code",
   "execution_count": 58,
   "metadata": {},
   "outputs": [
    {
     "name": "stdout",
     "output_type": "stream",
     "text": [
      "area = 0.9999022499716027\n"
     ]
    }
   ],
   "source": [
    "area = simps(y, x=x1)\n",
    "print(\"area =\", area)"
   ]
  },
  {
   "cell_type": "code",
   "execution_count": null,
   "metadata": {},
   "outputs": [],
   "source": []
  }
 ],
 "metadata": {
  "kernelspec": {
   "display_name": "Python 3",
   "language": "python",
   "name": "python3"
  },
  "language_info": {
   "codemirror_mode": {
    "name": "ipython",
    "version": 3
   },
   "file_extension": ".py",
   "mimetype": "text/x-python",
   "name": "python",
   "nbconvert_exporter": "python",
   "pygments_lexer": "ipython3",
   "version": "3.7.4"
  }
 },
 "nbformat": 4,
 "nbformat_minor": 2
}
