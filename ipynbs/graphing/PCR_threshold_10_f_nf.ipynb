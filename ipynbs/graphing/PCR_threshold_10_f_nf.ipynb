{
 "cells": [
  {
   "cell_type": "code",
   "execution_count": 43,
   "metadata": {},
   "outputs": [],
   "source": [
    "import pandas as pd\n",
    "import numpy as np\n",
    "import math\n",
    "from matplotlib.backends.backend_pdf import PdfPages\n",
    "from functools import partial, reduce\n",
    "import matplotlib.pyplot as plt\n",
    "from scipy.stats import norm\n",
    "import seaborn as sns\n",
    "import os\n",
    "import re\n",
    "import glob"
   ]
  },
  {
   "cell_type": "code",
   "execution_count": 44,
   "metadata": {},
   "outputs": [
    {
     "data": {
      "text/html": [
       "<div>\n",
       "<style scoped>\n",
       "    .dataframe tbody tr th:only-of-type {\n",
       "        vertical-align: middle;\n",
       "    }\n",
       "\n",
       "    .dataframe tbody tr th {\n",
       "        vertical-align: top;\n",
       "    }\n",
       "\n",
       "    .dataframe thead th {\n",
       "        text-align: right;\n",
       "    }\n",
       "</style>\n",
       "<table border=\"1\" class=\"dataframe\">\n",
       "  <thead>\n",
       "    <tr style=\"text-align: right;\">\n",
       "      <th></th>\n",
       "      <th>HRP2_deletion</th>\n",
       "      <th>PCR_pos</th>\n",
       "      <th>age_yrs</th>\n",
       "      <th>coinfection</th>\n",
       "      <th>country</th>\n",
       "      <th>febrile</th>\n",
       "      <th>infection_category</th>\n",
       "      <th>lat</th>\n",
       "      <th>long</th>\n",
       "      <th>microscopy_pos</th>\n",
       "      <th>...</th>\n",
       "      <th>quansys_LDH_Pf_result</th>\n",
       "      <th>quansys_LDH_Pv_bin</th>\n",
       "      <th>quansys_LDH_Pv_pg_ml</th>\n",
       "      <th>quansys_LDH_Pv_result</th>\n",
       "      <th>quansys_type</th>\n",
       "      <th>sample_id</th>\n",
       "      <th>sample_type</th>\n",
       "      <th>study_id</th>\n",
       "      <th>survey</th>\n",
       "      <th>timepoint_days</th>\n",
       "    </tr>\n",
       "  </thead>\n",
       "  <tbody>\n",
       "    <tr>\n",
       "      <td>0</td>\n",
       "      <td>NaN</td>\n",
       "      <td>0.0</td>\n",
       "      <td>NaN</td>\n",
       "      <td>0.0</td>\n",
       "      <td>Myanmar                                       ...</td>\n",
       "      <td>0.0</td>\n",
       "      <td>chronic                                       ...</td>\n",
       "      <td>NaN</td>\n",
       "      <td>NaN</td>\n",
       "      <td>NaN</td>\n",
       "      <td>...</td>\n",
       "      <td>NaN</td>\n",
       "      <td>0.0</td>\n",
       "      <td>&lt; 2.33</td>\n",
       "      <td>0.0</td>\n",
       "      <td>4plex</td>\n",
       "      <td>1 110501023 ()</td>\n",
       "      <td>WB</td>\n",
       "      <td>16-SMRU-01</td>\n",
       "      <td>cross sectional                               ...</td>\n",
       "      <td>NaN</td>\n",
       "    </tr>\n",
       "    <tr>\n",
       "      <td>1</td>\n",
       "      <td>NaN</td>\n",
       "      <td>0.0</td>\n",
       "      <td>NaN</td>\n",
       "      <td>0.0</td>\n",
       "      <td>Myanmar                                       ...</td>\n",
       "      <td>0.0</td>\n",
       "      <td>chronic                                       ...</td>\n",
       "      <td>NaN</td>\n",
       "      <td>NaN</td>\n",
       "      <td>NaN</td>\n",
       "      <td>...</td>\n",
       "      <td>NaN</td>\n",
       "      <td>0.0</td>\n",
       "      <td>&lt; 2.33</td>\n",
       "      <td>0.0</td>\n",
       "      <td>4plex</td>\n",
       "      <td>1 1421001 ()</td>\n",
       "      <td>WB</td>\n",
       "      <td>16-SMRU-01</td>\n",
       "      <td>cross sectional                               ...</td>\n",
       "      <td>NaN</td>\n",
       "    </tr>\n",
       "    <tr>\n",
       "      <td>2</td>\n",
       "      <td>NaN</td>\n",
       "      <td>0.0</td>\n",
       "      <td>NaN</td>\n",
       "      <td>0.0</td>\n",
       "      <td>Myanmar                                       ...</td>\n",
       "      <td>0.0</td>\n",
       "      <td>chronic                                       ...</td>\n",
       "      <td>NaN</td>\n",
       "      <td>NaN</td>\n",
       "      <td>NaN</td>\n",
       "      <td>...</td>\n",
       "      <td>NaN</td>\n",
       "      <td>0.0</td>\n",
       "      <td>&lt; 2.33</td>\n",
       "      <td>0.0</td>\n",
       "      <td>4plex</td>\n",
       "      <td>1 1421035 ()</td>\n",
       "      <td>WB</td>\n",
       "      <td>16-SMRU-01</td>\n",
       "      <td>cross sectional                               ...</td>\n",
       "      <td>NaN</td>\n",
       "    </tr>\n",
       "    <tr>\n",
       "      <td>3</td>\n",
       "      <td>NaN</td>\n",
       "      <td>0.0</td>\n",
       "      <td>NaN</td>\n",
       "      <td>0.0</td>\n",
       "      <td>Myanmar                                       ...</td>\n",
       "      <td>0.0</td>\n",
       "      <td>chronic                                       ...</td>\n",
       "      <td>NaN</td>\n",
       "      <td>NaN</td>\n",
       "      <td>NaN</td>\n",
       "      <td>...</td>\n",
       "      <td>NaN</td>\n",
       "      <td>0.0</td>\n",
       "      <td>&lt; 2.33</td>\n",
       "      <td>0.0</td>\n",
       "      <td>4plex</td>\n",
       "      <td>1 151019 ()</td>\n",
       "      <td>WB</td>\n",
       "      <td>16-SMRU-01</td>\n",
       "      <td>cross sectional                               ...</td>\n",
       "      <td>NaN</td>\n",
       "    </tr>\n",
       "    <tr>\n",
       "      <td>4</td>\n",
       "      <td>NaN</td>\n",
       "      <td>0.0</td>\n",
       "      <td>NaN</td>\n",
       "      <td>0.0</td>\n",
       "      <td>Myanmar                                       ...</td>\n",
       "      <td>0.0</td>\n",
       "      <td>chronic                                       ...</td>\n",
       "      <td>NaN</td>\n",
       "      <td>NaN</td>\n",
       "      <td>NaN</td>\n",
       "      <td>...</td>\n",
       "      <td>NaN</td>\n",
       "      <td>0.0</td>\n",
       "      <td>&lt; 2.33</td>\n",
       "      <td>0.0</td>\n",
       "      <td>4plex</td>\n",
       "      <td>1 1771028 ()</td>\n",
       "      <td>WB</td>\n",
       "      <td>16-SMRU-01</td>\n",
       "      <td>cross sectional                               ...</td>\n",
       "      <td>NaN</td>\n",
       "    </tr>\n",
       "  </tbody>\n",
       "</table>\n",
       "<p>5 rows × 38 columns</p>\n",
       "</div>"
      ],
      "text/plain": [
       "   HRP2_deletion  PCR_pos  age_yrs  coinfection  \\\n",
       "0            NaN      0.0      NaN          0.0   \n",
       "1            NaN      0.0      NaN          0.0   \n",
       "2            NaN      0.0      NaN          0.0   \n",
       "3            NaN      0.0      NaN          0.0   \n",
       "4            NaN      0.0      NaN          0.0   \n",
       "\n",
       "                                             country  febrile  \\\n",
       "0  Myanmar                                       ...      0.0   \n",
       "1  Myanmar                                       ...      0.0   \n",
       "2  Myanmar                                       ...      0.0   \n",
       "3  Myanmar                                       ...      0.0   \n",
       "4  Myanmar                                       ...      0.0   \n",
       "\n",
       "                                  infection_category  lat  long  \\\n",
       "0  chronic                                       ...  NaN   NaN   \n",
       "1  chronic                                       ...  NaN   NaN   \n",
       "2  chronic                                       ...  NaN   NaN   \n",
       "3  chronic                                       ...  NaN   NaN   \n",
       "4  chronic                                       ...  NaN   NaN   \n",
       "\n",
       "   microscopy_pos  ...  quansys_LDH_Pf_result quansys_LDH_Pv_bin  \\\n",
       "0             NaN  ...                    NaN                0.0   \n",
       "1             NaN  ...                    NaN                0.0   \n",
       "2             NaN  ...                    NaN                0.0   \n",
       "3             NaN  ...                    NaN                0.0   \n",
       "4             NaN  ...                    NaN                0.0   \n",
       "\n",
       "   quansys_LDH_Pv_pg_ml  quansys_LDH_Pv_result  quansys_type       sample_id  \\\n",
       "0                < 2.33                    0.0         4plex  1 110501023 ()   \n",
       "1                < 2.33                    0.0         4plex    1 1421001 ()   \n",
       "2                < 2.33                    0.0         4plex    1 1421035 ()   \n",
       "3                < 2.33                    0.0         4plex     1 151019 ()   \n",
       "4                < 2.33                    0.0         4plex    1 1771028 ()   \n",
       "\n",
       "   sample_type    study_id                                             survey  \\\n",
       "0   WB          16-SMRU-01  cross sectional                               ...   \n",
       "1   WB          16-SMRU-01  cross sectional                               ...   \n",
       "2   WB          16-SMRU-01  cross sectional                               ...   \n",
       "3   WB          16-SMRU-01  cross sectional                               ...   \n",
       "4   WB          16-SMRU-01  cross sectional                               ...   \n",
       "\n",
       "   timepoint_days  \n",
       "0             NaN  \n",
       "1             NaN  \n",
       "2             NaN  \n",
       "3             NaN  \n",
       "4             NaN  \n",
       "\n",
       "[5 rows x 38 columns]"
      ]
     },
     "execution_count": 44,
     "metadata": {},
     "output_type": "execute_result"
    }
   ],
   "source": [
    "all_files = glob.glob('C:/Users/lzoeckler/Desktop/all_data/separated/binned/*.csv')\n",
    "big_df = []\n",
    "for file in all_files:\n",
    "    df = pd.read_csv(file)\n",
    "    big_df.append(df)\n",
    "big_df = pd.concat(big_df, sort=True)\n",
    "big_df = big_df.loc[~big_df['PCR_pos'].isnull()]\n",
    "big_df.head()"
   ]
  },
  {
   "cell_type": "code",
   "execution_count": 45,
   "metadata": {},
   "outputs": [
    {
     "name": "stdout",
     "output_type": "stream",
     "text": [
      "16-SMRU-01 1822\n",
      "17-NIH-01 620\n",
      "17-NIH-02 327\n",
      "17-QIMR-01 305\n",
      "17-QIMR-02 163\n",
      "17-QIMR-03 22\n",
      "18-DLS-01 75\n",
      "18-DLS-02 2\n",
      "18-FIND-01 94\n",
      "18-FIND-02 25\n"
     ]
    }
   ],
   "source": [
    "for study_id in big_df['study_id'].unique():\n",
    "    study_df = big_df.loc[big_df['study_id'] == study_id]\n",
    "    print(study_id, len(study_df))"
   ]
  },
  {
   "cell_type": "code",
   "execution_count": 46,
   "metadata": {},
   "outputs": [
    {
     "data": {
      "text/plain": [
       "3455"
      ]
     },
     "execution_count": 46,
     "metadata": {},
     "output_type": "execute_result"
    }
   ],
   "source": [
    "len(big_df)"
   ]
  },
  {
   "cell_type": "code",
   "execution_count": 47,
   "metadata": {},
   "outputs": [],
   "source": [
    "def clean_strings(val):\n",
    "    if isinstance(val, str):\n",
    "        if '<' in val:\n",
    "            return np.log10(.1)\n",
    "        elif '>' in val:\n",
    "            clean = val.replace('> ', '')\n",
    "            return np.log10(float(clean) + .1)\n",
    "        else:\n",
    "            try:\n",
    "                return np.log10(float(val) + .1)\n",
    "            except ValueError:\n",
    "                return np.null\n",
    "    elif isinstance(val, float) or isinstance(val, int):\n",
    "        return np.log10(val + .1)\n",
    "    else:\n",
    "        raise"
   ]
  },
  {
   "cell_type": "code",
   "execution_count": 48,
   "metadata": {},
   "outputs": [],
   "source": [
    "val_cols = ['quansys_HRP2_pg_ml', 'quansys_LDH_Pan_pg_ml', 'quansys_LDH_Pv_pg_ml',\n",
    "            'quansys_LDH_Pf_pg_ml', 'quansys_CRP_ng_ml']"
   ]
  },
  {
   "cell_type": "code",
   "execution_count": 54,
   "metadata": {},
   "outputs": [],
   "source": [
    "pos_df = big_df.loc[big_df['PCR_pos'] == 1]\n",
    "pos_df = pos_df.loc[~pos_df['quansys_LDH_Pv_pg_ml'].isnull()]\n",
    "pos_df = pos_df.loc[~pos_df['quansys_HRP2_pg_ml'].isnull()]\n",
    "pos_df[val_cols] = pos_df[val_cols].applymap(clean_strings)"
   ]
  },
  {
   "cell_type": "code",
   "execution_count": 63,
   "metadata": {},
   "outputs": [],
   "source": [
    "den_df = pos_df.copy(deep=True)\n",
    "den_df = den_df[val_cols + ['PCR_pos', 'sample_id']]"
   ]
  },
  {
   "cell_type": "code",
   "execution_count": 64,
   "metadata": {},
   "outputs": [],
   "source": [
    "feb_df = pos_df.copy(deep=True)\n",
    "feb_df = feb_df.loc[feb_df['febrile'] == 1]\n",
    "feb_df = feb_df[val_cols + ['PCR_pos', 'sample_id']]"
   ]
  },
  {
   "cell_type": "code",
   "execution_count": 65,
   "metadata": {},
   "outputs": [],
   "source": [
    "non_feb_df = pos_df.copy(deep=True)\n",
    "non_feb_df = non_feb_df.loc[non_feb_df['febrile'] == 0]\n",
    "non_feb_df = non_feb_df[val_cols + ['PCR_pos', 'sample_id']]"
   ]
  },
  {
   "cell_type": "code",
   "execution_count": 66,
   "metadata": {},
   "outputs": [
    {
     "data": {
      "text/html": [
       "<div>\n",
       "<style scoped>\n",
       "    .dataframe tbody tr th:only-of-type {\n",
       "        vertical-align: middle;\n",
       "    }\n",
       "\n",
       "    .dataframe tbody tr th {\n",
       "        vertical-align: top;\n",
       "    }\n",
       "\n",
       "    .dataframe thead th {\n",
       "        text-align: right;\n",
       "    }\n",
       "</style>\n",
       "<table border=\"1\" class=\"dataframe\">\n",
       "  <thead>\n",
       "    <tr style=\"text-align: right;\">\n",
       "      <th></th>\n",
       "      <th>quansys_HRP2_pg_ml</th>\n",
       "      <th>quansys_LDH_Pan_pg_ml</th>\n",
       "      <th>quansys_LDH_Pv_pg_ml</th>\n",
       "      <th>quansys_LDH_Pf_pg_ml</th>\n",
       "      <th>quansys_CRP_ng_ml</th>\n",
       "      <th>PCR_pos</th>\n",
       "      <th>sample_id</th>\n",
       "    </tr>\n",
       "  </thead>\n",
       "  <tbody>\n",
       "    <tr>\n",
       "      <td>10</td>\n",
       "      <td>-1.000000</td>\n",
       "      <td>2.382557</td>\n",
       "      <td>1.654658</td>\n",
       "      <td>NaN</td>\n",
       "      <td>1.445823</td>\n",
       "      <td>1.0</td>\n",
       "      <td>1 26831051 ()</td>\n",
       "    </tr>\n",
       "    <tr>\n",
       "      <td>12</td>\n",
       "      <td>3.648414</td>\n",
       "      <td>3.406799</td>\n",
       "      <td>-1.000000</td>\n",
       "      <td>NaN</td>\n",
       "      <td>2.477490</td>\n",
       "      <td>1.0</td>\n",
       "      <td>1 2751037 ()</td>\n",
       "    </tr>\n",
       "    <tr>\n",
       "      <td>18</td>\n",
       "      <td>-1.000000</td>\n",
       "      <td>2.184635</td>\n",
       "      <td>1.618884</td>\n",
       "      <td>NaN</td>\n",
       "      <td>1.889668</td>\n",
       "      <td>1.0</td>\n",
       "      <td>1 3201006 ()</td>\n",
       "    </tr>\n",
       "    <tr>\n",
       "      <td>21</td>\n",
       "      <td>-1.000000</td>\n",
       "      <td>3.318706</td>\n",
       "      <td>1.806858</td>\n",
       "      <td>NaN</td>\n",
       "      <td>2.064804</td>\n",
       "      <td>1.0</td>\n",
       "      <td>1 3391021 ()</td>\n",
       "    </tr>\n",
       "    <tr>\n",
       "      <td>22</td>\n",
       "      <td>-1.000000</td>\n",
       "      <td>2.247581</td>\n",
       "      <td>-1.000000</td>\n",
       "      <td>NaN</td>\n",
       "      <td>2.338987</td>\n",
       "      <td>1.0</td>\n",
       "      <td>1 3421021 ()</td>\n",
       "    </tr>\n",
       "    <tr>\n",
       "      <td>...</td>\n",
       "      <td>...</td>\n",
       "      <td>...</td>\n",
       "      <td>...</td>\n",
       "      <td>...</td>\n",
       "      <td>...</td>\n",
       "      <td>...</td>\n",
       "      <td>...</td>\n",
       "    </tr>\n",
       "    <tr>\n",
       "      <td>1795</td>\n",
       "      <td>-1.000000</td>\n",
       "      <td>2.421324</td>\n",
       "      <td>-1.000000</td>\n",
       "      <td>NaN</td>\n",
       "      <td>4.757582</td>\n",
       "      <td>1.0</td>\n",
       "      <td>9 3501024 ()</td>\n",
       "    </tr>\n",
       "    <tr>\n",
       "      <td>1796</td>\n",
       "      <td>3.464357</td>\n",
       "      <td>2.636448</td>\n",
       "      <td>0.431364</td>\n",
       "      <td>NaN</td>\n",
       "      <td>3.025488</td>\n",
       "      <td>1.0</td>\n",
       "      <td>9 3571047 ()</td>\n",
       "    </tr>\n",
       "    <tr>\n",
       "      <td>1803</td>\n",
       "      <td>-1.000000</td>\n",
       "      <td>2.683524</td>\n",
       "      <td>2.081455</td>\n",
       "      <td>NaN</td>\n",
       "      <td>1.658932</td>\n",
       "      <td>1.0</td>\n",
       "      <td>9 36331061 ()</td>\n",
       "    </tr>\n",
       "    <tr>\n",
       "      <td>1805</td>\n",
       "      <td>-1.000000</td>\n",
       "      <td>2.936906</td>\n",
       "      <td>2.237594</td>\n",
       "      <td>NaN</td>\n",
       "      <td>3.199452</td>\n",
       "      <td>1.0</td>\n",
       "      <td>9 36351003 ()</td>\n",
       "    </tr>\n",
       "    <tr>\n",
       "      <td>1809</td>\n",
       "      <td>-1.000000</td>\n",
       "      <td>4.356300</td>\n",
       "      <td>3.753124</td>\n",
       "      <td>NaN</td>\n",
       "      <td>3.210586</td>\n",
       "      <td>1.0</td>\n",
       "      <td>9 3671038 ()</td>\n",
       "    </tr>\n",
       "  </tbody>\n",
       "</table>\n",
       "<p>595 rows × 7 columns</p>\n",
       "</div>"
      ],
      "text/plain": [
       "      quansys_HRP2_pg_ml  quansys_LDH_Pan_pg_ml  quansys_LDH_Pv_pg_ml  \\\n",
       "10             -1.000000               2.382557              1.654658   \n",
       "12              3.648414               3.406799             -1.000000   \n",
       "18             -1.000000               2.184635              1.618884   \n",
       "21             -1.000000               3.318706              1.806858   \n",
       "22             -1.000000               2.247581             -1.000000   \n",
       "...                  ...                    ...                   ...   \n",
       "1795           -1.000000               2.421324             -1.000000   \n",
       "1796            3.464357               2.636448              0.431364   \n",
       "1803           -1.000000               2.683524              2.081455   \n",
       "1805           -1.000000               2.936906              2.237594   \n",
       "1809           -1.000000               4.356300              3.753124   \n",
       "\n",
       "      quansys_LDH_Pf_pg_ml  quansys_CRP_ng_ml  PCR_pos      sample_id  \n",
       "10                     NaN           1.445823      1.0  1 26831051 ()  \n",
       "12                     NaN           2.477490      1.0   1 2751037 ()  \n",
       "18                     NaN           1.889668      1.0   1 3201006 ()  \n",
       "21                     NaN           2.064804      1.0   1 3391021 ()  \n",
       "22                     NaN           2.338987      1.0   1 3421021 ()  \n",
       "...                    ...                ...      ...            ...  \n",
       "1795                   NaN           4.757582      1.0   9 3501024 ()  \n",
       "1796                   NaN           3.025488      1.0   9 3571047 ()  \n",
       "1803                   NaN           1.658932      1.0  9 36331061 ()  \n",
       "1805                   NaN           3.199452      1.0  9 36351003 ()  \n",
       "1809                   NaN           3.210586      1.0   9 3671038 ()  \n",
       "\n",
       "[595 rows x 7 columns]"
      ]
     },
     "execution_count": 66,
     "metadata": {},
     "output_type": "execute_result"
    }
   ],
   "source": [
    "non_feb_df"
   ]
  },
  {
   "cell_type": "code",
   "execution_count": 69,
   "metadata": {},
   "outputs": [],
   "source": [
    "value_list = [(den_df, 'PCR+ pLDH', 'density_plot'), (feb_df, 'Febrile PCR+ pLDH', 'febrile_plot'),\n",
    "              (non_feb_df, 'Non-febrile PCR+ pLDH', 'non_febrile_plot')]"
   ]
  },
  {
   "cell_type": "code",
   "execution_count": 72,
   "metadata": {},
   "outputs": [
    {
     "data": {
      "image/png": "[encoded data removed]",
      "text/plain": [
       "<Figure size 432x288 with 1 Axes>"
      ]
     },
     "metadata": {
      "needs_background": "light"
     },
     "output_type": "display_data"
    },
    {
     "data": {
      "image/png": "[encoded data removed]",
      "text/plain": [
       "<Figure size 432x288 with 1 Axes>"
      ]
     },
     "metadata": {
      "needs_background": "light"
     },
     "output_type": "display_data"
    },
    {
     "data": {
      "image/png": "[encoded data removed]",
      "text/plain": [
       "<Figure size 432x288 with 1 Axes>"
      ]
     },
     "metadata": {
      "needs_background": "light"
     },
     "output_type": "display_data"
    }
   ],
   "source": [
    "for test_df, pdf_title, plot_title in value_list:\n",
    "    x = test_df['quansys_LDH_Pan_pg_ml'].values\n",
    "    \n",
    "    sub = test_df.loc[test_df['quansys_LDH_Pan_pg_ml'] > np.log10(1000)]\n",
    "    sub = sub.loc[sub['quansys_LDH_Pan_pg_ml'] < np.log10(10000)]\n",
    "    sub_samps = sub['sample_id'].values\n",
    "    sub = len(sub)\n",
    "    below = len(test_df.loc[test_df['quansys_LDH_Pan_pg_ml'] < np.log10(1000)])\n",
    "    above = len(test_df.loc[test_df['quansys_LDH_Pan_pg_ml'] > np.log10(1000)])\n",
    "    ten_above = len(test_df.loc[test_df['quansys_LDH_Pan_pg_ml'] > np.log10(10000)])\n",
    "    total = len(test_df)\n",
    "    \n",
    "    title = '''{p}\\n{s}/{t} samples fall between 1 and 10 ng/ml (~{st}%)\\n{b}/{t} samples fall below 1 ng/ml (~{bt}%)\n",
    "    {a}/{t} samples fall above 1 ng/ml(~{at}%)\\n{ta}/{t} samples fall above 10 ng/ml (~{tat}%)'''.format(p=pdf_title,\n",
    "    t=total, s=sub, st=np.round(100*(sub/total), 1), b=below, bt=np.round(100*(below/total), 1), a=above,\n",
    "    at=np.round(100*(above/total), 1), ta=ten_above, tat=np.round(100*(ten_above/total), 1))\n",
    "    \n",
    "    pp = PdfPages('C:/Users/lzoeckler/Desktop/{}.pdf'.format(plot_title))\n",
    "    ax = sns.distplot(x, hist=False, color='k')\n",
    "    ln = ax.lines[0]\n",
    "    y = ln.get_ydata()\n",
    "    x1 = ln.get_xdata()\n",
    "    ax.fill_between(x1, 0, y, where=(np.log10(10000) > x1) & (x1 > np.log10(1000)), color='k', label='Samples between\\n1 and 10 ng/ml')\n",
    "    ax.fill_between(x1, 0, y, where=(np.log10(10000) < x1), color='g', label='Samples above\\n10 ng/ml')\n",
    "    ax.fill_between(x1, 0, y, where=(x1 < np.log10(1000)), color='r', label='Samples below\\n1 ng/ml')\n",
    "    ax.set_ylim(0, 0.4)\n",
    "    ax.legend()\n",
    "    ax.set_ylabel('Density')\n",
    "    ax.set_xlabel('log10 pLDH pg/ml')\n",
    "    plt.xticks([-1, 0, 1, 2, 3, 4, 6, 8], [0.1, 1, 10, 100, 1000, 10000, 1000000, 100000000])\n",
    "    f = ax.get_figure()\n",
    "    plt.title(title)\n",
    "    plt.tight_layout()\n",
    "    plt.show()\n",
    "    pp.savefig(f)\n",
    "    plt.close()\n",
    "    pp.close()"
   ]
  },
  {
   "cell_type": "code",
   "execution_count": 71,
   "metadata": {},
   "outputs": [
    {
     "data": {
      "text/html": [
       "<div>\n",
       "<style scoped>\n",
       "    .dataframe tbody tr th:only-of-type {\n",
       "        vertical-align: middle;\n",
       "    }\n",
       "\n",
       "    .dataframe tbody tr th {\n",
       "        vertical-align: top;\n",
       "    }\n",
       "\n",
       "    .dataframe thead th {\n",
       "        text-align: right;\n",
       "    }\n",
       "</style>\n",
       "<table border=\"1\" class=\"dataframe\">\n",
       "  <thead>\n",
       "    <tr style=\"text-align: right;\">\n",
       "      <th></th>\n",
       "      <th>quansys_HRP2_pg_ml</th>\n",
       "      <th>quansys_LDH_Pan_pg_ml</th>\n",
       "      <th>quansys_LDH_Pv_pg_ml</th>\n",
       "      <th>quansys_LDH_Pf_pg_ml</th>\n",
       "      <th>quansys_CRP_ng_ml</th>\n",
       "      <th>PCR_pos</th>\n",
       "      <th>sample_id</th>\n",
       "    </tr>\n",
       "  </thead>\n",
       "  <tbody>\n",
       "    <tr>\n",
       "      <td>10</td>\n",
       "      <td>-1.000000</td>\n",
       "      <td>2.382557</td>\n",
       "      <td>1.654658</td>\n",
       "      <td>NaN</td>\n",
       "      <td>1.445823</td>\n",
       "      <td>1.0</td>\n",
       "      <td>1 26831051 ()</td>\n",
       "    </tr>\n",
       "    <tr>\n",
       "      <td>12</td>\n",
       "      <td>3.648414</td>\n",
       "      <td>3.406799</td>\n",
       "      <td>-1.000000</td>\n",
       "      <td>NaN</td>\n",
       "      <td>2.477490</td>\n",
       "      <td>1.0</td>\n",
       "      <td>1 2751037 ()</td>\n",
       "    </tr>\n",
       "    <tr>\n",
       "      <td>18</td>\n",
       "      <td>-1.000000</td>\n",
       "      <td>2.184635</td>\n",
       "      <td>1.618884</td>\n",
       "      <td>NaN</td>\n",
       "      <td>1.889668</td>\n",
       "      <td>1.0</td>\n",
       "      <td>1 3201006 ()</td>\n",
       "    </tr>\n",
       "    <tr>\n",
       "      <td>21</td>\n",
       "      <td>-1.000000</td>\n",
       "      <td>3.318706</td>\n",
       "      <td>1.806858</td>\n",
       "      <td>NaN</td>\n",
       "      <td>2.064804</td>\n",
       "      <td>1.0</td>\n",
       "      <td>1 3391021 ()</td>\n",
       "    </tr>\n",
       "    <tr>\n",
       "      <td>22</td>\n",
       "      <td>-1.000000</td>\n",
       "      <td>2.247581</td>\n",
       "      <td>-1.000000</td>\n",
       "      <td>NaN</td>\n",
       "      <td>2.338987</td>\n",
       "      <td>1.0</td>\n",
       "      <td>1 3421021 ()</td>\n",
       "    </tr>\n",
       "  </tbody>\n",
       "</table>\n",
       "</div>"
      ],
      "text/plain": [
       "    quansys_HRP2_pg_ml  quansys_LDH_Pan_pg_ml  quansys_LDH_Pv_pg_ml  \\\n",
       "10           -1.000000               2.382557              1.654658   \n",
       "12            3.648414               3.406799             -1.000000   \n",
       "18           -1.000000               2.184635              1.618884   \n",
       "21           -1.000000               3.318706              1.806858   \n",
       "22           -1.000000               2.247581             -1.000000   \n",
       "\n",
       "    quansys_LDH_Pf_pg_ml  quansys_CRP_ng_ml  PCR_pos      sample_id  \n",
       "10                   NaN           1.445823      1.0  1 26831051 ()  \n",
       "12                   NaN           2.477490      1.0   1 2751037 ()  \n",
       "18                   NaN           1.889668      1.0   1 3201006 ()  \n",
       "21                   NaN           2.064804      1.0   1 3391021 ()  \n",
       "22                   NaN           2.338987      1.0   1 3421021 ()  "
      ]
     },
     "execution_count": 71,
     "metadata": {},
     "output_type": "execute_result"
    }
   ],
   "source": [
    "pos_df = big_df.loc[big_df['PCR_pos'] == 1]\n",
    "test_df = pos_df.copy(deep=True)\n",
    "test_df = test_df[val_cols + ['PCR_pos', 'sample_id']]\n",
    "test_df = test_df.loc[~test_df['quansys_LDH_Pv_pg_ml'].isnull()]\n",
    "test_df = test_df.loc[~test_df['quansys_HRP2_pg_ml'].isnull()]\n",
    "test_df[val_cols] = test_df[val_cols].applymap(clean_strings)\n",
    "x = test_df['quansys_LDH_Pan_pg_ml'].values\n",
    "test_df.head()"
   ]
  },
  {
   "cell_type": "code",
   "execution_count": 20,
   "metadata": {},
   "outputs": [
    {
     "data": {
      "text/plain": [
       "299"
      ]
     },
     "execution_count": 20,
     "metadata": {},
     "output_type": "execute_result"
    }
   ],
   "source": [
    "sub = test_df.loc[test_df['quansys_LDH_Pan_pg_ml'] > np.log10(1000)]\n",
    "sub = sub.loc[sub['quansys_LDH_Pan_pg_ml'] < np.log10(10000)]\n",
    "sub_samps = sub['sample_id'].values\n",
    "sub = len(sub)\n",
    "sub"
   ]
  },
  {
   "cell_type": "code",
   "execution_count": 21,
   "metadata": {},
   "outputs": [
    {
     "data": {
      "text/plain": [
       "871"
      ]
     },
     "execution_count": 21,
     "metadata": {},
     "output_type": "execute_result"
    }
   ],
   "source": [
    "below = test_df.loc[test_df['quansys_LDH_Pan_pg_ml'] < np.log10(1000)]\n",
    "below = len(below)\n",
    "below"
   ]
  },
  {
   "cell_type": "code",
   "execution_count": 22,
   "metadata": {},
   "outputs": [
    {
     "data": {
      "text/plain": [
       "606"
      ]
     },
     "execution_count": 22,
     "metadata": {},
     "output_type": "execute_result"
    }
   ],
   "source": [
    "above = test_df.loc[test_df['quansys_LDH_Pan_pg_ml'] > np.log10(1000)]\n",
    "above = len(above)\n",
    "above"
   ]
  },
  {
   "cell_type": "code",
   "execution_count": 38,
   "metadata": {},
   "outputs": [
    {
     "data": {
      "text/plain": [
       "307"
      ]
     },
     "execution_count": 38,
     "metadata": {},
     "output_type": "execute_result"
    }
   ],
   "source": [
    "ten_above = test_df.loc[test_df['quansys_LDH_Pan_pg_ml'] > np.log10(10000)]\n",
    "ten_above = len(ten_above)\n",
    "ten_above"
   ]
  },
  {
   "cell_type": "code",
   "execution_count": 23,
   "metadata": {},
   "outputs": [
    {
     "data": {
      "text/plain": [
       "1477"
      ]
     },
     "execution_count": 23,
     "metadata": {},
     "output_type": "execute_result"
    }
   ],
   "source": [
    "total = len(test_df)\n",
    "total"
   ]
  },
  {
   "cell_type": "code",
   "execution_count": 41,
   "metadata": {},
   "outputs": [
    {
     "data": {
      "text/plain": [
       "'PCR+ pLDH\\n299/1477 samples fall between 1 and 10 ng/ml (~20.2%)\\n871/1477 samples fall below 1 ng/ml (~59.0%)\\n606/1477 samples fall above 1 ng/ml(~41.0%)\\n307/1477 samples fall above 10 ng/ml (~20.8%)'"
      ]
     },
     "execution_count": 41,
     "metadata": {},
     "output_type": "execute_result"
    }
   ],
   "source": [
    "title = '''PCR+ pLDH\\n{s}/{t} samples fall between 1 and 10 ng/ml (~{st}%)\\n{b}/{t} samples fall below 1 ng/ml (~{bt}%)\n",
    "{a}/{t} samples fall above 1 ng/ml(~{at}%)\\n{ta}/{t} samples fall above 10 ng/ml (~{tat}%)'''.format(t=total, s=sub, st=np.round(100*(sub/total), 1), b=below,\n",
    "                                                       bt=np.round(100*(below/total), 1), a=above, at=np.round(100*(above/total), 1), ta=ten_above, tat=np.round(100*(ten_above/total), 1))\n",
    "title"
   ]
  },
  {
   "cell_type": "code",
   "execution_count": 42,
   "metadata": {},
   "outputs": [
    {
     "data": {
      "image/png": "[encoded data removed]",
      "text/plain": [
       "<Figure size 432x288 with 1 Axes>"
      ]
     },
     "metadata": {
      "needs_background": "light"
     },
     "output_type": "display_data"
    }
   ],
   "source": [
    "pp = PdfPages('C:/Users/lzoeckler/Desktop/density_plot.pdf')\n",
    "ax = sns.distplot(x, hist=False, color='k')\n",
    "ln = ax.lines[0]\n",
    "y = ln.get_ydata()\n",
    "x1 = ln.get_xdata()\n",
    "ax.fill_between(x1, 0, y, where=(np.log10(10000) > x1) & (x1 > np.log10(1000)), color='k', label='Samples between\\n1 and 10 ng/ml')\n",
    "ax.fill_between(x1, 0, y, where=(np.log10(10000) < x1), color='r', label='Samples above\\n10 ng/ml')\n",
    "ax.fill_between(x1, 0, y, where=(x1 < np.log10(1000)), color='g', label='Samples below\\n1 ng/ml')\n",
    "ax.set_ylim(0, 0.4)\n",
    "ax.legend()\n",
    "ax.set_ylabel('Density')\n",
    "ax.set_xlabel('log10 pLDH pg/ml')\n",
    "plt.xticks([-1, 0, 1, 2, 3, 4, 6, 8], [0.1, 1, 10, 100, 1000, 10000, 1000000, 100000000])\n",
    "f = ax.get_figure()\n",
    "plt.title(title)\n",
    "plt.tight_layout()\n",
    "plt.show()\n",
    "pp.savefig(f)\n",
    "plt.close()\n",
    "pp.close()"
   ]
  },
  {
   "cell_type": "code",
   "execution_count": 81,
   "metadata": {},
   "outputs": [
    {
     "data": {
      "text/html": [
       "<div>\n",
       "<style scoped>\n",
       "    .dataframe tbody tr th:only-of-type {\n",
       "        vertical-align: middle;\n",
       "    }\n",
       "\n",
       "    .dataframe tbody tr th {\n",
       "        vertical-align: top;\n",
       "    }\n",
       "\n",
       "    .dataframe thead th {\n",
       "        text-align: right;\n",
       "    }\n",
       "</style>\n",
       "<table border=\"1\" class=\"dataframe\">\n",
       "  <thead>\n",
       "    <tr style=\"text-align: right;\">\n",
       "      <th></th>\n",
       "      <th>quansys_HRP2_pg_ml</th>\n",
       "      <th>quansys_LDH_Pan_pg_ml</th>\n",
       "      <th>quansys_LDH_Pv_pg_ml</th>\n",
       "      <th>quansys_LDH_Pf_pg_ml</th>\n",
       "      <th>quansys_CRP_ng_ml</th>\n",
       "      <th>PCR_pos</th>\n",
       "      <th>sample_id</th>\n",
       "    </tr>\n",
       "  </thead>\n",
       "  <tbody>\n",
       "    <tr>\n",
       "      <td>86</td>\n",
       "      <td>3.804619</td>\n",
       "      <td>3.973994</td>\n",
       "      <td>1.132900</td>\n",
       "      <td>NaN</td>\n",
       "      <td>2.995130</td>\n",
       "      <td>1.0</td>\n",
       "      <td>10 3611019 ()</td>\n",
       "    </tr>\n",
       "    <tr>\n",
       "      <td>90</td>\n",
       "      <td>4.217487</td>\n",
       "      <td>4.630735</td>\n",
       "      <td>3.061622</td>\n",
       "      <td>NaN</td>\n",
       "      <td>1.709069</td>\n",
       "      <td>1.0</td>\n",
       "      <td>10 36341034 ()</td>\n",
       "    </tr>\n",
       "    <tr>\n",
       "      <td>115</td>\n",
       "      <td>3.591910</td>\n",
       "      <td>3.991607</td>\n",
       "      <td>3.975803</td>\n",
       "      <td>NaN</td>\n",
       "      <td>2.660987</td>\n",
       "      <td>1.0</td>\n",
       "      <td>11 2211003 ()</td>\n",
       "    </tr>\n",
       "    <tr>\n",
       "      <td>196</td>\n",
       "      <td>3.367522</td>\n",
       "      <td>3.155461</td>\n",
       "      <td>1.205204</td>\n",
       "      <td>NaN</td>\n",
       "      <td>3.514161</td>\n",
       "      <td>1.0</td>\n",
       "      <td>12 36341002 ()</td>\n",
       "    </tr>\n",
       "    <tr>\n",
       "      <td>233</td>\n",
       "      <td>4.217487</td>\n",
       "      <td>3.852183</td>\n",
       "      <td>-1.000000</td>\n",
       "      <td>NaN</td>\n",
       "      <td>3.479332</td>\n",
       "      <td>1.0</td>\n",
       "      <td>13 3201018 ()</td>\n",
       "    </tr>\n",
       "  </tbody>\n",
       "</table>\n",
       "</div>"
      ],
      "text/plain": [
       "     quansys_HRP2_pg_ml  quansys_LDH_Pan_pg_ml  quansys_LDH_Pv_pg_ml  \\\n",
       "86             3.804619               3.973994              1.132900   \n",
       "90             4.217487               4.630735              3.061622   \n",
       "115            3.591910               3.991607              3.975803   \n",
       "196            3.367522               3.155461              1.205204   \n",
       "233            4.217487               3.852183             -1.000000   \n",
       "\n",
       "     quansys_LDH_Pf_pg_ml  quansys_CRP_ng_ml  PCR_pos       sample_id  \n",
       "86                    NaN           2.995130      1.0   10 3611019 ()  \n",
       "90                    NaN           1.709069      1.0  10 36341034 ()  \n",
       "115                   NaN           2.660987      1.0   11 2211003 ()  \n",
       "196                   NaN           3.514161      1.0  12 36341002 ()  \n",
       "233                   NaN           3.479332      1.0   13 3201018 ()  "
      ]
     },
     "execution_count": 81,
     "metadata": {},
     "output_type": "execute_result"
    }
   ],
   "source": [
    "pos_df = big_df.loc[big_df['PCR_pos'] == 1]\n",
    "feb_df = pos_df.loc[pos_df['febrile'] == 1]\n",
    "test_df = feb_df.copy(deep=True)\n",
    "test_df = test_df[val_cols + ['PCR_pos', 'sample_id']]\n",
    "test_df = test_df.loc[~test_df['quansys_LDH_Pan_pg_ml'].isnull()]\n",
    "test_df = test_df.loc[~test_df['quansys_HRP2_pg_ml'].isnull()]\n",
    "test_df[val_cols] = test_df[val_cols].applymap(clean_strings)\n",
    "x = test_df['quansys_LDH_Pan_pg_ml'].values\n",
    "test_df.head()"
   ]
  },
  {
   "cell_type": "code",
   "execution_count": 82,
   "metadata": {},
   "outputs": [
    {
     "data": {
      "text/plain": [
       "21"
      ]
     },
     "execution_count": 82,
     "metadata": {},
     "output_type": "execute_result"
    }
   ],
   "source": [
    "sub = test_df.loc[test_df['quansys_LDH_Pan_pg_ml'] > np.log10(1000)]\n",
    "sub = sub.loc[sub['quansys_LDH_Pan_pg_ml'] < np.log10(10000)]\n",
    "sub_samps = sub['sample_id'].values\n",
    "len(sub)"
   ]
  },
  {
   "cell_type": "code",
   "execution_count": 83,
   "metadata": {},
   "outputs": [
    {
     "data": {
      "text/plain": [
       "8"
      ]
     },
     "execution_count": 83,
     "metadata": {},
     "output_type": "execute_result"
    }
   ],
   "source": [
    "below = test_df.loc[test_df['quansys_LDH_Pan_pg_ml'] < np.log10(1000)]\n",
    "len(below)"
   ]
  },
  {
   "cell_type": "code",
   "execution_count": 84,
   "metadata": {},
   "outputs": [
    {
     "data": {
      "text/plain": [
       "131"
      ]
     },
     "execution_count": 84,
     "metadata": {},
     "output_type": "execute_result"
    }
   ],
   "source": [
    "len(test_df)"
   ]
  },
  {
   "cell_type": "code",
   "execution_count": 85,
   "metadata": {},
   "outputs": [
    {
     "data": {
      "text/plain": [
       "0.16030534351145037"
      ]
     },
     "execution_count": 85,
     "metadata": {},
     "output_type": "execute_result"
    }
   ],
   "source": [
    "21/131"
   ]
  },
  {
   "cell_type": "code",
   "execution_count": 48,
   "metadata": {},
   "outputs": [
    {
     "data": {
      "text/plain": [
       "0.061068702290076333"
      ]
     },
     "execution_count": 48,
     "metadata": {},
     "output_type": "execute_result"
    }
   ],
   "source": [
    "8/131"
   ]
  },
  {
   "cell_type": "code",
   "execution_count": 86,
   "metadata": {},
   "outputs": [
    {
     "data": {
      "image/png": "[encoded data removed]",
      "text/plain": [
       "<Figure size 432x288 with 1 Axes>"
      ]
     },
     "metadata": {
      "needs_background": "light"
     },
     "output_type": "display_data"
    }
   ],
   "source": [
    "pp = PdfPages('C:/Users/lzoeckler/Desktop/febrile_density_plot.pdf')\n",
    "ax = sns.distplot(x, hist=False, color='k')\n",
    "ln = ax.lines[0]\n",
    "y = ln.get_ydata()\n",
    "x1 = ln.get_xdata()\n",
    "ax.fill_between(x1, 0, y, where=(np.log10(10000) > x1) & (x1 > np.log10(900)), color='k', label='Total number of\\nsamples between\\n1 and 10 ng/ml')\n",
    "ax.axvline(np.log10(1000), color='g', label='1 ng/ml')#, ymax=0.5)\n",
    "ax.axvline(np.log10(10000), color='r', label='10 ng/ml')#, ymax=0.5)\n",
    "ax.set_ylim(0, 0.4)\n",
    "ax.legend()\n",
    "ax.set_ylabel('Density')\n",
    "ax.set_xlabel('log10 pLDH pg/ml')\n",
    "plt.xticks([-1, 0, 1, 2, 3, 4, 6], [0.1, 1, 10, 100, 1000, 10000, 1000000])\n",
    "f = ax.get_figure()\n",
    "plt.title('Febrile PCR+ pLDH\\n21/131 samples fall between 1 and 10 ng/ml (~16.0%)\\n8/131 samples fall below 1 ng/ml (~6.1%)')\n",
    "plt.tight_layout()\n",
    "plt.show()\n",
    "pp.savefig(f)\n",
    "plt.close()\n",
    "pp.close()"
   ]
  },
  {
   "cell_type": "code",
   "execution_count": 87,
   "metadata": {},
   "outputs": [
    {
     "data": {
      "text/html": [
       "<div>\n",
       "<style scoped>\n",
       "    .dataframe tbody tr th:only-of-type {\n",
       "        vertical-align: middle;\n",
       "    }\n",
       "\n",
       "    .dataframe tbody tr th {\n",
       "        vertical-align: top;\n",
       "    }\n",
       "\n",
       "    .dataframe thead th {\n",
       "        text-align: right;\n",
       "    }\n",
       "</style>\n",
       "<table border=\"1\" class=\"dataframe\">\n",
       "  <thead>\n",
       "    <tr style=\"text-align: right;\">\n",
       "      <th></th>\n",
       "      <th>quansys_HRP2_pg_ml</th>\n",
       "      <th>quansys_LDH_Pan_pg_ml</th>\n",
       "      <th>quansys_LDH_Pv_pg_ml</th>\n",
       "      <th>quansys_LDH_Pf_pg_ml</th>\n",
       "      <th>quansys_CRP_ng_ml</th>\n",
       "      <th>PCR_pos</th>\n",
       "      <th>sample_id</th>\n",
       "    </tr>\n",
       "  </thead>\n",
       "  <tbody>\n",
       "    <tr>\n",
       "      <td>10</td>\n",
       "      <td>-1.000000</td>\n",
       "      <td>2.382557</td>\n",
       "      <td>1.654658</td>\n",
       "      <td>NaN</td>\n",
       "      <td>1.445823</td>\n",
       "      <td>1.0</td>\n",
       "      <td>1 26831051 ()</td>\n",
       "    </tr>\n",
       "    <tr>\n",
       "      <td>12</td>\n",
       "      <td>3.648414</td>\n",
       "      <td>3.406799</td>\n",
       "      <td>-1.000000</td>\n",
       "      <td>NaN</td>\n",
       "      <td>2.477490</td>\n",
       "      <td>1.0</td>\n",
       "      <td>1 2751037 ()</td>\n",
       "    </tr>\n",
       "    <tr>\n",
       "      <td>18</td>\n",
       "      <td>-1.000000</td>\n",
       "      <td>2.184635</td>\n",
       "      <td>1.618884</td>\n",
       "      <td>NaN</td>\n",
       "      <td>1.889668</td>\n",
       "      <td>1.0</td>\n",
       "      <td>1 3201006 ()</td>\n",
       "    </tr>\n",
       "    <tr>\n",
       "      <td>21</td>\n",
       "      <td>-1.000000</td>\n",
       "      <td>3.318706</td>\n",
       "      <td>1.806858</td>\n",
       "      <td>NaN</td>\n",
       "      <td>2.064804</td>\n",
       "      <td>1.0</td>\n",
       "      <td>1 3391021 ()</td>\n",
       "    </tr>\n",
       "    <tr>\n",
       "      <td>22</td>\n",
       "      <td>-1.000000</td>\n",
       "      <td>2.247581</td>\n",
       "      <td>-1.000000</td>\n",
       "      <td>NaN</td>\n",
       "      <td>2.338987</td>\n",
       "      <td>1.0</td>\n",
       "      <td>1 3421021 ()</td>\n",
       "    </tr>\n",
       "  </tbody>\n",
       "</table>\n",
       "</div>"
      ],
      "text/plain": [
       "    quansys_HRP2_pg_ml  quansys_LDH_Pan_pg_ml  quansys_LDH_Pv_pg_ml  \\\n",
       "10           -1.000000               2.382557              1.654658   \n",
       "12            3.648414               3.406799             -1.000000   \n",
       "18           -1.000000               2.184635              1.618884   \n",
       "21           -1.000000               3.318706              1.806858   \n",
       "22           -1.000000               2.247581             -1.000000   \n",
       "\n",
       "    quansys_LDH_Pf_pg_ml  quansys_CRP_ng_ml  PCR_pos      sample_id  \n",
       "10                   NaN           1.445823      1.0  1 26831051 ()  \n",
       "12                   NaN           2.477490      1.0   1 2751037 ()  \n",
       "18                   NaN           1.889668      1.0   1 3201006 ()  \n",
       "21                   NaN           2.064804      1.0   1 3391021 ()  \n",
       "22                   NaN           2.338987      1.0   1 3421021 ()  "
      ]
     },
     "execution_count": 87,
     "metadata": {},
     "output_type": "execute_result"
    }
   ],
   "source": [
    "pos_df = big_df.loc[big_df['PCR_pos'] == 1]\n",
    "non_feb_df = pos_df.loc[pos_df['febrile'] == 0]\n",
    "test_df = non_feb_df.copy(deep=True)\n",
    "test_df = test_df[val_cols + ['PCR_pos', 'sample_id']]\n",
    "test_df = test_df.loc[~test_df['quansys_LDH_Pan_pg_ml'].isnull()]\n",
    "test_df = test_df.loc[~test_df['quansys_HRP2_pg_ml'].isnull()]\n",
    "test_df[val_cols] = test_df[val_cols].applymap(clean_strings)\n",
    "x = test_df['quansys_LDH_Pan_pg_ml'].values\n",
    "test_df.head()"
   ]
  },
  {
   "cell_type": "code",
   "execution_count": 88,
   "metadata": {},
   "outputs": [
    {
     "data": {
      "text/plain": [
       "122"
      ]
     },
     "execution_count": 88,
     "metadata": {},
     "output_type": "execute_result"
    }
   ],
   "source": [
    "sub = test_df.loc[test_df['quansys_LDH_Pan_pg_ml'] > np.log10(1000)]\n",
    "sub = sub.loc[sub['quansys_LDH_Pan_pg_ml'] < np.log10(10000)]\n",
    "sub_samps = sub['sample_id'].values\n",
    "len(sub)"
   ]
  },
  {
   "cell_type": "code",
   "execution_count": 89,
   "metadata": {},
   "outputs": [
    {
     "data": {
      "text/plain": [
       "408"
      ]
     },
     "execution_count": 89,
     "metadata": {},
     "output_type": "execute_result"
    }
   ],
   "source": [
    "below = test_df.loc[test_df['quansys_LDH_Pan_pg_ml'] < np.log10(1000)]\n",
    "below = below['sample_id'].values\n",
    "len(below)"
   ]
  },
  {
   "cell_type": "code",
   "execution_count": 90,
   "metadata": {},
   "outputs": [
    {
     "data": {
      "text/plain": [
       "595"
      ]
     },
     "execution_count": 90,
     "metadata": {},
     "output_type": "execute_result"
    }
   ],
   "source": [
    "len(test_df)"
   ]
  },
  {
   "cell_type": "code",
   "execution_count": 91,
   "metadata": {},
   "outputs": [
    {
     "data": {
      "text/plain": [
       "0.20504201680672268"
      ]
     },
     "execution_count": 91,
     "metadata": {},
     "output_type": "execute_result"
    }
   ],
   "source": [
    "122/595"
   ]
  },
  {
   "cell_type": "code",
   "execution_count": 92,
   "metadata": {},
   "outputs": [
    {
     "data": {
      "text/plain": [
       "0.6857142857142857"
      ]
     },
     "execution_count": 92,
     "metadata": {},
     "output_type": "execute_result"
    }
   ],
   "source": [
    "408/595"
   ]
  },
  {
   "cell_type": "code",
   "execution_count": 93,
   "metadata": {},
   "outputs": [
    {
     "data": {
      "image/png": "[encoded data removed]",
      "text/plain": [
       "<Figure size 432x288 with 1 Axes>"
      ]
     },
     "metadata": {
      "needs_background": "light"
     },
     "output_type": "display_data"
    }
   ],
   "source": [
    "pp = PdfPages('C:/Users/lzoeckler/Desktop/non_febrile_density_plot.pdf')\n",
    "ax = sns.distplot(x, hist=False, color='k')\n",
    "ln = ax.lines[0]\n",
    "y = ln.get_ydata()\n",
    "x1 = ln.get_xdata()\n",
    "ax.fill_between(x1, 0, y, where=(np.log10(10000) > x1) & (x1 > np.log10(900)), color='k', label='Total number of\\nsamples between\\n1 and 10 ng/ml')\n",
    "ax.axvline(np.log10(1000), color='g', label='1 ng/ml')#, ymax=0.5)\n",
    "ax.axvline(np.log10(10000), color='r', label='10 ng/ml')#, ymax=0.5)\n",
    "ax.set_ylim(0, 0.4)\n",
    "ax.legend()\n",
    "ax.set_ylabel('Density')\n",
    "ax.set_xlabel('log10 pLDH pg/ml')\n",
    "plt.xticks([-1, 0, 1, 2, 3, 4, 6], [0.1, 1, 10, 100, 1000, 10000, 1000000])\n",
    "f = ax.get_figure()\n",
    "plt.title('Non-febrile PCR+ pLDH\\n122/595 samples fall between 1 and 10 ng/ml (~20.5%)\\n408/595 samples fall below 1 ng/ml (~68.6%) ')\n",
    "plt.tight_layout()\n",
    "plt.show()\n",
    "pp.savefig(f)\n",
    "plt.close()\n",
    "pp.close()"
   ]
  },
  {
   "cell_type": "code",
   "execution_count": null,
   "metadata": {},
   "outputs": [],
   "source": []
  }
 ],
 "metadata": {
  "kernelspec": {
   "display_name": "Python 3",
   "language": "python",
   "name": "python3"
  },
  "language_info": {
   "codemirror_mode": {
    "name": "ipython",
    "version": 3
   },
   "file_extension": ".py",
   "mimetype": "text/x-python",
   "name": "python",
   "nbconvert_exporter": "python",
   "pygments_lexer": "ipython3",
   "version": "3.7.4"
  }
 },
 "nbformat": 4,
 "nbformat_minor": 2
}
