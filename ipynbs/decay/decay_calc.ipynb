{
 "cells": [
  {
   "cell_type": "code",
   "execution_count": 1,
   "metadata": {},
   "outputs": [],
   "source": [
    "import pandas as pd\n",
    "import math\n",
    "from functools import reduce\n",
    "from sklearn import linear_model\n",
    "from sklearn.preprocessing import PolynomialFeatures\n",
    "from sklearn.ensemble import GradientBoostingRegressor\n",
    "import matplotlib.pyplot as plt\n",
    "import numpy as np\n",
    "from scipy.optimize import curve_fit"
   ]
  },
  {
   "cell_type": "code",
   "execution_count": 2,
   "metadata": {},
   "outputs": [
    {
     "data": {
      "text/html": [
       "<div>\n",
       "<style scoped>\n",
       "    .dataframe tbody tr th:only-of-type {\n",
       "        vertical-align: middle;\n",
       "    }\n",
       "\n",
       "    .dataframe tbody tr th {\n",
       "        vertical-align: top;\n",
       "    }\n",
       "\n",
       "    .dataframe thead th {\n",
       "        text-align: right;\n",
       "    }\n",
       "</style>\n",
       "<table border=\"1\" class=\"dataframe\">\n",
       "  <thead>\n",
       "    <tr style=\"text-align: right;\">\n",
       "      <th></th>\n",
       "      <th>analyte</th>\n",
       "      <th>treatment_condition</th>\n",
       "      <th>time_or_humidity</th>\n",
       "      <th>Hi</th>\n",
       "      <th>Med</th>\n",
       "      <th>Low</th>\n",
       "    </tr>\n",
       "  </thead>\n",
       "  <tbody>\n",
       "    <tr>\n",
       "      <th>0</th>\n",
       "      <td>HRP2</td>\n",
       "      <td>-20oC</td>\n",
       "      <td>1.0</td>\n",
       "      <td>1546.99</td>\n",
       "      <td>806.53</td>\n",
       "      <td>79.33</td>\n",
       "    </tr>\n",
       "    <tr>\n",
       "      <th>1</th>\n",
       "      <td>HRP2</td>\n",
       "      <td>-20oC</td>\n",
       "      <td>3.0</td>\n",
       "      <td>1300.62</td>\n",
       "      <td>791.51</td>\n",
       "      <td>64.99</td>\n",
       "    </tr>\n",
       "    <tr>\n",
       "      <th>2</th>\n",
       "      <td>HRP2</td>\n",
       "      <td>-20oC</td>\n",
       "      <td>7.0</td>\n",
       "      <td>1582.84</td>\n",
       "      <td>897.24</td>\n",
       "      <td>88.90</td>\n",
       "    </tr>\n",
       "    <tr>\n",
       "      <th>3</th>\n",
       "      <td>HRP2</td>\n",
       "      <td>-20oC</td>\n",
       "      <td>15.0</td>\n",
       "      <td>1547.39</td>\n",
       "      <td>691.08</td>\n",
       "      <td>67.17</td>\n",
       "    </tr>\n",
       "    <tr>\n",
       "      <th>4</th>\n",
       "      <td>HRP2</td>\n",
       "      <td>-20oC</td>\n",
       "      <td>30.0</td>\n",
       "      <td>1648.93</td>\n",
       "      <td>927.27</td>\n",
       "      <td>93.60</td>\n",
       "    </tr>\n",
       "  </tbody>\n",
       "</table>\n",
       "</div>"
      ],
      "text/plain": [
       "  analyte treatment_condition  time_or_humidity       Hi     Med    Low\n",
       "0    HRP2               -20oC               1.0  1546.99  806.53  79.33\n",
       "1    HRP2               -20oC               3.0  1300.62  791.51  64.99\n",
       "2    HRP2               -20oC               7.0  1582.84  897.24  88.90\n",
       "3    HRP2               -20oC              15.0  1547.39  691.08  67.17\n",
       "4    HRP2               -20oC              30.0  1648.93  927.27  93.60"
      ]
     },
     "execution_count": 2,
     "metadata": {},
     "output_type": "execute_result"
    }
   ],
   "source": [
    "main_df = pd.read_excel('C:/Users/lzoeckler/Desktop/decay/DBS_stability_2.xlsx')\n",
    "main_df.rename(columns={'Unnamed: 0': 'analyte', 'Unnamed: 1': 'treatment_condition',\n",
    "                       'Unnamed: 2': 'time_or_humidity'}, inplace=True)\n",
    "main_df.loc[main_df['analyte'] == 'Pv LDH', 'analyte'] = 'Pv_LDH'\n",
    "main_df.loc[main_df['analyte'] == 'Pf LDH', 'analyte'] = 'Pf_LDH'\n",
    "main_df.head()"
   ]
  },
  {
   "cell_type": "code",
   "execution_count": 3,
   "metadata": {},
   "outputs": [
    {
     "data": {
      "text/plain": [
       "array(['HRP2', 'Pv_LDH', 'Pf_LDH', 'CRP'], dtype=object)"
      ]
     },
     "execution_count": 3,
     "metadata": {},
     "output_type": "execute_result"
    }
   ],
   "source": [
    "main_df['analyte'].unique()"
   ]
  },
  {
   "cell_type": "code",
   "execution_count": 4,
   "metadata": {},
   "outputs": [],
   "source": [
    "def temp_adjust(df):\n",
    "    temp = df['treatment_condition']\n",
    "    temp = temp.replace(\"oC\", \"\")\n",
    "    temp = int(temp)\n",
    "    return temp"
   ]
  },
  {
   "cell_type": "code",
   "execution_count": 5,
   "metadata": {},
   "outputs": [
    {
     "name": "stderr",
     "output_type": "stream",
     "text": [
      "C:\\Users\\lzoeckler\\miniconda3\\envs\\DIAMETER\\lib\\site-packages\\ipykernel_launcher.py:2: SettingWithCopyWarning: \n",
      "A value is trying to be set on a copy of a slice from a DataFrame.\n",
      "Try using .loc[row_indexer,col_indexer] = value instead\n",
      "\n",
      "See the caveats in the documentation: http://pandas.pydata.org/pandas-docs/stable/indexing.html#indexing-view-versus-copy\n",
      "  \n"
     ]
    },
    {
     "data": {
      "text/plain": [
       "array([-20,   4,  23,  30,  50], dtype=int64)"
      ]
     },
     "execution_count": 5,
     "metadata": {},
     "output_type": "execute_result"
    }
   ],
   "source": [
    "time_df = main_df.loc[main_df['treatment_condition'] != 'Humidity']\n",
    "time_df['treatment_condition'] = time_df.apply(temp_adjust, axis=1)\n",
    "time_df['treatment_condition'].unique()"
   ]
  },
  {
   "cell_type": "code",
   "execution_count": 6,
   "metadata": {},
   "outputs": [
    {
     "data": {
      "text/plain": [
       "array([  1.,   3.,   7.,  15.,  30.,  60., 120., 240.])"
      ]
     },
     "execution_count": 6,
     "metadata": {},
     "output_type": "execute_result"
    }
   ],
   "source": [
    "time_df['time_or_humidity'].unique()"
   ]
  },
  {
   "cell_type": "code",
   "execution_count": 7,
   "metadata": {},
   "outputs": [
    {
     "data": {
      "text/html": [
       "<div>\n",
       "<style scoped>\n",
       "    .dataframe tbody tr th:only-of-type {\n",
       "        vertical-align: middle;\n",
       "    }\n",
       "\n",
       "    .dataframe tbody tr th {\n",
       "        vertical-align: top;\n",
       "    }\n",
       "\n",
       "    .dataframe thead th {\n",
       "        text-align: right;\n",
       "    }\n",
       "</style>\n",
       "<table border=\"1\" class=\"dataframe\">\n",
       "  <thead>\n",
       "    <tr style=\"text-align: right;\">\n",
       "      <th></th>\n",
       "      <th>analyte</th>\n",
       "      <th>treatment_condition</th>\n",
       "      <th>time_or_humidity</th>\n",
       "      <th>Hi</th>\n",
       "      <th>Med</th>\n",
       "      <th>Low</th>\n",
       "    </tr>\n",
       "  </thead>\n",
       "  <tbody>\n",
       "    <tr>\n",
       "      <th>48</th>\n",
       "      <td>Pf_LDH</td>\n",
       "      <td>4</td>\n",
       "      <td>1.0</td>\n",
       "      <td>14046.28</td>\n",
       "      <td>8512.34</td>\n",
       "      <td>699.70</td>\n",
       "    </tr>\n",
       "    <tr>\n",
       "      <th>49</th>\n",
       "      <td>Pf_LDH</td>\n",
       "      <td>4</td>\n",
       "      <td>3.0</td>\n",
       "      <td>10830.68</td>\n",
       "      <td>6827.24</td>\n",
       "      <td>733.67</td>\n",
       "    </tr>\n",
       "    <tr>\n",
       "      <th>50</th>\n",
       "      <td>Pf_LDH</td>\n",
       "      <td>4</td>\n",
       "      <td>7.0</td>\n",
       "      <td>12851.85</td>\n",
       "      <td>6780.80</td>\n",
       "      <td>1020.71</td>\n",
       "    </tr>\n",
       "    <tr>\n",
       "      <th>51</th>\n",
       "      <td>Pf_LDH</td>\n",
       "      <td>4</td>\n",
       "      <td>15.0</td>\n",
       "      <td>10828.34</td>\n",
       "      <td>6620.00</td>\n",
       "      <td>717.24</td>\n",
       "    </tr>\n",
       "    <tr>\n",
       "      <th>52</th>\n",
       "      <td>Pf_LDH</td>\n",
       "      <td>4</td>\n",
       "      <td>30.0</td>\n",
       "      <td>11073.76</td>\n",
       "      <td>7259.36</td>\n",
       "      <td>726.47</td>\n",
       "    </tr>\n",
       "    <tr>\n",
       "      <th>53</th>\n",
       "      <td>Pf_LDH</td>\n",
       "      <td>4</td>\n",
       "      <td>60.0</td>\n",
       "      <td>9051.57</td>\n",
       "      <td>6087.39</td>\n",
       "      <td>734.50</td>\n",
       "    </tr>\n",
       "    <tr>\n",
       "      <th>54</th>\n",
       "      <td>Pf_LDH</td>\n",
       "      <td>4</td>\n",
       "      <td>120.0</td>\n",
       "      <td>10267.39</td>\n",
       "      <td>5463.79</td>\n",
       "      <td>567.97</td>\n",
       "    </tr>\n",
       "    <tr>\n",
       "      <th>55</th>\n",
       "      <td>Pf_LDH</td>\n",
       "      <td>4</td>\n",
       "      <td>240.0</td>\n",
       "      <td>8830.77</td>\n",
       "      <td>5670.04</td>\n",
       "      <td>642.13</td>\n",
       "    </tr>\n",
       "  </tbody>\n",
       "</table>\n",
       "</div>"
      ],
      "text/plain": [
       "   analyte  treatment_condition  time_or_humidity        Hi      Med      Low\n",
       "48  Pf_LDH                    4               1.0  14046.28  8512.34   699.70\n",
       "49  Pf_LDH                    4               3.0  10830.68  6827.24   733.67\n",
       "50  Pf_LDH                    4               7.0  12851.85  6780.80  1020.71\n",
       "51  Pf_LDH                    4              15.0  10828.34  6620.00   717.24\n",
       "52  Pf_LDH                    4              30.0  11073.76  7259.36   726.47\n",
       "53  Pf_LDH                    4              60.0   9051.57  6087.39   734.50\n",
       "54  Pf_LDH                    4             120.0  10267.39  5463.79   567.97\n",
       "55  Pf_LDH                    4             240.0   8830.77  5670.04   642.13"
      ]
     },
     "execution_count": 7,
     "metadata": {},
     "output_type": "execute_result"
    }
   ],
   "source": [
    "time_df.loc[(time_df['treatment_condition'] == 4)\n",
    "            & (time_df['analyte'] == 'Pf_LDH')]"
   ]
  },
  {
   "cell_type": "code",
   "execution_count": 8,
   "metadata": {},
   "outputs": [
    {
     "data": {
      "text/html": [
       "<div>\n",
       "<style scoped>\n",
       "    .dataframe tbody tr th:only-of-type {\n",
       "        vertical-align: middle;\n",
       "    }\n",
       "\n",
       "    .dataframe tbody tr th {\n",
       "        vertical-align: top;\n",
       "    }\n",
       "\n",
       "    .dataframe thead th {\n",
       "        text-align: right;\n",
       "    }\n",
       "</style>\n",
       "<table border=\"1\" class=\"dataframe\">\n",
       "  <thead>\n",
       "    <tr style=\"text-align: right;\">\n",
       "      <th></th>\n",
       "      <th>analyte</th>\n",
       "      <th>Hi</th>\n",
       "      <th>Med</th>\n",
       "      <th>Low</th>\n",
       "    </tr>\n",
       "  </thead>\n",
       "  <tbody>\n",
       "    <tr>\n",
       "      <th>0</th>\n",
       "      <td>CRP</td>\n",
       "      <td>17950.92500</td>\n",
       "      <td>7628.23500</td>\n",
       "      <td>699.82500</td>\n",
       "    </tr>\n",
       "    <tr>\n",
       "      <th>1</th>\n",
       "      <td>HRP2</td>\n",
       "      <td>1534.43625</td>\n",
       "      <td>825.94375</td>\n",
       "      <td>83.70375</td>\n",
       "    </tr>\n",
       "    <tr>\n",
       "      <th>2</th>\n",
       "      <td>Pf_LDH</td>\n",
       "      <td>12022.15500</td>\n",
       "      <td>6948.41500</td>\n",
       "      <td>796.22750</td>\n",
       "    </tr>\n",
       "    <tr>\n",
       "      <th>3</th>\n",
       "      <td>Pv_LDH</td>\n",
       "      <td>4976.20875</td>\n",
       "      <td>2897.74000</td>\n",
       "      <td>312.14625</td>\n",
       "    </tr>\n",
       "  </tbody>\n",
       "</table>\n",
       "</div>"
      ],
      "text/plain": [
       "  analyte           Hi         Med        Low\n",
       "0     CRP  17950.92500  7628.23500  699.82500\n",
       "1    HRP2   1534.43625   825.94375   83.70375\n",
       "2  Pf_LDH  12022.15500  6948.41500  796.22750\n",
       "3  Pv_LDH   4976.20875  2897.74000  312.14625"
      ]
     },
     "execution_count": 8,
     "metadata": {},
     "output_type": "execute_result"
    }
   ],
   "source": [
    "base_value_df = time_df.loc[time_df['treatment_condition'] == -20]\n",
    "base_value_df = base_value_df.groupby(['analyte', 'treatment_condition']).mean().reset_index()\n",
    "base_value_df.drop(['treatment_condition', 'time_or_humidity'], axis=1, inplace=True)\n",
    "base_value_df"
   ]
  },
  {
   "cell_type": "code",
   "execution_count": 9,
   "metadata": {},
   "outputs": [
    {
     "data": {
      "text/html": [
       "<div>\n",
       "<style scoped>\n",
       "    .dataframe tbody tr th:only-of-type {\n",
       "        vertical-align: middle;\n",
       "    }\n",
       "\n",
       "    .dataframe tbody tr th {\n",
       "        vertical-align: top;\n",
       "    }\n",
       "\n",
       "    .dataframe thead th {\n",
       "        text-align: right;\n",
       "    }\n",
       "</style>\n",
       "<table border=\"1\" class=\"dataframe\">\n",
       "  <thead>\n",
       "    <tr style=\"text-align: right;\">\n",
       "      <th></th>\n",
       "      <th>analyte</th>\n",
       "      <th>treatment_condition</th>\n",
       "      <th>time_or_humidity</th>\n",
       "      <th>Hi</th>\n",
       "      <th>Med</th>\n",
       "      <th>Low</th>\n",
       "      <th>Hi_base</th>\n",
       "      <th>Med_base</th>\n",
       "      <th>Low_base</th>\n",
       "    </tr>\n",
       "  </thead>\n",
       "  <tbody>\n",
       "    <tr>\n",
       "      <th>0</th>\n",
       "      <td>HRP2</td>\n",
       "      <td>4</td>\n",
       "      <td>1.0</td>\n",
       "      <td>1937.11</td>\n",
       "      <td>1006.40</td>\n",
       "      <td>79.08</td>\n",
       "      <td>1534.43625</td>\n",
       "      <td>825.94375</td>\n",
       "      <td>83.70375</td>\n",
       "    </tr>\n",
       "    <tr>\n",
       "      <th>1</th>\n",
       "      <td>HRP2</td>\n",
       "      <td>4</td>\n",
       "      <td>3.0</td>\n",
       "      <td>1438.96</td>\n",
       "      <td>875.57</td>\n",
       "      <td>76.59</td>\n",
       "      <td>1534.43625</td>\n",
       "      <td>825.94375</td>\n",
       "      <td>83.70375</td>\n",
       "    </tr>\n",
       "    <tr>\n",
       "      <th>2</th>\n",
       "      <td>HRP2</td>\n",
       "      <td>4</td>\n",
       "      <td>7.0</td>\n",
       "      <td>1748.31</td>\n",
       "      <td>945.54</td>\n",
       "      <td>105.97</td>\n",
       "      <td>1534.43625</td>\n",
       "      <td>825.94375</td>\n",
       "      <td>83.70375</td>\n",
       "    </tr>\n",
       "    <tr>\n",
       "      <th>3</th>\n",
       "      <td>HRP2</td>\n",
       "      <td>4</td>\n",
       "      <td>15.0</td>\n",
       "      <td>1563.24</td>\n",
       "      <td>809.20</td>\n",
       "      <td>73.14</td>\n",
       "      <td>1534.43625</td>\n",
       "      <td>825.94375</td>\n",
       "      <td>83.70375</td>\n",
       "    </tr>\n",
       "    <tr>\n",
       "      <th>4</th>\n",
       "      <td>HRP2</td>\n",
       "      <td>4</td>\n",
       "      <td>30.0</td>\n",
       "      <td>1716.19</td>\n",
       "      <td>1039.20</td>\n",
       "      <td>222.44</td>\n",
       "      <td>1534.43625</td>\n",
       "      <td>825.94375</td>\n",
       "      <td>83.70375</td>\n",
       "    </tr>\n",
       "  </tbody>\n",
       "</table>\n",
       "</div>"
      ],
      "text/plain": [
       "  analyte  treatment_condition  time_or_humidity       Hi      Med     Low  \\\n",
       "0    HRP2                    4               1.0  1937.11  1006.40   79.08   \n",
       "1    HRP2                    4               3.0  1438.96   875.57   76.59   \n",
       "2    HRP2                    4               7.0  1748.31   945.54  105.97   \n",
       "3    HRP2                    4              15.0  1563.24   809.20   73.14   \n",
       "4    HRP2                    4              30.0  1716.19  1039.20  222.44   \n",
       "\n",
       "      Hi_base   Med_base  Low_base  \n",
       "0  1534.43625  825.94375  83.70375  \n",
       "1  1534.43625  825.94375  83.70375  \n",
       "2  1534.43625  825.94375  83.70375  \n",
       "3  1534.43625  825.94375  83.70375  \n",
       "4  1534.43625  825.94375  83.70375  "
      ]
     },
     "execution_count": 9,
     "metadata": {},
     "output_type": "execute_result"
    }
   ],
   "source": [
    "time_df = time_df.loc[time_df['treatment_condition'] != -20]\n",
    "time_df = time_df.merge(base_value_df, on='analyte', suffixes=('', '_base'))\n",
    "time_df.head()"
   ]
  },
  {
   "cell_type": "code",
   "execution_count": null,
   "metadata": {},
   "outputs": [],
   "source": [
    "analyte: Pf_LDH, concentration: Hi, temp: 50, base_half: 6011.077499999999, closest_val: [[4152.50523804]], half life: 0"
   ]
  },
  {
   "cell_type": "code",
   "execution_count": 46,
   "metadata": {},
   "outputs": [
    {
     "name": "stderr",
     "output_type": "stream",
     "text": [
      "C:\\Users\\lzoeckler\\miniconda3\\envs\\DIAMETER\\lib\\site-packages\\ipykernel_launcher.py:10: SettingWithCopyWarning: \n",
      "A value is trying to be set on a copy of a slice from a DataFrame.\n",
      "Try using .loc[row_indexer,col_indexer] = value instead\n",
      "\n",
      "See the caveats in the documentation: http://pandas.pydata.org/pandas-docs/stable/indexing.html#indexing-view-versus-copy\n",
      "  # Remove the CWD from sys.path while we load stuff.\n",
      "C:\\Users\\lzoeckler\\miniconda3\\envs\\DIAMETER\\lib\\site-packages\\pandas\\core\\indexing.py:543: SettingWithCopyWarning: \n",
      "A value is trying to be set on a copy of a slice from a DataFrame.\n",
      "Try using .loc[row_indexer,col_indexer] = value instead\n",
      "\n",
      "See the caveats in the documentation: http://pandas.pydata.org/pandas-docs/stable/indexing.html#indexing-view-versus-copy\n",
      "  self.obj[item] = s\n",
      "C:\\Users\\lzoeckler\\miniconda3\\envs\\DIAMETER\\lib\\site-packages\\pandas\\core\\frame.py:3940: SettingWithCopyWarning: \n",
      "A value is trying to be set on a copy of a slice from a DataFrame\n",
      "\n",
      "See the caveats in the documentation: http://pandas.pydata.org/pandas-docs/stable/indexing.html#indexing-view-versus-copy\n",
      "  errors=errors)\n"
     ]
    },
    {
     "data": {
      "image/png": "[encoded data removed]",
      "text/plain": [
       "<Figure size 432x288 with 1 Axes>"
      ]
     },
     "metadata": {
      "needs_background": "light"
     },
     "output_type": "display_data"
    }
   ],
   "source": [
    "dfs = []\n",
    "#for analyte in time_df['analyte'].unique():\n",
    "for analyte in ['Pf_LDH']:\n",
    "    an_df = time_df.loc[time_df['analyte'] == analyte]\n",
    "    #for concentration in ['Hi', 'Med', 'Low']:\n",
    "    for concentration in ['Hi']:\n",
    "        con_df = an_df[['treatment_condition', 'time_or_humidity',\n",
    "                        concentration, '{}_base'.format(concentration)]]\n",
    "        end_df = con_df.loc[con_df['time_or_humidity'] == 240.0]\n",
    "        end_df['decay'] = True\n",
    "        end_df.loc[end_df[concentration] > end_df['{}_base'.format(concentration)], 'decay'] = False\n",
    "        end_df.drop(['time_or_humidity', concentration, '{}_base'.format(concentration)], axis=1, inplace=True)\n",
    "        con_df = con_df.merge(end_df, on=['treatment_condition'])\n",
    "        calc_df = con_df.loc[con_df['decay'] == True]\n",
    "        base_val = calc_df['{}_base'.format(concentration)].tolist()[0]\n",
    "        #for temp in an_df['treatment_condition'].unique():\n",
    "        for temp in [50]:\n",
    "            temp_df = calc_df.loc[calc_df['treatment_condition'] == temp]\n",
    "            temp_df.drop(['decay', 'treatment_condition', '{}_base'.format(concentration)], axis=1, inplace=True)\n",
    "            poly = PolynomialFeatures(degree=4)\n",
    "            regr = linear_model.LinearRegression()\n",
    "            time = temp_df['time_or_humidity'].values.reshape(-1,1)\n",
    "            con = temp_df[concentration].values.reshape(-1,1)\n",
    "            poly_time = poly.fit_transform(time)\n",
    "            regr.fit(poly_time, con)\n",
    "            pred = regr.predict(poly_time)\n",
    "            plt.scatter(time, con)\n",
    "            plt.plot(time, pred, color='red')\n",
    "            plt.show()"
   ]
  },
  {
   "cell_type": "code",
   "execution_count": 47,
   "metadata": {},
   "outputs": [
    {
     "data": {
      "text/plain": [
       "array([[10294.31717402]])"
      ]
     },
     "execution_count": 47,
     "metadata": {},
     "output_type": "execute_result"
    }
   ],
   "source": [
    "regr.predict(poly.fit_transform([[0]]))"
   ]
  },
  {
   "cell_type": "code",
   "execution_count": 48,
   "metadata": {},
   "outputs": [
    {
     "data": {
      "text/plain": [
       "6011.077499999999"
      ]
     },
     "execution_count": 48,
     "metadata": {},
     "output_type": "execute_result"
    }
   ],
   "source": [
    "base_val / 2"
   ]
  },
  {
   "cell_type": "code",
   "execution_count": 34,
   "metadata": {},
   "outputs": [
    {
     "name": "stderr",
     "output_type": "stream",
     "text": [
      "C:\\Users\\lzoeckler\\miniconda3\\envs\\DIAMETER\\lib\\site-packages\\ipykernel_launcher.py:11: SettingWithCopyWarning: \n",
      "A value is trying to be set on a copy of a slice from a DataFrame.\n",
      "Try using .loc[row_indexer,col_indexer] = value instead\n",
      "\n",
      "See the caveats in the documentation: http://pandas.pydata.org/pandas-docs/stable/indexing.html#indexing-view-versus-copy\n",
      "  # This is added back by InteractiveShellApp.init_path()\n",
      "C:\\Users\\lzoeckler\\miniconda3\\envs\\DIAMETER\\lib\\site-packages\\pandas\\core\\indexing.py:543: SettingWithCopyWarning: \n",
      "A value is trying to be set on a copy of a slice from a DataFrame.\n",
      "Try using .loc[row_indexer,col_indexer] = value instead\n",
      "\n",
      "See the caveats in the documentation: http://pandas.pydata.org/pandas-docs/stable/indexing.html#indexing-view-versus-copy\n",
      "  self.obj[item] = s\n",
      "C:\\Users\\lzoeckler\\miniconda3\\envs\\DIAMETER\\lib\\site-packages\\pandas\\core\\frame.py:3940: SettingWithCopyWarning: \n",
      "A value is trying to be set on a copy of a slice from a DataFrame\n",
      "\n",
      "See the caveats in the documentation: http://pandas.pydata.org/pandas-docs/stable/indexing.html#indexing-view-versus-copy\n",
      "  errors=errors)\n"
     ]
    },
    {
     "data": {
      "image/png": "[encoded data removed]",
      "text/plain": [
       "<Figure size 432x288 with 1 Axes>"
      ]
     },
     "metadata": {
      "needs_background": "light"
     },
     "output_type": "display_data"
    }
   ],
   "source": [
    "test_df = time_df.copy(deep=True)\n",
    "test_df = test_df.loc[test_df['time_or_humidity'] > 15]\n",
    "#for analyte in time_df['analyte'].unique():\n",
    "for analyte in ['HRP2']:\n",
    "    an_df = test_df.loc[time_df['analyte'] == analyte]\n",
    "    #for concentration in ['Hi', 'Med', 'Low']:\n",
    "    for concentration in ['Low']:\n",
    "        con_df = an_df[['treatment_condition', 'time_or_humidity',\n",
    "                        concentration, '{}_base'.format(concentration)]]\n",
    "        end_df = con_df.loc[con_df['time_or_humidity'] == 240.0]\n",
    "        end_df['decay'] = True\n",
    "        end_df.loc[end_df[concentration] > end_df['{}_base'.format(concentration)], 'decay'] = False\n",
    "        end_df.drop(['time_or_humidity', concentration, '{}_base'.format(concentration)], axis=1, inplace=True)\n",
    "        con_df = con_df.merge(end_df, on=['treatment_condition'])\n",
    "        calc_df = con_df.loc[con_df['decay'] == True]\n",
    "        base_val = calc_df['{}_base'.format(concentration)].tolist()[0]\n",
    "        #for temp in an_df['treatment_condition'].unique():\n",
    "        for temp in [23]:\n",
    "            temp_df = calc_df.loc[calc_df['treatment_condition'] == temp]\n",
    "            temp_df.drop(['decay', 'treatment_condition', '{}_base'.format(concentration)], axis=1, inplace=True)\n",
    "            poly = PolynomialFeatures(degree=3)\n",
    "            regr = linear_model.LinearRegression()\n",
    "            time = temp_df['time_or_humidity'].values.reshape(-1,1)\n",
    "            con = temp_df[concentration].values.reshape(-1,1)\n",
    "            poly_time = poly.fit_transform(time)\n",
    "            regr.fit(poly_time, con)\n",
    "            pred = regr.predict(poly_time)\n",
    "            plt.scatter(time, con)\n",
    "            plt.plot(time, pred, color='red')\n",
    "            plt.show()"
   ]
  },
  {
   "cell_type": "code",
   "execution_count": 37,
   "metadata": {},
   "outputs": [
    {
     "data": {
      "text/plain": [
       "array([[41.94337935]])"
      ]
     },
     "execution_count": 37,
     "metadata": {},
     "output_type": "execute_result"
    }
   ],
   "source": [
    "regr.predict(poly.fit_transform([[301]]))"
   ]
  },
  {
   "cell_type": "code",
   "execution_count": 38,
   "metadata": {},
   "outputs": [
    {
     "data": {
      "text/plain": [
       "41.851875"
      ]
     },
     "execution_count": 38,
     "metadata": {},
     "output_type": "execute_result"
    }
   ],
   "source": [
    "base_val / 2"
   ]
  },
  {
   "cell_type": "code",
   "execution_count": 27,
   "metadata": {},
   "outputs": [
    {
     "name": "stderr",
     "output_type": "stream",
     "text": [
      "C:\\Users\\lzoeckler\\miniconda3\\envs\\DIAMETER\\lib\\site-packages\\ipykernel_launcher.py:9: SettingWithCopyWarning: \n",
      "A value is trying to be set on a copy of a slice from a DataFrame.\n",
      "Try using .loc[row_indexer,col_indexer] = value instead\n",
      "\n",
      "See the caveats in the documentation: http://pandas.pydata.org/pandas-docs/stable/indexing.html#indexing-view-versus-copy\n",
      "  if __name__ == '__main__':\n",
      "C:\\Users\\lzoeckler\\miniconda3\\envs\\DIAMETER\\lib\\site-packages\\pandas\\core\\indexing.py:543: SettingWithCopyWarning: \n",
      "A value is trying to be set on a copy of a slice from a DataFrame.\n",
      "Try using .loc[row_indexer,col_indexer] = value instead\n",
      "\n",
      "See the caveats in the documentation: http://pandas.pydata.org/pandas-docs/stable/indexing.html#indexing-view-versus-copy\n",
      "  self.obj[item] = s\n",
      "C:\\Users\\lzoeckler\\miniconda3\\envs\\DIAMETER\\lib\\site-packages\\pandas\\core\\frame.py:3940: SettingWithCopyWarning: \n",
      "A value is trying to be set on a copy of a slice from a DataFrame\n",
      "\n",
      "See the caveats in the documentation: http://pandas.pydata.org/pandas-docs/stable/indexing.html#indexing-view-versus-copy\n",
      "  errors=errors)\n",
      "C:\\Users\\lzoeckler\\miniconda3\\envs\\DIAMETER\\lib\\site-packages\\sklearn\\utils\\validation.py:724: DataConversionWarning: A column-vector y was passed when a 1d array was expected. Please change the shape of y to (n_samples, ), for example using ravel().\n",
      "  y = column_or_1d(y, warn=True)\n"
     ]
    },
    {
     "data": {
      "image/png": "[encoded data removed]",
      "text/plain": [
       "<Figure size 432x288 with 1 Axes>"
      ]
     },
     "metadata": {
      "needs_background": "light"
     },
     "output_type": "display_data"
    }
   ],
   "source": [
    "#for analyte in time_df['analyte'].unique():\n",
    "for analyte in ['HRP2']:\n",
    "    an_df = time_df.loc[time_df['analyte'] == analyte]\n",
    "    #for concentration in ['Hi', 'Med', 'Low']:\n",
    "    for concentration in ['Low']:\n",
    "        con_df = an_df[['treatment_condition', 'time_or_humidity',\n",
    "                        concentration, '{}_base'.format(concentration)]]\n",
    "        end_df = con_df.loc[con_df['time_or_humidity'] == 240.0]\n",
    "        end_df['decay'] = True\n",
    "        end_df.loc[end_df[concentration] > end_df['{}_base'.format(concentration)], 'decay'] = False\n",
    "        end_df.drop(['time_or_humidity', concentration, '{}_base'.format(concentration)], axis=1, inplace=True)\n",
    "        con_df = con_df.merge(end_df, on=['treatment_condition'])\n",
    "        calc_df = con_df.loc[con_df['decay'] == True]\n",
    "        base_val = calc_df['{}_base'.format(concentration)].tolist()[0]\n",
    "        #for temp in an_df['treatment_condition'].unique():\n",
    "        for temp in [23]:\n",
    "            temp_df = calc_df.loc[calc_df['treatment_condition'] == temp]\n",
    "            temp_df.drop(['decay', 'treatment_condition', '{}_base'.format(concentration)], axis=1, inplace=True)\n",
    "            poly = PolynomialFeatures(degree=6)\n",
    "            regr = linear_model.BayesianRidge(compute_score=True)\n",
    "            time = temp_df['time_or_humidity'].values.reshape(-1,1)\n",
    "            con = temp_df[concentration].values.reshape(-1,1)\n",
    "            poly_time = poly.fit_transform(time)\n",
    "            regr.fit(poly_time, con)\n",
    "            pred = regr.predict(poly_time)\n",
    "            plt.scatter(time, con)\n",
    "            plt.plot(time, pred, color='red')\n",
    "            plt.show()"
   ]
  },
  {
   "cell_type": "code",
   "execution_count": 174,
   "metadata": {},
   "outputs": [
    {
     "data": {
      "text/plain": [
       "array([[[[0., 0., 0.],\n",
       "         [0., 0., 0.],\n",
       "         [0., 0., 0.]],\n",
       "\n",
       "        [[0., 0., 0.],\n",
       "         [0., 0., 0.],\n",
       "         [0., 0., 0.]]]])"
      ]
     },
     "execution_count": 174,
     "metadata": {},
     "output_type": "execute_result"
    }
   ],
   "source": [
    "np.ndarray([1,2,3,3])"
   ]
  },
  {
   "cell_type": "code",
   "execution_count": 120,
   "metadata": {},
   "outputs": [],
   "source": [
    "def fourth_degree(x, a, b, c, d, e):\n",
    "    return(a + (b * x) + (c * x ** 2) + (d * x ** 3) + (e * x ** 4))"
   ]
  },
  {
   "cell_type": "code",
   "execution_count": 121,
   "metadata": {},
   "outputs": [],
   "source": [
    "def third_degree(x, a, b, c, d):\n",
    "    return(a + (b * x) + (c * x ** 2) + (d * x ** 3) )"
   ]
  },
  {
   "cell_type": "code",
   "execution_count": 125,
   "metadata": {},
   "outputs": [],
   "source": [
    "def second_degree(x, a, b, c):\n",
    "    return(a + (b * x) + (c * x ** 2))"
   ]
  },
  {
   "cell_type": "code",
   "execution_count": 159,
   "metadata": {},
   "outputs": [
    {
     "name": "stderr",
     "output_type": "stream",
     "text": [
      "C:\\Users\\lzoeckler\\miniconda3\\envs\\DIAMETER\\lib\\site-packages\\ipykernel_launcher.py:11: SettingWithCopyWarning: \n",
      "A value is trying to be set on a copy of a slice from a DataFrame.\n",
      "Try using .loc[row_indexer,col_indexer] = value instead\n",
      "\n",
      "See the caveats in the documentation: http://pandas.pydata.org/pandas-docs/stable/indexing.html#indexing-view-versus-copy\n",
      "  # This is added back by InteractiveShellApp.init_path()\n"
     ]
    },
    {
     "name": "stdout",
     "output_type": "stream",
     "text": [
      "[ 2.64886792e-05 -9.88266325e-03  8.63329187e-01  7.20247259e+01]\n",
      "[ 7.20247257e+01  8.63329223e-01 -9.88266373e-03  2.64886806e-05]\n"
     ]
    },
    {
     "data": {
      "image/png": "[encoded data removed]",
      "text/plain": [
       "<Figure size 432x288 with 1 Axes>"
      ]
     },
     "metadata": {
      "needs_background": "light"
     },
     "output_type": "display_data"
    }
   ],
   "source": [
    "test_df = time_df.copy(deep=True)\n",
    "#test_df = test_df.loc[test_df['time_or_humidity'] > 15]\n",
    "#for analyte in time_df['analyte'].unique():\n",
    "for analyte in ['HRP2']:\n",
    "    an_df = test_df.loc[time_df['analyte'] == analyte]\n",
    "    #for concentration in ['Hi', 'Med', 'Low']:\n",
    "    for concentration in ['Low']:\n",
    "        con_df = an_df[['treatment_condition', 'time_or_humidity',\n",
    "                        concentration, '{}_base'.format(concentration)]]\n",
    "        end_df = con_df.loc[con_df['time_or_humidity'] == 240.0]\n",
    "        end_df['decay'] = True\n",
    "        end_df.loc[end_df[concentration] > end_df['{}_base'.format(concentration)], 'decay'] = False\n",
    "        end_df.drop(['time_or_humidity', concentration, '{}_base'.format(concentration)], axis=1, inplace=True)\n",
    "        con_df = con_df.merge(end_df, on=['treatment_condition'])\n",
    "        calc_df = con_df.loc[con_df['decay'] == True]\n",
    "        base_val = calc_df['{}_base'.format(concentration)].tolist()[0]\n",
    "        #for temp in an_df['treatment_condition'].unique():\n",
    "        for temp in [23]:\n",
    "            temp_df = calc_df.loc[calc_df['treatment_condition'] == temp]\n",
    "            temp_df.drop(['decay', 'treatment_condition', '{}_base'.format(concentration)], axis=1, inplace=True)\n",
    "            x = temp_df['time_or_humidity'].tolist()\n",
    "            y = temp_df[concentration].tolist()\n",
    "            print(np.polyfit(x, y, 3))\n",
    "            popt, _ = curve_fit(third_degree, x, y)\n",
    "            print(popt)\n",
    "            xnew = np.linspace(x[0], x[-1], 1000)\n",
    "            plt.plot(x, y, 'bo')\n",
    "            plt.plot(xnew, third_degree(xnew, *popt), 'black')\n",
    "            plt.show()"
   ]
  },
  {
   "cell_type": "code",
   "execution_count": 115,
   "metadata": {},
   "outputs": [
    {
     "name": "stderr",
     "output_type": "stream",
     "text": [
      "C:\\Users\\lzoeckler\\miniconda3\\envs\\DIAMETER\\lib\\site-packages\\ipykernel_launcher.py:9: SettingWithCopyWarning: \n",
      "A value is trying to be set on a copy of a slice from a DataFrame.\n",
      "Try using .loc[row_indexer,col_indexer] = value instead\n",
      "\n",
      "See the caveats in the documentation: http://pandas.pydata.org/pandas-docs/stable/indexing.html#indexing-view-versus-copy\n",
      "  if __name__ == '__main__':\n",
      "C:\\Users\\lzoeckler\\miniconda3\\envs\\DIAMETER\\lib\\site-packages\\sklearn\\ensemble\\gradient_boosting.py:1450: DataConversionWarning: A column-vector y was passed when a 1d array was expected. Please change the shape of y to (n_samples, ), for example using ravel().\n",
      "  y = column_or_1d(y, warn=True)\n",
      "C:\\Users\\lzoeckler\\miniconda3\\envs\\DIAMETER\\lib\\site-packages\\sklearn\\ensemble\\gradient_boosting.py:1450: DataConversionWarning: A column-vector y was passed when a 1d array was expected. Please change the shape of y to (n_samples, ), for example using ravel().\n",
      "  y = column_or_1d(y, warn=True)\n",
      "C:\\Users\\lzoeckler\\miniconda3\\envs\\DIAMETER\\lib\\site-packages\\sklearn\\ensemble\\gradient_boosting.py:1450: DataConversionWarning: A column-vector y was passed when a 1d array was expected. Please change the shape of y to (n_samples, ), for example using ravel().\n",
      "  y = column_or_1d(y, warn=True)\n"
     ]
    },
    {
     "data": {
      "image/png": "[encoded data removed]",
      "text/plain": [
       "<Figure size 432x288 with 1 Axes>"
      ]
     },
     "metadata": {
      "needs_background": "light"
     },
     "output_type": "display_data"
    }
   ],
   "source": [
    "#for analyte in time_df['analyte'].unique():\n",
    "for analyte in ['HRP2']:\n",
    "    an_df = time_df.loc[time_df['analyte'] == analyte]\n",
    "    #for concentration in ['Hi', 'Med', 'Low']:\n",
    "    for concentration in ['Low']:\n",
    "        con_df = an_df[['treatment_condition', 'time_or_humidity',\n",
    "                        concentration, '{}_base'.format(concentration)]]\n",
    "        end_df = con_df.loc[con_df['time_or_humidity'] == 240.0]\n",
    "        end_df['decay'] = True\n",
    "        end_df.loc[end_df[concentration] > end_df['{}_base'.format(concentration)], 'decay'] = False\n",
    "        end_df.drop(['time_or_humidity', concentration, '{}_base'.format(concentration)], axis=1, inplace=True)\n",
    "        con_df = con_df.merge(end_df, on=['treatment_condition'])\n",
    "        calc_df = con_df.loc[con_df['decay'] == True]\n",
    "        base_val = calc_df['{}_base'.format(concentration)].tolist()[0]\n",
    "        #for temp in an_df['treatment_condition'].unique():\n",
    "        for temp in [23]:\n",
    "            temp_df = calc_df.loc[calc_df['treatment_condition'] == temp]\n",
    "            temp_df.drop(['decay', 'treatment_condition', '{}_base'.format(concentration)], axis=1, inplace=True)\n",
    "            poly = PolynomialFeatures(degree=4)\n",
    "            # Set lower and upper quantile\n",
    "            LOWER_ALPHA = 0.4\n",
    "            UPPER_ALPHA = 0.6\n",
    "            # Each model has to be separate\n",
    "            lower_model = GradientBoostingRegressor(loss=\"quantile\",                   \n",
    "                                                    alpha=LOWER_ALPHA)\n",
    "            # The mid model will use the default loss\n",
    "            mid_model = GradientBoostingRegressor(loss=\"ls\")\n",
    "            upper_model = GradientBoostingRegressor(loss=\"quantile\",\n",
    "                                                    alpha=UPPER_ALPHA)\n",
    "            regr = linear_model.LinearRegression()\n",
    "            time = temp_df['time_or_humidity'].values.reshape(-1,1)\n",
    "            con = temp_df[concentration].values.reshape(-1,1)\n",
    "            poly_time = poly.fit_transform(time)\n",
    "            lower_model.fit(poly_time, con)\n",
    "            mid_model.fit(poly_time, con)\n",
    "            upper_model.fit(poly_time, con)\n",
    "            lower_pred = lower_model.predict(poly_time)\n",
    "            mid_pred = mid_model.predict(poly_time)\n",
    "            upper_pred = upper_model.predict(poly_time)\n",
    "            plt.scatter(time, con)\n",
    "            plt.plot(time, lower_pred, color='red')\n",
    "            plt.plot(time, mid_pred, color='green')\n",
    "            plt.plot(time, upper_pred, color='blue')\n",
    "            plt.show()"
   ]
  },
  {
   "cell_type": "code",
   "execution_count": 95,
   "metadata": {},
   "outputs": [
    {
     "name": "stderr",
     "output_type": "stream",
     "text": [
      "C:\\Users\\lzoeckler\\miniconda3\\envs\\DIAMETER\\lib\\site-packages\\ipykernel_launcher.py:11: SettingWithCopyWarning: \n",
      "A value is trying to be set on a copy of a slice from a DataFrame.\n",
      "Try using .loc[row_indexer,col_indexer] = value instead\n",
      "\n",
      "See the caveats in the documentation: http://pandas.pydata.org/pandas-docs/stable/indexing.html#indexing-view-versus-copy\n",
      "  # This is added back by InteractiveShellApp.init_path()\n",
      "C:\\Users\\lzoeckler\\miniconda3\\envs\\DIAMETER\\lib\\site-packages\\pandas\\core\\indexing.py:543: SettingWithCopyWarning: \n",
      "A value is trying to be set on a copy of a slice from a DataFrame.\n",
      "Try using .loc[row_indexer,col_indexer] = value instead\n",
      "\n",
      "See the caveats in the documentation: http://pandas.pydata.org/pandas-docs/stable/indexing.html#indexing-view-versus-copy\n",
      "  self.obj[item] = s\n",
      "C:\\Users\\lzoeckler\\miniconda3\\envs\\DIAMETER\\lib\\site-packages\\pandas\\core\\frame.py:3940: SettingWithCopyWarning: \n",
      "A value is trying to be set on a copy of a slice from a DataFrame\n",
      "\n",
      "See the caveats in the documentation: http://pandas.pydata.org/pandas-docs/stable/indexing.html#indexing-view-versus-copy\n",
      "  errors=errors)\n",
      "C:\\Users\\lzoeckler\\miniconda3\\envs\\DIAMETER\\lib\\site-packages\\sklearn\\ensemble\\gradient_boosting.py:1450: DataConversionWarning: A column-vector y was passed when a 1d array was expected. Please change the shape of y to (n_samples, ), for example using ravel().\n",
      "  y = column_or_1d(y, warn=True)\n",
      "C:\\Users\\lzoeckler\\miniconda3\\envs\\DIAMETER\\lib\\site-packages\\sklearn\\ensemble\\gradient_boosting.py:1450: DataConversionWarning: A column-vector y was passed when a 1d array was expected. Please change the shape of y to (n_samples, ), for example using ravel().\n",
      "  y = column_or_1d(y, warn=True)\n",
      "C:\\Users\\lzoeckler\\miniconda3\\envs\\DIAMETER\\lib\\site-packages\\sklearn\\ensemble\\gradient_boosting.py:1450: DataConversionWarning: A column-vector y was passed when a 1d array was expected. Please change the shape of y to (n_samples, ), for example using ravel().\n",
      "  y = column_or_1d(y, warn=True)\n"
     ]
    },
    {
     "data": {
      "image/png": "[encoded data removed]",
      "text/plain": [
       "<Figure size 432x288 with 1 Axes>"
      ]
     },
     "metadata": {
      "needs_background": "light"
     },
     "output_type": "display_data"
    }
   ],
   "source": [
    "test_df = time_df.copy(deep=True)\n",
    "test_df = test_df.loc[test_df['time_or_humidity'] > 15]\n",
    "#for analyte in time_df['analyte'].unique():\n",
    "for analyte in ['HRP2']:\n",
    "    an_df = test_df.loc[time_df['analyte'] == analyte]\n",
    "    #for concentration in ['Hi', 'Med', 'Low']:\n",
    "    for concentration in ['Low']:\n",
    "        con_df = an_df[['treatment_condition', 'time_or_humidity',\n",
    "                        concentration, '{}_base'.format(concentration)]]\n",
    "        end_df = con_df.loc[con_df['time_or_humidity'] == 240.0]\n",
    "        end_df['decay'] = True\n",
    "        end_df.loc[end_df[concentration] > end_df['{}_base'.format(concentration)], 'decay'] = False\n",
    "        end_df.drop(['time_or_humidity', concentration, '{}_base'.format(concentration)], axis=1, inplace=True)\n",
    "        con_df = con_df.merge(end_df, on=['treatment_condition'])\n",
    "        calc_df = con_df.loc[con_df['decay'] == True]\n",
    "        base_val = calc_df['{}_base'.format(concentration)].tolist()[0]\n",
    "        #for temp in an_df['treatment_condition'].unique():\n",
    "        for temp in [23]:\n",
    "            temp_df = calc_df.loc[calc_df['treatment_condition'] == temp]\n",
    "            temp_df.drop(['decay', 'treatment_condition', '{}_base'.format(concentration)], axis=1, inplace=True)\n",
    "            poly = PolynomialFeatures(degree=3)\n",
    "            # Set lower and upper quantile\n",
    "            LOWER_ALPHA = 0.3\n",
    "            UPPER_ALPHA = 0.7\n",
    "            # Each model has to be separate\n",
    "            lower_model = GradientBoostingRegressor(loss=\"quantile\",                   \n",
    "                                                    alpha=LOWER_ALPHA)\n",
    "            # The mid model will use the default loss\n",
    "            mid_model = GradientBoostingRegressor(loss=\"ls\")\n",
    "            upper_model = GradientBoostingRegressor(loss=\"quantile\",\n",
    "                                                    alpha=UPPER_ALPHA)\n",
    "            regr = linear_model.LinearRegression()\n",
    "            time = temp_df['time_or_humidity'].values.reshape(-1,1)\n",
    "            con = temp_df[concentration].values.reshape(-1,1)\n",
    "            poly_time = poly.fit_transform(time)\n",
    "            lower_model.fit(poly_time, con)\n",
    "            mid_model.fit(poly_time, con)\n",
    "            upper_model.fit(poly_time, con)\n",
    "            lower_pred = lower_model.predict(poly_time)\n",
    "            mid_pred = mid_model.predict(poly_time)\n",
    "            upper_pred = upper_model.predict(poly_time)\n",
    "            plt.scatter(time, con)\n",
    "            plt.plot(time, lower_pred, color='red')\n",
    "            plt.plot(time, mid_pred, color='green')\n",
    "            plt.plot(time, upper_pred, color='blue')\n",
    "            plt.show()"
   ]
  },
  {
   "cell_type": "code",
   "execution_count": 20,
   "metadata": {},
   "outputs": [],
   "source": [
    "def calc_lambda(df):\n",
    "    numerator = math.log(float(df['Nt']) / float(df['N0']))\n",
    "    lam = numerator / (-1 * float(df['t']))\n",
    "    return lam"
   ]
  },
  {
   "cell_type": "code",
   "execution_count": 12,
   "metadata": {},
   "outputs": [],
   "source": [
    "def calc_half(df):\n",
    "    return math.log(2) / df['lambda']"
   ]
  },
  {
   "cell_type": "code",
   "execution_count": 13,
   "metadata": {},
   "outputs": [
    {
     "name": "stderr",
     "output_type": "stream",
     "text": [
      "C:\\Users\\lzoeckler\\miniconda3\\envs\\DIAMETER\\lib\\site-packages\\ipykernel_launcher.py:6: SettingWithCopyWarning: \n",
      "A value is trying to be set on a copy of a slice from a DataFrame.\n",
      "Try using .loc[row_indexer,col_indexer] = value instead\n",
      "\n",
      "See the caveats in the documentation: http://pandas.pydata.org/pandas-docs/stable/indexing.html#indexing-view-versus-copy\n",
      "  \n"
     ]
    },
    {
     "data": {
      "text/html": [
       "<div>\n",
       "<style scoped>\n",
       "    .dataframe tbody tr th:only-of-type {\n",
       "        vertical-align: middle;\n",
       "    }\n",
       "\n",
       "    .dataframe tbody tr th {\n",
       "        vertical-align: top;\n",
       "    }\n",
       "\n",
       "    .dataframe thead th {\n",
       "        text-align: right;\n",
       "    }\n",
       "</style>\n",
       "<table border=\"1\" class=\"dataframe\">\n",
       "  <thead>\n",
       "    <tr style=\"text-align: right;\">\n",
       "      <th></th>\n",
       "      <th>analyte</th>\n",
       "      <th>treatment_condition</th>\n",
       "      <th>Hi_half_life</th>\n",
       "      <th>Med_half_life</th>\n",
       "      <th>Low_half_life</th>\n",
       "    </tr>\n",
       "  </thead>\n",
       "  <tbody>\n",
       "    <tr>\n",
       "      <th>0</th>\n",
       "      <td>HRP2</td>\n",
       "      <td>23oC</td>\n",
       "      <td>2315.663298</td>\n",
       "      <td>830.636875</td>\n",
       "      <td>1739.576004</td>\n",
       "    </tr>\n",
       "    <tr>\n",
       "      <th>1</th>\n",
       "      <td>HRP2</td>\n",
       "      <td>30oC</td>\n",
       "      <td>428.983949</td>\n",
       "      <td>397.209718</td>\n",
       "      <td>426.702699</td>\n",
       "    </tr>\n",
       "    <tr>\n",
       "      <th>2</th>\n",
       "      <td>HRP2</td>\n",
       "      <td>50oC</td>\n",
       "      <td>87.711358</td>\n",
       "      <td>105.384618</td>\n",
       "      <td>92.025929</td>\n",
       "    </tr>\n",
       "    <tr>\n",
       "      <th>3</th>\n",
       "      <td>Pv_LDH</td>\n",
       "      <td>4oC</td>\n",
       "      <td>808.254122</td>\n",
       "      <td>1564.243383</td>\n",
       "      <td>1339.862434</td>\n",
       "    </tr>\n",
       "    <tr>\n",
       "      <th>4</th>\n",
       "      <td>Pv_LDH</td>\n",
       "      <td>23oC</td>\n",
       "      <td>211.254384</td>\n",
       "      <td>196.495236</td>\n",
       "      <td>186.728350</td>\n",
       "    </tr>\n",
       "    <tr>\n",
       "      <th>5</th>\n",
       "      <td>Pv_LDH</td>\n",
       "      <td>30oC</td>\n",
       "      <td>133.776544</td>\n",
       "      <td>134.498434</td>\n",
       "      <td>121.473584</td>\n",
       "    </tr>\n",
       "    <tr>\n",
       "      <th>6</th>\n",
       "      <td>Pv_LDH</td>\n",
       "      <td>50oC</td>\n",
       "      <td>30.165834</td>\n",
       "      <td>32.164795</td>\n",
       "      <td>55.307855</td>\n",
       "    </tr>\n",
       "    <tr>\n",
       "      <th>7</th>\n",
       "      <td>Pf_LDH</td>\n",
       "      <td>4oC</td>\n",
       "      <td>539.223595</td>\n",
       "      <td>818.205035</td>\n",
       "      <td>773.406925</td>\n",
       "    </tr>\n",
       "    <tr>\n",
       "      <th>8</th>\n",
       "      <td>Pf_LDH</td>\n",
       "      <td>23oC</td>\n",
       "      <td>174.446928</td>\n",
       "      <td>168.679269</td>\n",
       "      <td>180.677475</td>\n",
       "    </tr>\n",
       "    <tr>\n",
       "      <th>9</th>\n",
       "      <td>Pf_LDH</td>\n",
       "      <td>30oC</td>\n",
       "      <td>114.718260</td>\n",
       "      <td>118.205629</td>\n",
       "      <td>111.456745</td>\n",
       "    </tr>\n",
       "    <tr>\n",
       "      <th>10</th>\n",
       "      <td>Pf_LDH</td>\n",
       "      <td>50oC</td>\n",
       "      <td>28.095870</td>\n",
       "      <td>31.228753</td>\n",
       "      <td>71.476407</td>\n",
       "    </tr>\n",
       "    <tr>\n",
       "      <th>11</th>\n",
       "      <td>CRP</td>\n",
       "      <td>4oC</td>\n",
       "      <td>392.551241</td>\n",
       "      <td>430.583050</td>\n",
       "      <td>500.093264</td>\n",
       "    </tr>\n",
       "    <tr>\n",
       "      <th>12</th>\n",
       "      <td>CRP</td>\n",
       "      <td>23oC</td>\n",
       "      <td>188.851647</td>\n",
       "      <td>237.330839</td>\n",
       "      <td>440.697605</td>\n",
       "    </tr>\n",
       "    <tr>\n",
       "      <th>13</th>\n",
       "      <td>CRP</td>\n",
       "      <td>30oC</td>\n",
       "      <td>215.064820</td>\n",
       "      <td>262.712856</td>\n",
       "      <td>338.675934</td>\n",
       "    </tr>\n",
       "    <tr>\n",
       "      <th>14</th>\n",
       "      <td>CRP</td>\n",
       "      <td>50oC</td>\n",
       "      <td>63.069248</td>\n",
       "      <td>72.635853</td>\n",
       "      <td>76.513589</td>\n",
       "    </tr>\n",
       "  </tbody>\n",
       "</table>\n",
       "</div>"
      ],
      "text/plain": [
       "   analyte treatment_condition  Hi_half_life  Med_half_life  Low_half_life\n",
       "0     HRP2                23oC   2315.663298     830.636875    1739.576004\n",
       "1     HRP2                30oC    428.983949     397.209718     426.702699\n",
       "2     HRP2                50oC     87.711358     105.384618      92.025929\n",
       "3   Pv_LDH                 4oC    808.254122    1564.243383    1339.862434\n",
       "4   Pv_LDH                23oC    211.254384     196.495236     186.728350\n",
       "5   Pv_LDH                30oC    133.776544     134.498434     121.473584\n",
       "6   Pv_LDH                50oC     30.165834      32.164795      55.307855\n",
       "7   Pf_LDH                 4oC    539.223595     818.205035     773.406925\n",
       "8   Pf_LDH                23oC    174.446928     168.679269     180.677475\n",
       "9   Pf_LDH                30oC    114.718260     118.205629     111.456745\n",
       "10  Pf_LDH                50oC     28.095870      31.228753      71.476407\n",
       "11     CRP                 4oC    392.551241     430.583050     500.093264\n",
       "12     CRP                23oC    188.851647     237.330839     440.697605\n",
       "13     CRP                30oC    215.064820     262.712856     338.675934\n",
       "14     CRP                50oC     63.069248      72.635853      76.513589"
      ]
     },
     "execution_count": 13,
     "metadata": {},
     "output_type": "execute_result"
    }
   ],
   "source": [
    "dfs = []\n",
    "for concentration in ['Hi', 'Med', 'Low']:\n",
    "    con_df = time_df[['analyte', 'treatment_condition', 'time_or_humidity',\n",
    "                      concentration, '{}_base'.format(concentration)]]\n",
    "    end_df = con_df.loc[con_df['time_or_humidity'] == 240.0]\n",
    "    end_df['decay'] = True\n",
    "    end_df.loc[end_df[concentration] > end_df['{}_base'.format(concentration)], 'decay'] = False\n",
    "    end_df.drop(['time_or_humidity', concentration, '{}_base'.format(concentration)], axis=1, inplace=True)\n",
    "    con_df = con_df.merge(end_df, on=['analyte', 'treatment_condition'])\n",
    "    calc_df = con_df.loc[con_df['decay'] == True]\n",
    "    calc_df = calc_df.loc[calc_df['time_or_humidity'] == 240.0]\n",
    "    calc_df.rename(columns={concentration: 'Nt', '{}_base'.format(concentration): 'N0',\n",
    "                            'time_or_humidity': 't'}, inplace=True)\n",
    "    calc_df['lambda'] = calc_df.apply(calc_lambda, axis=1)\n",
    "    calc_df['{}_half_life'.format(concentration)] = calc_df.apply(calc_half, axis=1)\n",
    "    calc_df.drop(['t', 'Nt', 'N0', 'decay', 'lambda'], axis=1, inplace=True)\n",
    "    dfs.append(calc_df)\n",
    "all_df = reduce(lambda left, right: pd.merge(left, right, on=['analyte', 'treatment_condition']), dfs)\n",
    "all_df"
   ]
  },
  {
   "cell_type": "code",
   "execution_count": null,
   "metadata": {},
   "outputs": [],
   "source": []
  },
  {
   "cell_type": "code",
   "execution_count": 50,
   "metadata": {},
   "outputs": [],
   "source": [
    "all_df.to_csv('C:/Users/lzoeckler/Desktop/decay/half_life.csv', index=False)"
   ]
  },
  {
   "cell_type": "code",
   "execution_count": 43,
   "metadata": {},
   "outputs": [
    {
     "data": {
      "text/html": [
       "<div>\n",
       "<style scoped>\n",
       "    .dataframe tbody tr th:only-of-type {\n",
       "        vertical-align: middle;\n",
       "    }\n",
       "\n",
       "    .dataframe tbody tr th {\n",
       "        vertical-align: top;\n",
       "    }\n",
       "\n",
       "    .dataframe thead th {\n",
       "        text-align: right;\n",
       "    }\n",
       "</style>\n",
       "<table border=\"1\" class=\"dataframe\">\n",
       "  <thead>\n",
       "    <tr style=\"text-align: right;\">\n",
       "      <th></th>\n",
       "      <th>analyte</th>\n",
       "      <th>treatment_condition</th>\n",
       "      <th>time_or_humidity</th>\n",
       "      <th>Hi</th>\n",
       "      <th>Med</th>\n",
       "      <th>Low</th>\n",
       "      <th>Hi_base</th>\n",
       "      <th>Med_base</th>\n",
       "      <th>Low_base</th>\n",
       "    </tr>\n",
       "  </thead>\n",
       "  <tbody>\n",
       "    <tr>\n",
       "      <th>14</th>\n",
       "      <td>HRP2</td>\n",
       "      <td>23oC</td>\n",
       "      <td>120.0</td>\n",
       "      <td>1239.33</td>\n",
       "      <td>683.33</td>\n",
       "      <td>80.44</td>\n",
       "      <td>1534.43625</td>\n",
       "      <td>825.94375</td>\n",
       "      <td>83.70375</td>\n",
       "    </tr>\n",
       "    <tr>\n",
       "      <th>15</th>\n",
       "      <td>HRP2</td>\n",
       "      <td>23oC</td>\n",
       "      <td>240.0</td>\n",
       "      <td>1428.07</td>\n",
       "      <td>676.04</td>\n",
       "      <td>76.07</td>\n",
       "      <td>1534.43625</td>\n",
       "      <td>825.94375</td>\n",
       "      <td>83.70375</td>\n",
       "    </tr>\n",
       "    <tr>\n",
       "      <th>17</th>\n",
       "      <td>HRP2</td>\n",
       "      <td>30oC</td>\n",
       "      <td>3.0</td>\n",
       "      <td>1354.28</td>\n",
       "      <td>753.36</td>\n",
       "      <td>74.00</td>\n",
       "      <td>1534.43625</td>\n",
       "      <td>825.94375</td>\n",
       "      <td>83.70375</td>\n",
       "    </tr>\n",
       "    <tr>\n",
       "      <th>19</th>\n",
       "      <td>HRP2</td>\n",
       "      <td>30oC</td>\n",
       "      <td>15.0</td>\n",
       "      <td>1286.84</td>\n",
       "      <td>650.77</td>\n",
       "      <td>68.25</td>\n",
       "      <td>1534.43625</td>\n",
       "      <td>825.94375</td>\n",
       "      <td>83.70375</td>\n",
       "    </tr>\n",
       "    <tr>\n",
       "      <th>21</th>\n",
       "      <td>HRP2</td>\n",
       "      <td>30oC</td>\n",
       "      <td>60.0</td>\n",
       "      <td>1179.76</td>\n",
       "      <td>623.36</td>\n",
       "      <td>73.76</td>\n",
       "      <td>1534.43625</td>\n",
       "      <td>825.94375</td>\n",
       "      <td>83.70375</td>\n",
       "    </tr>\n",
       "  </tbody>\n",
       "</table>\n",
       "</div>"
      ],
      "text/plain": [
       "   analyte treatment_condition  time_or_humidity       Hi     Med    Low  \\\n",
       "14    HRP2                23oC             120.0  1239.33  683.33  80.44   \n",
       "15    HRP2                23oC             240.0  1428.07  676.04  76.07   \n",
       "17    HRP2                30oC               3.0  1354.28  753.36  74.00   \n",
       "19    HRP2                30oC              15.0  1286.84  650.77  68.25   \n",
       "21    HRP2                30oC              60.0  1179.76  623.36  73.76   \n",
       "\n",
       "       Hi_base   Med_base  Low_base  \n",
       "14  1534.43625  825.94375  83.70375  \n",
       "15  1534.43625  825.94375  83.70375  \n",
       "17  1534.43625  825.94375  83.70375  \n",
       "19  1534.43625  825.94375  83.70375  \n",
       "21  1534.43625  825.94375  83.70375  "
      ]
     },
     "execution_count": 43,
     "metadata": {},
     "output_type": "execute_result"
    }
   ],
   "source": [
    "filt = (time_df['Hi'] >= time_df['Hi_base']) | (time_df['Med'] >= time_df[\n",
    "    'Med_base']) | (time_df['Low'] >= time_df['Low_base'])\n",
    "time_df.loc[~filt].head()"
   ]
  },
  {
   "cell_type": "code",
   "execution_count": 13,
   "metadata": {},
   "outputs": [
    {
     "data": {
      "text/plain": [
       "array(['Humidity'], dtype=object)"
      ]
     },
     "execution_count": 13,
     "metadata": {},
     "output_type": "execute_result"
    }
   ],
   "source": [
    "hum_df = main_df.loc[main_df['treatment_condition'] == 'Humidity']\n",
    "hum_df['treatment_condition'].unique()"
   ]
  },
  {
   "cell_type": "code",
   "execution_count": 15,
   "metadata": {},
   "outputs": [
    {
     "data": {
      "text/plain": [
       "array([0.7, 0.4])"
      ]
     },
     "execution_count": 15,
     "metadata": {},
     "output_type": "execute_result"
    }
   ],
   "source": [
    "hum_df['time_or_humidity'].unique()"
   ]
  },
  {
   "cell_type": "code",
   "execution_count": 22,
   "metadata": {},
   "outputs": [
    {
     "data": {
      "text/html": [
       "<div>\n",
       "<style scoped>\n",
       "    .dataframe tbody tr th:only-of-type {\n",
       "        vertical-align: middle;\n",
       "    }\n",
       "\n",
       "    .dataframe tbody tr th {\n",
       "        vertical-align: top;\n",
       "    }\n",
       "\n",
       "    .dataframe thead th {\n",
       "        text-align: right;\n",
       "    }\n",
       "</style>\n",
       "<table border=\"1\" class=\"dataframe\">\n",
       "  <thead>\n",
       "    <tr style=\"text-align: right;\">\n",
       "      <th></th>\n",
       "      <th>analyte</th>\n",
       "      <th>treatment_condition</th>\n",
       "      <th>time_or_humidity</th>\n",
       "      <th>Hi</th>\n",
       "      <th>Med</th>\n",
       "      <th>Low</th>\n",
       "    </tr>\n",
       "  </thead>\n",
       "  <tbody>\n",
       "    <tr>\n",
       "      <th>160</th>\n",
       "      <td>HRP2</td>\n",
       "      <td>Humidity</td>\n",
       "      <td>0.7</td>\n",
       "      <td>1523.30</td>\n",
       "      <td>858.96</td>\n",
       "      <td>96.40</td>\n",
       "    </tr>\n",
       "    <tr>\n",
       "      <th>161</th>\n",
       "      <td>HRP2</td>\n",
       "      <td>Humidity</td>\n",
       "      <td>0.4</td>\n",
       "      <td>2815.54</td>\n",
       "      <td>1217.88</td>\n",
       "      <td>106.56</td>\n",
       "    </tr>\n",
       "  </tbody>\n",
       "</table>\n",
       "</div>"
      ],
      "text/plain": [
       "    analyte treatment_condition  time_or_humidity       Hi      Med     Low\n",
       "160    HRP2            Humidity               0.7  1523.30   858.96   96.40\n",
       "161    HRP2            Humidity               0.4  2815.54  1217.88  106.56"
      ]
     },
     "execution_count": 22,
     "metadata": {},
     "output_type": "execute_result"
    }
   ],
   "source": [
    "hum_df.loc[hum_df['analyte'] == 'HRP2']"
   ]
  },
  {
   "cell_type": "code",
   "execution_count": null,
   "metadata": {},
   "outputs": [],
   "source": []
  }
 ],
 "metadata": {
  "kernelspec": {
   "display_name": "Python 3",
   "language": "python",
   "name": "python3"
  },
  "language_info": {
   "codemirror_mode": {
    "name": "ipython",
    "version": 3
   },
   "file_extension": ".py",
   "mimetype": "text/x-python",
   "name": "python",
   "nbconvert_exporter": "python",
   "pygments_lexer": "ipython3",
   "version": "3.7.3"
  }
 },
 "nbformat": 4,
 "nbformat_minor": 2
}
