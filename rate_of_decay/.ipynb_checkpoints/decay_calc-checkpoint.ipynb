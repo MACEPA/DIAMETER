{
 "cells": [
  {
   "cell_type": "code",
   "execution_count": 1,
   "metadata": {},
   "outputs": [],
   "source": [
    "import pandas as pd\n",
    "import math"
   ]
  },
  {
   "cell_type": "code",
   "execution_count": 2,
   "metadata": {},
   "outputs": [
    {
     "data": {
      "text/plain": [
       "'analyze the decay rate of each antigen at the specific concentration which was subjected to different treatment.'"
      ]
     },
     "execution_count": 2,
     "metadata": {},
     "output_type": "execute_result"
    }
   ],
   "source": [
    "\"analyze the decay rate of each antigen at the specific concentration which was subjected to different treatment.\""
   ]
  },
  {
   "cell_type": "code",
   "execution_count": 3,
   "metadata": {},
   "outputs": [
    {
     "data": {
      "text/html": [
       "<div>\n",
       "<style scoped>\n",
       "    .dataframe tbody tr th:only-of-type {\n",
       "        vertical-align: middle;\n",
       "    }\n",
       "\n",
       "    .dataframe tbody tr th {\n",
       "        vertical-align: top;\n",
       "    }\n",
       "\n",
       "    .dataframe thead th {\n",
       "        text-align: right;\n",
       "    }\n",
       "</style>\n",
       "<table border=\"1\" class=\"dataframe\">\n",
       "  <thead>\n",
       "    <tr style=\"text-align: right;\">\n",
       "      <th></th>\n",
       "      <th>analyte</th>\n",
       "      <th>treatment_condition</th>\n",
       "      <th>time_or_humidity</th>\n",
       "      <th>Hi</th>\n",
       "      <th>Med</th>\n",
       "      <th>Low</th>\n",
       "    </tr>\n",
       "  </thead>\n",
       "  <tbody>\n",
       "    <tr>\n",
       "      <th>0</th>\n",
       "      <td>HRP2</td>\n",
       "      <td>-20oC</td>\n",
       "      <td>1.0</td>\n",
       "      <td>1546.99</td>\n",
       "      <td>806.53</td>\n",
       "      <td>79.33</td>\n",
       "    </tr>\n",
       "    <tr>\n",
       "      <th>1</th>\n",
       "      <td>HRP2</td>\n",
       "      <td>-20oC</td>\n",
       "      <td>3.0</td>\n",
       "      <td>1300.62</td>\n",
       "      <td>791.51</td>\n",
       "      <td>64.99</td>\n",
       "    </tr>\n",
       "    <tr>\n",
       "      <th>2</th>\n",
       "      <td>HRP2</td>\n",
       "      <td>-20oC</td>\n",
       "      <td>7.0</td>\n",
       "      <td>1582.84</td>\n",
       "      <td>897.24</td>\n",
       "      <td>88.90</td>\n",
       "    </tr>\n",
       "    <tr>\n",
       "      <th>3</th>\n",
       "      <td>HRP2</td>\n",
       "      <td>-20oC</td>\n",
       "      <td>15.0</td>\n",
       "      <td>1547.39</td>\n",
       "      <td>691.08</td>\n",
       "      <td>67.17</td>\n",
       "    </tr>\n",
       "    <tr>\n",
       "      <th>4</th>\n",
       "      <td>HRP2</td>\n",
       "      <td>-20oC</td>\n",
       "      <td>30.0</td>\n",
       "      <td>1648.93</td>\n",
       "      <td>927.27</td>\n",
       "      <td>93.60</td>\n",
       "    </tr>\n",
       "  </tbody>\n",
       "</table>\n",
       "</div>"
      ],
      "text/plain": [
       "  analyte treatment_condition  time_or_humidity       Hi     Med    Low\n",
       "0    HRP2               -20oC               1.0  1546.99  806.53  79.33\n",
       "1    HRP2               -20oC               3.0  1300.62  791.51  64.99\n",
       "2    HRP2               -20oC               7.0  1582.84  897.24  88.90\n",
       "3    HRP2               -20oC              15.0  1547.39  691.08  67.17\n",
       "4    HRP2               -20oC              30.0  1648.93  927.27  93.60"
      ]
     },
     "execution_count": 3,
     "metadata": {},
     "output_type": "execute_result"
    }
   ],
   "source": [
    "main_df = pd.read_excel('C:/Users/lzoeckler/Desktop/decay/DBS_stability_2.xlsx')\n",
    "main_df.rename(columns={'Unnamed: 0': 'analyte', 'Unnamed: 1': 'treatment_condition',\n",
    "                       'Unnamed: 2': 'time_or_humidity'}, inplace=True)\n",
    "main_df.loc[main_df['analyte'] == 'Pv LDH', 'analyte'] = 'Pv_LDH'\n",
    "main_df.loc[main_df['analyte'] == 'Pf LDH', 'analyte'] = 'Pf_LDH'\n",
    "main_df.head()"
   ]
  },
  {
   "cell_type": "code",
   "execution_count": 4,
   "metadata": {},
   "outputs": [
    {
     "data": {
      "text/plain": [
       "array(['HRP2', 'Pv_LDH', 'Pf_LDH', 'CRP'], dtype=object)"
      ]
     },
     "execution_count": 4,
     "metadata": {},
     "output_type": "execute_result"
    }
   ],
   "source": [
    "main_df['analyte'].unique()"
   ]
  },
  {
   "cell_type": "code",
   "execution_count": 5,
   "metadata": {},
   "outputs": [
    {
     "data": {
      "text/plain": [
       "array(['-20oC', '4oC', '23oC', '30oC', '50oC'], dtype=object)"
      ]
     },
     "execution_count": 5,
     "metadata": {},
     "output_type": "execute_result"
    }
   ],
   "source": [
    "time_df = main_df.loc[main_df['treatment_condition'] != 'Humidity']\n",
    "time_df['treatment_condition'].unique()"
   ]
  },
  {
   "cell_type": "code",
   "execution_count": 6,
   "metadata": {},
   "outputs": [
    {
     "data": {
      "text/plain": [
       "array([  1.,   3.,   7.,  15.,  30.,  60., 120., 240.])"
      ]
     },
     "execution_count": 6,
     "metadata": {},
     "output_type": "execute_result"
    }
   ],
   "source": [
    "time_df['time_or_humidity'].unique()"
   ]
  },
  {
   "cell_type": "code",
   "execution_count": 7,
   "metadata": {},
   "outputs": [
    {
     "data": {
      "text/html": [
       "<div>\n",
       "<style scoped>\n",
       "    .dataframe tbody tr th:only-of-type {\n",
       "        vertical-align: middle;\n",
       "    }\n",
       "\n",
       "    .dataframe tbody tr th {\n",
       "        vertical-align: top;\n",
       "    }\n",
       "\n",
       "    .dataframe thead th {\n",
       "        text-align: right;\n",
       "    }\n",
       "</style>\n",
       "<table border=\"1\" class=\"dataframe\">\n",
       "  <thead>\n",
       "    <tr style=\"text-align: right;\">\n",
       "      <th></th>\n",
       "      <th>analyte</th>\n",
       "      <th>treatment_condition</th>\n",
       "      <th>time_or_humidity</th>\n",
       "      <th>Hi</th>\n",
       "      <th>Med</th>\n",
       "      <th>Low</th>\n",
       "    </tr>\n",
       "  </thead>\n",
       "  <tbody>\n",
       "    <tr>\n",
       "      <th>48</th>\n",
       "      <td>Pf_LDH</td>\n",
       "      <td>4oC</td>\n",
       "      <td>1.0</td>\n",
       "      <td>14046.28</td>\n",
       "      <td>8512.34</td>\n",
       "      <td>699.70</td>\n",
       "    </tr>\n",
       "    <tr>\n",
       "      <th>49</th>\n",
       "      <td>Pf_LDH</td>\n",
       "      <td>4oC</td>\n",
       "      <td>3.0</td>\n",
       "      <td>10830.68</td>\n",
       "      <td>6827.24</td>\n",
       "      <td>733.67</td>\n",
       "    </tr>\n",
       "    <tr>\n",
       "      <th>50</th>\n",
       "      <td>Pf_LDH</td>\n",
       "      <td>4oC</td>\n",
       "      <td>7.0</td>\n",
       "      <td>12851.85</td>\n",
       "      <td>6780.80</td>\n",
       "      <td>1020.71</td>\n",
       "    </tr>\n",
       "    <tr>\n",
       "      <th>51</th>\n",
       "      <td>Pf_LDH</td>\n",
       "      <td>4oC</td>\n",
       "      <td>15.0</td>\n",
       "      <td>10828.34</td>\n",
       "      <td>6620.00</td>\n",
       "      <td>717.24</td>\n",
       "    </tr>\n",
       "    <tr>\n",
       "      <th>52</th>\n",
       "      <td>Pf_LDH</td>\n",
       "      <td>4oC</td>\n",
       "      <td>30.0</td>\n",
       "      <td>11073.76</td>\n",
       "      <td>7259.36</td>\n",
       "      <td>726.47</td>\n",
       "    </tr>\n",
       "    <tr>\n",
       "      <th>53</th>\n",
       "      <td>Pf_LDH</td>\n",
       "      <td>4oC</td>\n",
       "      <td>60.0</td>\n",
       "      <td>9051.57</td>\n",
       "      <td>6087.39</td>\n",
       "      <td>734.50</td>\n",
       "    </tr>\n",
       "    <tr>\n",
       "      <th>54</th>\n",
       "      <td>Pf_LDH</td>\n",
       "      <td>4oC</td>\n",
       "      <td>120.0</td>\n",
       "      <td>10267.39</td>\n",
       "      <td>5463.79</td>\n",
       "      <td>567.97</td>\n",
       "    </tr>\n",
       "    <tr>\n",
       "      <th>55</th>\n",
       "      <td>Pf_LDH</td>\n",
       "      <td>4oC</td>\n",
       "      <td>240.0</td>\n",
       "      <td>8830.77</td>\n",
       "      <td>5670.04</td>\n",
       "      <td>642.13</td>\n",
       "    </tr>\n",
       "  </tbody>\n",
       "</table>\n",
       "</div>"
      ],
      "text/plain": [
       "   analyte treatment_condition  time_or_humidity        Hi      Med      Low\n",
       "48  Pf_LDH                 4oC               1.0  14046.28  8512.34   699.70\n",
       "49  Pf_LDH                 4oC               3.0  10830.68  6827.24   733.67\n",
       "50  Pf_LDH                 4oC               7.0  12851.85  6780.80  1020.71\n",
       "51  Pf_LDH                 4oC              15.0  10828.34  6620.00   717.24\n",
       "52  Pf_LDH                 4oC              30.0  11073.76  7259.36   726.47\n",
       "53  Pf_LDH                 4oC              60.0   9051.57  6087.39   734.50\n",
       "54  Pf_LDH                 4oC             120.0  10267.39  5463.79   567.97\n",
       "55  Pf_LDH                 4oC             240.0   8830.77  5670.04   642.13"
      ]
     },
     "execution_count": 7,
     "metadata": {},
     "output_type": "execute_result"
    }
   ],
   "source": [
    "time_df.loc[(time_df['treatment_condition'] == '4oC')\n",
    "            & (time_df['analyte'] == 'Pf_LDH')]"
   ]
  },
  {
   "cell_type": "code",
   "execution_count": 8,
   "metadata": {},
   "outputs": [
    {
     "data": {
      "text/html": [
       "<div>\n",
       "<style scoped>\n",
       "    .dataframe tbody tr th:only-of-type {\n",
       "        vertical-align: middle;\n",
       "    }\n",
       "\n",
       "    .dataframe tbody tr th {\n",
       "        vertical-align: top;\n",
       "    }\n",
       "\n",
       "    .dataframe thead th {\n",
       "        text-align: right;\n",
       "    }\n",
       "</style>\n",
       "<table border=\"1\" class=\"dataframe\">\n",
       "  <thead>\n",
       "    <tr style=\"text-align: right;\">\n",
       "      <th></th>\n",
       "      <th>analyte</th>\n",
       "      <th>Hi</th>\n",
       "      <th>Med</th>\n",
       "      <th>Low</th>\n",
       "    </tr>\n",
       "  </thead>\n",
       "  <tbody>\n",
       "    <tr>\n",
       "      <th>0</th>\n",
       "      <td>CRP</td>\n",
       "      <td>17950.92500</td>\n",
       "      <td>7628.23500</td>\n",
       "      <td>699.82500</td>\n",
       "    </tr>\n",
       "    <tr>\n",
       "      <th>1</th>\n",
       "      <td>HRP2</td>\n",
       "      <td>1534.43625</td>\n",
       "      <td>825.94375</td>\n",
       "      <td>83.70375</td>\n",
       "    </tr>\n",
       "    <tr>\n",
       "      <th>2</th>\n",
       "      <td>Pf_LDH</td>\n",
       "      <td>12022.15500</td>\n",
       "      <td>6948.41500</td>\n",
       "      <td>796.22750</td>\n",
       "    </tr>\n",
       "    <tr>\n",
       "      <th>3</th>\n",
       "      <td>Pv_LDH</td>\n",
       "      <td>4976.20875</td>\n",
       "      <td>2897.74000</td>\n",
       "      <td>312.14625</td>\n",
       "    </tr>\n",
       "  </tbody>\n",
       "</table>\n",
       "</div>"
      ],
      "text/plain": [
       "  analyte           Hi         Med        Low\n",
       "0     CRP  17950.92500  7628.23500  699.82500\n",
       "1    HRP2   1534.43625   825.94375   83.70375\n",
       "2  Pf_LDH  12022.15500  6948.41500  796.22750\n",
       "3  Pv_LDH   4976.20875  2897.74000  312.14625"
      ]
     },
     "execution_count": 8,
     "metadata": {},
     "output_type": "execute_result"
    }
   ],
   "source": [
    "base_value_df = time_df.loc[time_df['treatment_condition'] == '-20oC']\n",
    "base_value_df = base_value_df.groupby(['analyte', 'treatment_condition']).mean().reset_index()\n",
    "base_value_df.drop(['treatment_condition', 'time_or_humidity'], axis=1, inplace=True)\n",
    "base_value_df"
   ]
  },
  {
   "cell_type": "code",
   "execution_count": 9,
   "metadata": {},
   "outputs": [
    {
     "data": {
      "text/html": [
       "<div>\n",
       "<style scoped>\n",
       "    .dataframe tbody tr th:only-of-type {\n",
       "        vertical-align: middle;\n",
       "    }\n",
       "\n",
       "    .dataframe tbody tr th {\n",
       "        vertical-align: top;\n",
       "    }\n",
       "\n",
       "    .dataframe thead th {\n",
       "        text-align: right;\n",
       "    }\n",
       "</style>\n",
       "<table border=\"1\" class=\"dataframe\">\n",
       "  <thead>\n",
       "    <tr style=\"text-align: right;\">\n",
       "      <th></th>\n",
       "      <th>analyte</th>\n",
       "      <th>treatment_condition</th>\n",
       "      <th>time_or_humidity</th>\n",
       "      <th>Hi</th>\n",
       "      <th>Med</th>\n",
       "      <th>Low</th>\n",
       "      <th>Hi_base</th>\n",
       "      <th>Med_base</th>\n",
       "      <th>Low_base</th>\n",
       "    </tr>\n",
       "  </thead>\n",
       "  <tbody>\n",
       "    <tr>\n",
       "      <th>0</th>\n",
       "      <td>HRP2</td>\n",
       "      <td>4oC</td>\n",
       "      <td>1.0</td>\n",
       "      <td>1937.11</td>\n",
       "      <td>1006.40</td>\n",
       "      <td>79.08</td>\n",
       "      <td>1534.43625</td>\n",
       "      <td>825.94375</td>\n",
       "      <td>83.70375</td>\n",
       "    </tr>\n",
       "    <tr>\n",
       "      <th>1</th>\n",
       "      <td>HRP2</td>\n",
       "      <td>4oC</td>\n",
       "      <td>3.0</td>\n",
       "      <td>1438.96</td>\n",
       "      <td>875.57</td>\n",
       "      <td>76.59</td>\n",
       "      <td>1534.43625</td>\n",
       "      <td>825.94375</td>\n",
       "      <td>83.70375</td>\n",
       "    </tr>\n",
       "    <tr>\n",
       "      <th>2</th>\n",
       "      <td>HRP2</td>\n",
       "      <td>4oC</td>\n",
       "      <td>7.0</td>\n",
       "      <td>1748.31</td>\n",
       "      <td>945.54</td>\n",
       "      <td>105.97</td>\n",
       "      <td>1534.43625</td>\n",
       "      <td>825.94375</td>\n",
       "      <td>83.70375</td>\n",
       "    </tr>\n",
       "    <tr>\n",
       "      <th>3</th>\n",
       "      <td>HRP2</td>\n",
       "      <td>4oC</td>\n",
       "      <td>15.0</td>\n",
       "      <td>1563.24</td>\n",
       "      <td>809.20</td>\n",
       "      <td>73.14</td>\n",
       "      <td>1534.43625</td>\n",
       "      <td>825.94375</td>\n",
       "      <td>83.70375</td>\n",
       "    </tr>\n",
       "    <tr>\n",
       "      <th>4</th>\n",
       "      <td>HRP2</td>\n",
       "      <td>4oC</td>\n",
       "      <td>30.0</td>\n",
       "      <td>1716.19</td>\n",
       "      <td>1039.20</td>\n",
       "      <td>222.44</td>\n",
       "      <td>1534.43625</td>\n",
       "      <td>825.94375</td>\n",
       "      <td>83.70375</td>\n",
       "    </tr>\n",
       "  </tbody>\n",
       "</table>\n",
       "</div>"
      ],
      "text/plain": [
       "  analyte treatment_condition  time_or_humidity       Hi      Med     Low  \\\n",
       "0    HRP2                 4oC               1.0  1937.11  1006.40   79.08   \n",
       "1    HRP2                 4oC               3.0  1438.96   875.57   76.59   \n",
       "2    HRP2                 4oC               7.0  1748.31   945.54  105.97   \n",
       "3    HRP2                 4oC              15.0  1563.24   809.20   73.14   \n",
       "4    HRP2                 4oC              30.0  1716.19  1039.20  222.44   \n",
       "\n",
       "      Hi_base   Med_base  Low_base  \n",
       "0  1534.43625  825.94375  83.70375  \n",
       "1  1534.43625  825.94375  83.70375  \n",
       "2  1534.43625  825.94375  83.70375  \n",
       "3  1534.43625  825.94375  83.70375  \n",
       "4  1534.43625  825.94375  83.70375  "
      ]
     },
     "execution_count": 9,
     "metadata": {},
     "output_type": "execute_result"
    }
   ],
   "source": [
    "time_df = time_df.loc[time_df['treatment_condition'] != '-20oC']\n",
    "time_df = time_df.merge(base_value_df, on='analyte', suffixes=('', '_base'))\n",
    "time_df.head()"
   ]
  },
  {
   "cell_type": "code",
   "execution_count": 11,
   "metadata": {},
   "outputs": [],
   "source": [
    "def half_func(df):\n",
    "#     numerator = math.log(float(df['N(t)']) / float(df['N0']))\n",
    "#     lam = numerator / (-1 * float(df['t']))\n",
    "#     return lam\n",
    "    return df['Low']"
   ]
  },
  {
   "cell_type": "code",
   "execution_count": 15,
   "metadata": {},
   "outputs": [
    {
     "name": "stderr",
     "output_type": "stream",
     "text": [
      "C:\\Users\\lzoeckler\\miniconda3\\envs\\DIAMETER\\lib\\site-packages\\ipykernel_launcher.py:5: SettingWithCopyWarning: \n",
      "A value is trying to be set on a copy of a slice from a DataFrame.\n",
      "Try using .loc[row_indexer,col_indexer] = value instead\n",
      "\n",
      "See the caveats in the documentation: http://pandas.pydata.org/pandas-docs/stable/indexing.html#indexing-view-versus-copy\n",
      "  \"\"\"\n"
     ]
    },
    {
     "ename": "KeyError",
     "evalue": "'Low_base'",
     "output_type": "error",
     "traceback": [
      "\u001b[1;31m---------------------------------------------------------------------------\u001b[0m",
      "\u001b[1;31mKeyError\u001b[0m                                  Traceback (most recent call last)",
      "\u001b[1;32m~\\miniconda3\\envs\\DIAMETER\\lib\\site-packages\\pandas\\core\\indexes\\base.py\u001b[0m in \u001b[0;36mget_loc\u001b[1;34m(self, key, method, tolerance)\u001b[0m\n\u001b[0;32m   2656\u001b[0m             \u001b[1;32mtry\u001b[0m\u001b[1;33m:\u001b[0m\u001b[1;33m\u001b[0m\u001b[1;33m\u001b[0m\u001b[0m\n\u001b[1;32m-> 2657\u001b[1;33m                 \u001b[1;32mreturn\u001b[0m \u001b[0mself\u001b[0m\u001b[1;33m.\u001b[0m\u001b[0m_engine\u001b[0m\u001b[1;33m.\u001b[0m\u001b[0mget_loc\u001b[0m\u001b[1;33m(\u001b[0m\u001b[0mkey\u001b[0m\u001b[1;33m)\u001b[0m\u001b[1;33m\u001b[0m\u001b[1;33m\u001b[0m\u001b[0m\n\u001b[0m\u001b[0;32m   2658\u001b[0m             \u001b[1;32mexcept\u001b[0m \u001b[0mKeyError\u001b[0m\u001b[1;33m:\u001b[0m\u001b[1;33m\u001b[0m\u001b[1;33m\u001b[0m\u001b[0m\n",
      "\u001b[1;32mpandas/_libs/index.pyx\u001b[0m in \u001b[0;36mpandas._libs.index.IndexEngine.get_loc\u001b[1;34m()\u001b[0m\n",
      "\u001b[1;32mpandas/_libs/index.pyx\u001b[0m in \u001b[0;36mpandas._libs.index.IndexEngine.get_loc\u001b[1;34m()\u001b[0m\n",
      "\u001b[1;32mpandas/_libs/hashtable_class_helper.pxi\u001b[0m in \u001b[0;36mpandas._libs.hashtable.PyObjectHashTable.get_item\u001b[1;34m()\u001b[0m\n",
      "\u001b[1;32mpandas/_libs/hashtable_class_helper.pxi\u001b[0m in \u001b[0;36mpandas._libs.hashtable.PyObjectHashTable.get_item\u001b[1;34m()\u001b[0m\n",
      "\u001b[1;31mKeyError\u001b[0m: 'Low_base'",
      "\nDuring handling of the above exception, another exception occurred:\n",
      "\u001b[1;31mKeyError\u001b[0m                                  Traceback (most recent call last)",
      "\u001b[1;32m<ipython-input-15-a23b0e2ecfa7>\u001b[0m in \u001b[0;36m<module>\u001b[1;34m\u001b[0m\n\u001b[0;32m     10\u001b[0m     \u001b[0mcalc_df\u001b[0m \u001b[1;33m=\u001b[0m \u001b[0mcalc_df\u001b[0m\u001b[1;33m.\u001b[0m\u001b[0mloc\u001b[0m\u001b[1;33m[\u001b[0m\u001b[0mcalc_df\u001b[0m\u001b[1;33m[\u001b[0m\u001b[1;34m'time_or_humidity'\u001b[0m\u001b[1;33m]\u001b[0m \u001b[1;33m==\u001b[0m \u001b[1;36m240.0\u001b[0m\u001b[1;33m]\u001b[0m\u001b[1;33m\u001b[0m\u001b[1;33m\u001b[0m\u001b[0m\n\u001b[0;32m     11\u001b[0m \u001b[1;31m#     calc_df.rename(columns={'Low': 'N0', 'Low_base': 'Nt', 'time_or_humidity': 't'}, inplace=True)\u001b[0m\u001b[1;33m\u001b[0m\u001b[1;33m\u001b[0m\u001b[1;33m\u001b[0m\u001b[0m\n\u001b[1;32m---> 12\u001b[1;33m     \u001b[0mcalc_df\u001b[0m\u001b[1;33m[\u001b[0m\u001b[1;34m'numerator'\u001b[0m\u001b[1;33m]\u001b[0m \u001b[1;33m=\u001b[0m \u001b[0mcalc_df\u001b[0m\u001b[1;33m[\u001b[0m\u001b[1;34m'Low_base'\u001b[0m\u001b[1;33m]\u001b[0m\u001b[1;33m.\u001b[0m\u001b[0mdivide\u001b[0m\u001b[1;33m(\u001b[0m\u001b[0mcalc_df\u001b[0m\u001b[1;33m[\u001b[0m\u001b[1;34m'Low'\u001b[0m\u001b[1;33m]\u001b[0m\u001b[1;33m)\u001b[0m\u001b[1;33m\u001b[0m\u001b[1;33m\u001b[0m\u001b[0m\n\u001b[0m\u001b[0;32m     13\u001b[0m \u001b[0mtest\u001b[0m\u001b[1;33m\u001b[0m\u001b[1;33m\u001b[0m\u001b[0m\n\u001b[0;32m     14\u001b[0m \u001b[1;31m#calc_df['Nzero']\u001b[0m\u001b[1;33m\u001b[0m\u001b[1;33m\u001b[0m\u001b[1;33m\u001b[0m\u001b[0m\n",
      "\u001b[1;32m~\\miniconda3\\envs\\DIAMETER\\lib\\site-packages\\pandas\\core\\frame.py\u001b[0m in \u001b[0;36m__getitem__\u001b[1;34m(self, key)\u001b[0m\n\u001b[0;32m   2925\u001b[0m             \u001b[1;32mif\u001b[0m \u001b[0mself\u001b[0m\u001b[1;33m.\u001b[0m\u001b[0mcolumns\u001b[0m\u001b[1;33m.\u001b[0m\u001b[0mnlevels\u001b[0m \u001b[1;33m>\u001b[0m \u001b[1;36m1\u001b[0m\u001b[1;33m:\u001b[0m\u001b[1;33m\u001b[0m\u001b[1;33m\u001b[0m\u001b[0m\n\u001b[0;32m   2926\u001b[0m                 \u001b[1;32mreturn\u001b[0m \u001b[0mself\u001b[0m\u001b[1;33m.\u001b[0m\u001b[0m_getitem_multilevel\u001b[0m\u001b[1;33m(\u001b[0m\u001b[0mkey\u001b[0m\u001b[1;33m)\u001b[0m\u001b[1;33m\u001b[0m\u001b[1;33m\u001b[0m\u001b[0m\n\u001b[1;32m-> 2927\u001b[1;33m             \u001b[0mindexer\u001b[0m \u001b[1;33m=\u001b[0m \u001b[0mself\u001b[0m\u001b[1;33m.\u001b[0m\u001b[0mcolumns\u001b[0m\u001b[1;33m.\u001b[0m\u001b[0mget_loc\u001b[0m\u001b[1;33m(\u001b[0m\u001b[0mkey\u001b[0m\u001b[1;33m)\u001b[0m\u001b[1;33m\u001b[0m\u001b[1;33m\u001b[0m\u001b[0m\n\u001b[0m\u001b[0;32m   2928\u001b[0m             \u001b[1;32mif\u001b[0m \u001b[0mis_integer\u001b[0m\u001b[1;33m(\u001b[0m\u001b[0mindexer\u001b[0m\u001b[1;33m)\u001b[0m\u001b[1;33m:\u001b[0m\u001b[1;33m\u001b[0m\u001b[1;33m\u001b[0m\u001b[0m\n\u001b[0;32m   2929\u001b[0m                 \u001b[0mindexer\u001b[0m \u001b[1;33m=\u001b[0m \u001b[1;33m[\u001b[0m\u001b[0mindexer\u001b[0m\u001b[1;33m]\u001b[0m\u001b[1;33m\u001b[0m\u001b[1;33m\u001b[0m\u001b[0m\n",
      "\u001b[1;32m~\\miniconda3\\envs\\DIAMETER\\lib\\site-packages\\pandas\\core\\indexes\\base.py\u001b[0m in \u001b[0;36mget_loc\u001b[1;34m(self, key, method, tolerance)\u001b[0m\n\u001b[0;32m   2657\u001b[0m                 \u001b[1;32mreturn\u001b[0m \u001b[0mself\u001b[0m\u001b[1;33m.\u001b[0m\u001b[0m_engine\u001b[0m\u001b[1;33m.\u001b[0m\u001b[0mget_loc\u001b[0m\u001b[1;33m(\u001b[0m\u001b[0mkey\u001b[0m\u001b[1;33m)\u001b[0m\u001b[1;33m\u001b[0m\u001b[1;33m\u001b[0m\u001b[0m\n\u001b[0;32m   2658\u001b[0m             \u001b[1;32mexcept\u001b[0m \u001b[0mKeyError\u001b[0m\u001b[1;33m:\u001b[0m\u001b[1;33m\u001b[0m\u001b[1;33m\u001b[0m\u001b[0m\n\u001b[1;32m-> 2659\u001b[1;33m                 \u001b[1;32mreturn\u001b[0m \u001b[0mself\u001b[0m\u001b[1;33m.\u001b[0m\u001b[0m_engine\u001b[0m\u001b[1;33m.\u001b[0m\u001b[0mget_loc\u001b[0m\u001b[1;33m(\u001b[0m\u001b[0mself\u001b[0m\u001b[1;33m.\u001b[0m\u001b[0m_maybe_cast_indexer\u001b[0m\u001b[1;33m(\u001b[0m\u001b[0mkey\u001b[0m\u001b[1;33m)\u001b[0m\u001b[1;33m)\u001b[0m\u001b[1;33m\u001b[0m\u001b[1;33m\u001b[0m\u001b[0m\n\u001b[0m\u001b[0;32m   2660\u001b[0m         \u001b[0mindexer\u001b[0m \u001b[1;33m=\u001b[0m \u001b[0mself\u001b[0m\u001b[1;33m.\u001b[0m\u001b[0mget_indexer\u001b[0m\u001b[1;33m(\u001b[0m\u001b[1;33m[\u001b[0m\u001b[0mkey\u001b[0m\u001b[1;33m]\u001b[0m\u001b[1;33m,\u001b[0m \u001b[0mmethod\u001b[0m\u001b[1;33m=\u001b[0m\u001b[0mmethod\u001b[0m\u001b[1;33m,\u001b[0m \u001b[0mtolerance\u001b[0m\u001b[1;33m=\u001b[0m\u001b[0mtolerance\u001b[0m\u001b[1;33m)\u001b[0m\u001b[1;33m\u001b[0m\u001b[1;33m\u001b[0m\u001b[0m\n\u001b[0;32m   2661\u001b[0m         \u001b[1;32mif\u001b[0m \u001b[0mindexer\u001b[0m\u001b[1;33m.\u001b[0m\u001b[0mndim\u001b[0m \u001b[1;33m>\u001b[0m \u001b[1;36m1\u001b[0m \u001b[1;32mor\u001b[0m \u001b[0mindexer\u001b[0m\u001b[1;33m.\u001b[0m\u001b[0msize\u001b[0m \u001b[1;33m>\u001b[0m \u001b[1;36m1\u001b[0m\u001b[1;33m:\u001b[0m\u001b[1;33m\u001b[0m\u001b[1;33m\u001b[0m\u001b[0m\n",
      "\u001b[1;32mpandas/_libs/index.pyx\u001b[0m in \u001b[0;36mpandas._libs.index.IndexEngine.get_loc\u001b[1;34m()\u001b[0m\n",
      "\u001b[1;32mpandas/_libs/index.pyx\u001b[0m in \u001b[0;36mpandas._libs.index.IndexEngine.get_loc\u001b[1;34m()\u001b[0m\n",
      "\u001b[1;32mpandas/_libs/hashtable_class_helper.pxi\u001b[0m in \u001b[0;36mpandas._libs.hashtable.PyObjectHashTable.get_item\u001b[1;34m()\u001b[0m\n",
      "\u001b[1;32mpandas/_libs/hashtable_class_helper.pxi\u001b[0m in \u001b[0;36mpandas._libs.hashtable.PyObjectHashTable.get_item\u001b[1;34m()\u001b[0m\n",
      "\u001b[1;31mKeyError\u001b[0m: 'Low_base'"
     ]
    }
   ],
   "source": [
    "for concentration in ['Hi', 'Med', 'Low']:\n",
    "    con_df = time_df[['analyte', 'treatment_condition', 'time_or_humidity',\n",
    "                      concentration, '{}_base'.format(concentration)]]\n",
    "    end_df = con_df.loc[con_df['time_or_humidity'] == 240.0]\n",
    "    end_df['decay'] = True\n",
    "    end_df.loc[end_df[concentration] > end_df['{}_base'.format(concentration)], 'decay'] = False\n",
    "    end_df.drop(['time_or_humidity', concentration, '{}_base'.format(concentration)], axis=1, inplace=True)\n",
    "    con_df = con_df.merge(end_df, on=['analyte', 'treatment_condition'])\n",
    "    calc_df = con_df.loc[con_df['decay'] == True]\n",
    "    calc_df = calc_df.loc[calc_df['time_or_humidity'] == 240.0]\n",
    "#     calc_df.rename(columns={'Low': 'N0', 'Low_base': 'Nt', 'time_or_humidity': 't'}, inplace=True)\n",
    "    calc_df['numerator'] = calc_df['Low_base'].divide(calc_df['Low'])\n",
    "test\n",
    "#calc_df['Nzero']"
   ]
  },
  {
   "cell_type": "code",
   "execution_count": 43,
   "metadata": {},
   "outputs": [
    {
     "data": {
      "text/html": [
       "<div>\n",
       "<style scoped>\n",
       "    .dataframe tbody tr th:only-of-type {\n",
       "        vertical-align: middle;\n",
       "    }\n",
       "\n",
       "    .dataframe tbody tr th {\n",
       "        vertical-align: top;\n",
       "    }\n",
       "\n",
       "    .dataframe thead th {\n",
       "        text-align: right;\n",
       "    }\n",
       "</style>\n",
       "<table border=\"1\" class=\"dataframe\">\n",
       "  <thead>\n",
       "    <tr style=\"text-align: right;\">\n",
       "      <th></th>\n",
       "      <th>analyte</th>\n",
       "      <th>treatment_condition</th>\n",
       "      <th>time_or_humidity</th>\n",
       "      <th>Hi</th>\n",
       "      <th>Med</th>\n",
       "      <th>Low</th>\n",
       "      <th>Hi_base</th>\n",
       "      <th>Med_base</th>\n",
       "      <th>Low_base</th>\n",
       "    </tr>\n",
       "  </thead>\n",
       "  <tbody>\n",
       "    <tr>\n",
       "      <th>14</th>\n",
       "      <td>HRP2</td>\n",
       "      <td>23oC</td>\n",
       "      <td>120.0</td>\n",
       "      <td>1239.33</td>\n",
       "      <td>683.33</td>\n",
       "      <td>80.44</td>\n",
       "      <td>1534.43625</td>\n",
       "      <td>825.94375</td>\n",
       "      <td>83.70375</td>\n",
       "    </tr>\n",
       "    <tr>\n",
       "      <th>15</th>\n",
       "      <td>HRP2</td>\n",
       "      <td>23oC</td>\n",
       "      <td>240.0</td>\n",
       "      <td>1428.07</td>\n",
       "      <td>676.04</td>\n",
       "      <td>76.07</td>\n",
       "      <td>1534.43625</td>\n",
       "      <td>825.94375</td>\n",
       "      <td>83.70375</td>\n",
       "    </tr>\n",
       "    <tr>\n",
       "      <th>17</th>\n",
       "      <td>HRP2</td>\n",
       "      <td>30oC</td>\n",
       "      <td>3.0</td>\n",
       "      <td>1354.28</td>\n",
       "      <td>753.36</td>\n",
       "      <td>74.00</td>\n",
       "      <td>1534.43625</td>\n",
       "      <td>825.94375</td>\n",
       "      <td>83.70375</td>\n",
       "    </tr>\n",
       "    <tr>\n",
       "      <th>19</th>\n",
       "      <td>HRP2</td>\n",
       "      <td>30oC</td>\n",
       "      <td>15.0</td>\n",
       "      <td>1286.84</td>\n",
       "      <td>650.77</td>\n",
       "      <td>68.25</td>\n",
       "      <td>1534.43625</td>\n",
       "      <td>825.94375</td>\n",
       "      <td>83.70375</td>\n",
       "    </tr>\n",
       "    <tr>\n",
       "      <th>21</th>\n",
       "      <td>HRP2</td>\n",
       "      <td>30oC</td>\n",
       "      <td>60.0</td>\n",
       "      <td>1179.76</td>\n",
       "      <td>623.36</td>\n",
       "      <td>73.76</td>\n",
       "      <td>1534.43625</td>\n",
       "      <td>825.94375</td>\n",
       "      <td>83.70375</td>\n",
       "    </tr>\n",
       "  </tbody>\n",
       "</table>\n",
       "</div>"
      ],
      "text/plain": [
       "   analyte treatment_condition  time_or_humidity       Hi     Med    Low  \\\n",
       "14    HRP2                23oC             120.0  1239.33  683.33  80.44   \n",
       "15    HRP2                23oC             240.0  1428.07  676.04  76.07   \n",
       "17    HRP2                30oC               3.0  1354.28  753.36  74.00   \n",
       "19    HRP2                30oC              15.0  1286.84  650.77  68.25   \n",
       "21    HRP2                30oC              60.0  1179.76  623.36  73.76   \n",
       "\n",
       "       Hi_base   Med_base  Low_base  \n",
       "14  1534.43625  825.94375  83.70375  \n",
       "15  1534.43625  825.94375  83.70375  \n",
       "17  1534.43625  825.94375  83.70375  \n",
       "19  1534.43625  825.94375  83.70375  \n",
       "21  1534.43625  825.94375  83.70375  "
      ]
     },
     "execution_count": 43,
     "metadata": {},
     "output_type": "execute_result"
    }
   ],
   "source": [
    "filt = (time_df['Hi'] >= time_df['Hi_base']) | (time_df['Med'] >= time_df[\n",
    "    'Med_base']) | (time_df['Low'] >= time_df['Low_base'])\n",
    "time_df.loc[~filt].head()"
   ]
  },
  {
   "cell_type": "code",
   "execution_count": 13,
   "metadata": {},
   "outputs": [
    {
     "data": {
      "text/plain": [
       "array(['Humidity'], dtype=object)"
      ]
     },
     "execution_count": 13,
     "metadata": {},
     "output_type": "execute_result"
    }
   ],
   "source": [
    "hum_df = main_df.loc[main_df['treatment_condition'] == 'Humidity']\n",
    "hum_df['treatment_condition'].unique()"
   ]
  },
  {
   "cell_type": "code",
   "execution_count": 15,
   "metadata": {},
   "outputs": [
    {
     "data": {
      "text/plain": [
       "array([0.7, 0.4])"
      ]
     },
     "execution_count": 15,
     "metadata": {},
     "output_type": "execute_result"
    }
   ],
   "source": [
    "hum_df['time_or_humidity'].unique()"
   ]
  },
  {
   "cell_type": "code",
   "execution_count": 22,
   "metadata": {},
   "outputs": [
    {
     "data": {
      "text/html": [
       "<div>\n",
       "<style scoped>\n",
       "    .dataframe tbody tr th:only-of-type {\n",
       "        vertical-align: middle;\n",
       "    }\n",
       "\n",
       "    .dataframe tbody tr th {\n",
       "        vertical-align: top;\n",
       "    }\n",
       "\n",
       "    .dataframe thead th {\n",
       "        text-align: right;\n",
       "    }\n",
       "</style>\n",
       "<table border=\"1\" class=\"dataframe\">\n",
       "  <thead>\n",
       "    <tr style=\"text-align: right;\">\n",
       "      <th></th>\n",
       "      <th>analyte</th>\n",
       "      <th>treatment_condition</th>\n",
       "      <th>time_or_humidity</th>\n",
       "      <th>Hi</th>\n",
       "      <th>Med</th>\n",
       "      <th>Low</th>\n",
       "    </tr>\n",
       "  </thead>\n",
       "  <tbody>\n",
       "    <tr>\n",
       "      <th>160</th>\n",
       "      <td>HRP2</td>\n",
       "      <td>Humidity</td>\n",
       "      <td>0.7</td>\n",
       "      <td>1523.30</td>\n",
       "      <td>858.96</td>\n",
       "      <td>96.40</td>\n",
       "    </tr>\n",
       "    <tr>\n",
       "      <th>161</th>\n",
       "      <td>HRP2</td>\n",
       "      <td>Humidity</td>\n",
       "      <td>0.4</td>\n",
       "      <td>2815.54</td>\n",
       "      <td>1217.88</td>\n",
       "      <td>106.56</td>\n",
       "    </tr>\n",
       "  </tbody>\n",
       "</table>\n",
       "</div>"
      ],
      "text/plain": [
       "    analyte treatment_condition  time_or_humidity       Hi      Med     Low\n",
       "160    HRP2            Humidity               0.7  1523.30   858.96   96.40\n",
       "161    HRP2            Humidity               0.4  2815.54  1217.88  106.56"
      ]
     },
     "execution_count": 22,
     "metadata": {},
     "output_type": "execute_result"
    }
   ],
   "source": [
    "hum_df.loc[hum_df['analyte'] == 'HRP2']"
   ]
  },
  {
   "cell_type": "code",
   "execution_count": null,
   "metadata": {},
   "outputs": [],
   "source": []
  }
 ],
 "metadata": {
  "kernelspec": {
   "display_name": "Python 3",
   "language": "python",
   "name": "python3"
  },
  "language_info": {
   "codemirror_mode": {
    "name": "ipython",
    "version": 3
   },
   "file_extension": ".py",
   "mimetype": "text/x-python",
   "name": "python",
   "nbconvert_exporter": "python",
   "pygments_lexer": "ipython3",
   "version": "3.7.3"
  }
 },
 "nbformat": 4,
 "nbformat_minor": 2
}
