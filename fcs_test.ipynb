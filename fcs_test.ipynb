{
 "cells": [
  {
   "cell_type": "code",
   "execution_count": 77,
   "metadata": {},
   "outputs": [],
   "source": [
    "import math\n",
    "import pandas as pd\n",
    "from scipy.stats import gaussian_kde\n",
    "from sklearn.neighbors import KernelDensity\n",
    "from FlowCytometryTools import FCMeasurement\n",
    "from statsmodels.distributions.empirical_distribution import ECDF"
   ]
  },
  {
   "cell_type": "code",
   "execution_count": 78,
   "metadata": {},
   "outputs": [],
   "source": [
    "fcs_dir = 'C:/Users/lzoeckler/Desktop/maria_data/Archive_facs'"
   ]
  },
  {
   "cell_type": "code",
   "execution_count": 79,
   "metadata": {},
   "outputs": [
    {
     "name": "stderr",
     "output_type": "stream",
     "text": [
      "Encountered an illegal utf-8 byte in the header.\n",
      " Illegal utf-8 characters will be ignored.\n",
      "'utf-8' codec can't decode byte 0xaa in position 101: invalid start byte\n",
      "Encountered an illegal utf-8 byte in the header.\n",
      " Illegal utf-8 characters will be ignored.\n",
      "'utf-8' codec can't decode byte 0xaa in position 101: invalid start byte\n"
     ]
    }
   ],
   "source": [
    "test = FCMeasurement(ID='', datafile='{}/1.fcs'.format(fcs_dir))\n",
    "fcs_data = test.data\n",
    "fcs_channels = test.channels"
   ]
  },
  {
   "cell_type": "code",
   "execution_count": 80,
   "metadata": {},
   "outputs": [
    {
     "name": "stdout",
     "output_type": "stream",
     "text": [
      "10000 observations\n",
      "<class 'pandas.core.frame.DataFrame'>\n"
     ]
    },
    {
     "data": {
      "text/html": [
       "<div>\n",
       "<style scoped>\n",
       "    .dataframe tbody tr th:only-of-type {\n",
       "        vertical-align: middle;\n",
       "    }\n",
       "\n",
       "    .dataframe tbody tr th {\n",
       "        vertical-align: top;\n",
       "    }\n",
       "\n",
       "    .dataframe thead th {\n",
       "        text-align: right;\n",
       "    }\n",
       "</style>\n",
       "<table border=\"1\" class=\"dataframe\">\n",
       "  <thead>\n",
       "    <tr style=\"text-align: right;\">\n",
       "      <th></th>\n",
       "      <th>FSC-H</th>\n",
       "      <th>SSC-H</th>\n",
       "      <th>FL1-H</th>\n",
       "      <th>FL2-H</th>\n",
       "      <th>FL3-H</th>\n",
       "      <th>FL1-A</th>\n",
       "      <th>FL4-H</th>\n",
       "    </tr>\n",
       "  </thead>\n",
       "  <tbody>\n",
       "    <tr>\n",
       "      <th>0</th>\n",
       "      <td>395.0</td>\n",
       "      <td>205.0</td>\n",
       "      <td>468.0</td>\n",
       "      <td>416.0</td>\n",
       "      <td>419.0</td>\n",
       "      <td>13.0</td>\n",
       "      <td>451.0</td>\n",
       "    </tr>\n",
       "    <tr>\n",
       "      <th>1</th>\n",
       "      <td>237.0</td>\n",
       "      <td>385.0</td>\n",
       "      <td>516.0</td>\n",
       "      <td>453.0</td>\n",
       "      <td>454.0</td>\n",
       "      <td>22.0</td>\n",
       "      <td>470.0</td>\n",
       "    </tr>\n",
       "    <tr>\n",
       "      <th>2</th>\n",
       "      <td>190.0</td>\n",
       "      <td>148.0</td>\n",
       "      <td>552.0</td>\n",
       "      <td>477.0</td>\n",
       "      <td>489.0</td>\n",
       "      <td>32.0</td>\n",
       "      <td>527.0</td>\n",
       "    </tr>\n",
       "    <tr>\n",
       "      <th>3</th>\n",
       "      <td>487.0</td>\n",
       "      <td>169.0</td>\n",
       "      <td>579.0</td>\n",
       "      <td>529.0</td>\n",
       "      <td>553.0</td>\n",
       "      <td>41.0</td>\n",
       "      <td>553.0</td>\n",
       "    </tr>\n",
       "    <tr>\n",
       "      <th>4</th>\n",
       "      <td>419.0</td>\n",
       "      <td>185.0</td>\n",
       "      <td>525.0</td>\n",
       "      <td>465.0</td>\n",
       "      <td>470.0</td>\n",
       "      <td>25.0</td>\n",
       "      <td>512.0</td>\n",
       "    </tr>\n",
       "  </tbody>\n",
       "</table>\n",
       "</div>"
      ],
      "text/plain": [
       "   FSC-H  SSC-H  FL1-H  FL2-H  FL3-H  FL1-A  FL4-H\n",
       "0  395.0  205.0  468.0  416.0  419.0   13.0  451.0\n",
       "1  237.0  385.0  516.0  453.0  454.0   22.0  470.0\n",
       "2  190.0  148.0  552.0  477.0  489.0   32.0  527.0\n",
       "3  487.0  169.0  579.0  529.0  553.0   41.0  553.0\n",
       "4  419.0  185.0  525.0  465.0  470.0   25.0  512.0"
      ]
     },
     "execution_count": 80,
     "metadata": {},
     "output_type": "execute_result"
    }
   ],
   "source": [
    "print(len(fcs_data), 'observations')\n",
    "print(type(fcs_data))\n",
    "fcs_data.head()"
   ]
  },
  {
   "cell_type": "code",
   "execution_count": 81,
   "metadata": {},
   "outputs": [
    {
     "name": "stderr",
     "output_type": "stream",
     "text": [
      "C:\\Users\\lzoeckler\\miniconda3\\envs\\DIAMETER\\lib\\site-packages\\ipykernel_launcher.py:2: SettingWithCopyWarning: \n",
      "A value is trying to be set on a copy of a slice from a DataFrame.\n",
      "Try using .loc[row_indexer,col_indexer] = value instead\n",
      "\n",
      "See the caveats in the documentation: http://pandas.pydata.org/pandas-docs/stable/indexing.html#indexing-view-versus-copy\n",
      "  \n"
     ]
    },
    {
     "data": {
      "text/html": [
       "<div>\n",
       "<style scoped>\n",
       "    .dataframe tbody tr th:only-of-type {\n",
       "        vertical-align: middle;\n",
       "    }\n",
       "\n",
       "    .dataframe tbody tr th {\n",
       "        vertical-align: top;\n",
       "    }\n",
       "\n",
       "    .dataframe thead th {\n",
       "        text-align: right;\n",
       "    }\n",
       "</style>\n",
       "<table border=\"1\" class=\"dataframe\">\n",
       "  <thead>\n",
       "    <tr style=\"text-align: right;\">\n",
       "      <th></th>\n",
       "      <th>FSC-H</th>\n",
       "      <th>SSC-H</th>\n",
       "      <th>FL1-H</th>\n",
       "      <th>FL2-H</th>\n",
       "      <th>FL3-H</th>\n",
       "      <th>FL1-A</th>\n",
       "      <th>FL4-H</th>\n",
       "    </tr>\n",
       "  </thead>\n",
       "  <tbody>\n",
       "    <tr>\n",
       "      <th>0</th>\n",
       "      <td>395.0</td>\n",
       "      <td>205.0</td>\n",
       "      <td>468.0</td>\n",
       "      <td>416.0</td>\n",
       "      <td>419.0</td>\n",
       "      <td>2.564949</td>\n",
       "      <td>451.0</td>\n",
       "    </tr>\n",
       "    <tr>\n",
       "      <th>1</th>\n",
       "      <td>237.0</td>\n",
       "      <td>385.0</td>\n",
       "      <td>516.0</td>\n",
       "      <td>453.0</td>\n",
       "      <td>454.0</td>\n",
       "      <td>3.091042</td>\n",
       "      <td>470.0</td>\n",
       "    </tr>\n",
       "    <tr>\n",
       "      <th>2</th>\n",
       "      <td>190.0</td>\n",
       "      <td>148.0</td>\n",
       "      <td>552.0</td>\n",
       "      <td>477.0</td>\n",
       "      <td>489.0</td>\n",
       "      <td>3.465736</td>\n",
       "      <td>527.0</td>\n",
       "    </tr>\n",
       "    <tr>\n",
       "      <th>3</th>\n",
       "      <td>487.0</td>\n",
       "      <td>169.0</td>\n",
       "      <td>579.0</td>\n",
       "      <td>529.0</td>\n",
       "      <td>553.0</td>\n",
       "      <td>3.713572</td>\n",
       "      <td>553.0</td>\n",
       "    </tr>\n",
       "    <tr>\n",
       "      <th>4</th>\n",
       "      <td>419.0</td>\n",
       "      <td>185.0</td>\n",
       "      <td>525.0</td>\n",
       "      <td>465.0</td>\n",
       "      <td>470.0</td>\n",
       "      <td>3.218876</td>\n",
       "      <td>512.0</td>\n",
       "    </tr>\n",
       "  </tbody>\n",
       "</table>\n",
       "</div>"
      ],
      "text/plain": [
       "   FSC-H  SSC-H  FL1-H  FL2-H  FL3-H     FL1-A  FL4-H\n",
       "0  395.0  205.0  468.0  416.0  419.0  2.564949  451.0\n",
       "1  237.0  385.0  516.0  453.0  454.0  3.091042  470.0\n",
       "2  190.0  148.0  552.0  477.0  489.0  3.465736  527.0\n",
       "3  487.0  169.0  579.0  529.0  553.0  3.713572  553.0\n",
       "4  419.0  185.0  525.0  465.0  470.0  3.218876  512.0"
      ]
     },
     "execution_count": 81,
     "metadata": {},
     "output_type": "execute_result"
    }
   ],
   "source": [
    "test = fcs_data.loc[fcs_data['FL1-A'] > 0]\n",
    "test['FL1-A'] = test['FL1-A'].apply(math.log)\n",
    "test.head()"
   ]
  },
  {
   "cell_type": "code",
   "execution_count": 82,
   "metadata": {},
   "outputs": [
    {
     "name": "stderr",
     "output_type": "stream",
     "text": [
      "C:\\Users\\lzoeckler\\miniconda3\\envs\\DIAMETER\\lib\\site-packages\\ipykernel_launcher.py:2: SettingWithCopyWarning: \n",
      "A value is trying to be set on a copy of a slice from a DataFrame.\n",
      "Try using .loc[row_indexer,col_indexer] = value instead\n",
      "\n",
      "See the caveats in the documentation: http://pandas.pydata.org/pandas-docs/stable/indexing.html#indexing-view-versus-copy\n",
      "  \n",
      "C:\\Users\\lzoeckler\\miniconda3\\envs\\DIAMETER\\lib\\site-packages\\ipykernel_launcher.py:4: SettingWithCopyWarning: \n",
      "A value is trying to be set on a copy of a slice from a DataFrame.\n",
      "Try using .loc[row_indexer,col_indexer] = value instead\n",
      "\n",
      "See the caveats in the documentation: http://pandas.pydata.org/pandas-docs/stable/indexing.html#indexing-view-versus-copy\n",
      "  after removing the cwd from sys.path.\n"
     ]
    },
    {
     "data": {
      "text/html": [
       "<div>\n",
       "<style scoped>\n",
       "    .dataframe tbody tr th:only-of-type {\n",
       "        vertical-align: middle;\n",
       "    }\n",
       "\n",
       "    .dataframe tbody tr th {\n",
       "        vertical-align: top;\n",
       "    }\n",
       "\n",
       "    .dataframe thead th {\n",
       "        text-align: right;\n",
       "    }\n",
       "</style>\n",
       "<table border=\"1\" class=\"dataframe\">\n",
       "  <thead>\n",
       "    <tr style=\"text-align: right;\">\n",
       "      <th></th>\n",
       "      <th>FSC-H</th>\n",
       "      <th>SSC-H</th>\n",
       "      <th>FL1-H</th>\n",
       "      <th>FL2-H</th>\n",
       "      <th>FL3-H</th>\n",
       "      <th>FL1-A</th>\n",
       "      <th>FL4-H</th>\n",
       "    </tr>\n",
       "  </thead>\n",
       "  <tbody>\n",
       "    <tr>\n",
       "      <th>0</th>\n",
       "      <td>0.787215</td>\n",
       "      <td>0.648359</td>\n",
       "      <td>468.0</td>\n",
       "      <td>416.0</td>\n",
       "      <td>419.0</td>\n",
       "      <td>2.564949</td>\n",
       "      <td>451.0</td>\n",
       "    </tr>\n",
       "    <tr>\n",
       "      <th>1</th>\n",
       "      <td>0.366547</td>\n",
       "      <td>0.883353</td>\n",
       "      <td>516.0</td>\n",
       "      <td>453.0</td>\n",
       "      <td>454.0</td>\n",
       "      <td>3.091042</td>\n",
       "      <td>470.0</td>\n",
       "    </tr>\n",
       "    <tr>\n",
       "      <th>2</th>\n",
       "      <td>0.264206</td>\n",
       "      <td>0.452781</td>\n",
       "      <td>552.0</td>\n",
       "      <td>477.0</td>\n",
       "      <td>489.0</td>\n",
       "      <td>3.465736</td>\n",
       "      <td>527.0</td>\n",
       "    </tr>\n",
       "    <tr>\n",
       "      <th>3</th>\n",
       "      <td>0.970988</td>\n",
       "      <td>0.536715</td>\n",
       "      <td>579.0</td>\n",
       "      <td>529.0</td>\n",
       "      <td>553.0</td>\n",
       "      <td>3.713572</td>\n",
       "      <td>553.0</td>\n",
       "    </tr>\n",
       "    <tr>\n",
       "      <th>4</th>\n",
       "      <td>0.853341</td>\n",
       "      <td>0.590336</td>\n",
       "      <td>525.0</td>\n",
       "      <td>465.0</td>\n",
       "      <td>470.0</td>\n",
       "      <td>3.218876</td>\n",
       "      <td>512.0</td>\n",
       "    </tr>\n",
       "  </tbody>\n",
       "</table>\n",
       "</div>"
      ],
      "text/plain": [
       "      FSC-H     SSC-H  FL1-H  FL2-H  FL3-H     FL1-A  FL4-H\n",
       "0  0.787215  0.648359  468.0  416.0  419.0  2.564949  451.0\n",
       "1  0.366547  0.883353  516.0  453.0  454.0  3.091042  470.0\n",
       "2  0.264206  0.452781  552.0  477.0  489.0  3.465736  527.0\n",
       "3  0.970988  0.536715  579.0  529.0  553.0  3.713572  553.0\n",
       "4  0.853341  0.590336  525.0  465.0  470.0  3.218876  512.0"
      ]
     },
     "execution_count": 82,
     "metadata": {},
     "output_type": "execute_result"
    }
   ],
   "source": [
    "FSC_ecdf = ECDF(test['FSC-H'])\n",
    "test['FSC-H'] = FSC_ecdf(test['FSC-H'])\n",
    "SSC_ecdf = ECDF(test['SSC-H'])\n",
    "test['SSC-H'] = SSC_ecdf(test['SSC-H'])\n",
    "test.head()"
   ]
  },
  {
   "cell_type": "code",
   "execution_count": 83,
   "metadata": {},
   "outputs": [
    {
     "data": {
      "text/html": [
       "<div>\n",
       "<style scoped>\n",
       "    .dataframe tbody tr th:only-of-type {\n",
       "        vertical-align: middle;\n",
       "    }\n",
       "\n",
       "    .dataframe tbody tr th {\n",
       "        vertical-align: top;\n",
       "    }\n",
       "\n",
       "    .dataframe thead th {\n",
       "        text-align: right;\n",
       "    }\n",
       "</style>\n",
       "<table border=\"1\" class=\"dataframe\">\n",
       "  <thead>\n",
       "    <tr style=\"text-align: right;\">\n",
       "      <th></th>\n",
       "      <th>FSC-H</th>\n",
       "      <th>SSC-H</th>\n",
       "      <th>FL1-H</th>\n",
       "      <th>FL2-H</th>\n",
       "      <th>FL3-H</th>\n",
       "      <th>FL1-A</th>\n",
       "      <th>FL4-H</th>\n",
       "    </tr>\n",
       "  </thead>\n",
       "  <tbody>\n",
       "    <tr>\n",
       "      <th>4</th>\n",
       "      <td>0.853341</td>\n",
       "      <td>0.590336</td>\n",
       "      <td>525.0</td>\n",
       "      <td>465.0</td>\n",
       "      <td>470.0</td>\n",
       "      <td>3.218876</td>\n",
       "      <td>512.0</td>\n",
       "    </tr>\n",
       "    <tr>\n",
       "      <th>6</th>\n",
       "      <td>0.915066</td>\n",
       "      <td>0.449080</td>\n",
       "      <td>460.0</td>\n",
       "      <td>424.0</td>\n",
       "      <td>470.0</td>\n",
       "      <td>2.484907</td>\n",
       "      <td>483.0</td>\n",
       "    </tr>\n",
       "    <tr>\n",
       "      <th>7</th>\n",
       "      <td>0.703481</td>\n",
       "      <td>0.405362</td>\n",
       "      <td>473.0</td>\n",
       "      <td>422.0</td>\n",
       "      <td>434.0</td>\n",
       "      <td>2.639057</td>\n",
       "      <td>466.0</td>\n",
       "    </tr>\n",
       "    <tr>\n",
       "      <th>8</th>\n",
       "      <td>0.889156</td>\n",
       "      <td>0.494398</td>\n",
       "      <td>542.0</td>\n",
       "      <td>488.0</td>\n",
       "      <td>500.0</td>\n",
       "      <td>3.367296</td>\n",
       "      <td>521.0</td>\n",
       "    </tr>\n",
       "    <tr>\n",
       "      <th>9</th>\n",
       "      <td>0.585434</td>\n",
       "      <td>0.417167</td>\n",
       "      <td>418.0</td>\n",
       "      <td>309.0</td>\n",
       "      <td>421.0</td>\n",
       "      <td>2.079442</td>\n",
       "      <td>418.0</td>\n",
       "    </tr>\n",
       "  </tbody>\n",
       "</table>\n",
       "</div>"
      ],
      "text/plain": [
       "      FSC-H     SSC-H  FL1-H  FL2-H  FL3-H     FL1-A  FL4-H\n",
       "4  0.853341  0.590336  525.0  465.0  470.0  3.218876  512.0\n",
       "6  0.915066  0.449080  460.0  424.0  470.0  2.484907  483.0\n",
       "7  0.703481  0.405362  473.0  422.0  434.0  2.639057  466.0\n",
       "8  0.889156  0.494398  542.0  488.0  500.0  3.367296  521.0\n",
       "9  0.585434  0.417167  418.0  309.0  421.0  2.079442  418.0"
      ]
     },
     "execution_count": 83,
     "metadata": {},
     "output_type": "execute_result"
    }
   ],
   "source": [
    "sub_test = test.loc[(test['FSC-H'] >= .4) & (test['FSC-H'] <= .95)]\n",
    "sub_test = sub_test.loc[(test['SSC-H'] >= .05) & (test['SSC-H'] <= .6)]\n",
    "sub_test.head()"
   ]
  },
  {
   "cell_type": "code",
   "execution_count": 84,
   "metadata": {},
   "outputs": [
    {
     "name": "stderr",
     "output_type": "stream",
     "text": [
      "C:\\Users\\lzoeckler\\miniconda3\\envs\\DIAMETER\\lib\\site-packages\\ipykernel_launcher.py:1: FutureWarning: Method .as_matrix will be removed in a future version. Use .values instead.\n",
      "  \"\"\"Entry point for launching an IPython kernel.\n"
     ]
    }
   ],
   "source": [
    "for_sk = sub_test['FL1-A'].as_matrix().reshape(-1,1)\n",
    "for_sp = sub_test['FL1-A']"
   ]
  },
  {
   "cell_type": "code",
   "execution_count": 85,
   "metadata": {},
   "outputs": [
    {
     "data": {
      "text/plain": [
       "KernelDensity(algorithm='auto', atol=0, bandwidth=1.0, breadth_first=True,\n",
       "              kernel='gaussian', leaf_size=40, metric='euclidean',\n",
       "              metric_params=None, rtol=0)"
      ]
     },
     "execution_count": 85,
     "metadata": {},
     "output_type": "execute_result"
    }
   ],
   "source": [
    "d1 = KernelDensity().fit(for_sk)\n",
    "d1"
   ]
  },
  {
   "cell_type": "code",
   "execution_count": 86,
   "metadata": {},
   "outputs": [
    {
     "data": {
      "text/plain": [
       "array([0.87968401, 0.25872959, 0.2908796 , ..., 1.06886877, 1.10782862,\n",
       "       0.73468708])"
      ]
     },
     "execution_count": 86,
     "metadata": {},
     "output_type": "execute_result"
    }
   ],
   "source": [
    "d2 = gaussian_kde(for_sp).evaluate(for_sp)\n",
    "d2"
   ]
  },
  {
   "cell_type": "code",
   "execution_count": 87,
   "metadata": {},
   "outputs": [
    {
     "data": {
      "text/plain": [
       "<matplotlib.axes._subplots.AxesSubplot at 0x1df80e5dc18>"
      ]
     },
     "execution_count": 87,
     "metadata": {},
     "output_type": "execute_result"
    },
    {
     "data": {
      "image/png": "[encoded data removed]",
      "text/plain": [
       "<Figure size 432x288 with 1 Axes>"
      ]
     },
     "metadata": {
      "needs_background": "light"
     },
     "output_type": "display_data"
    }
   ],
   "source": [
    "sub_test['FL1-A'].plot.kde(ind=100)"
   ]
  },
  {
   "cell_type": "code",
   "execution_count": 20,
   "metadata": {},
   "outputs": [
    {
     "data": {
      "text/html": [
       "<div>\n",
       "<style scoped>\n",
       "    .dataframe tbody tr th:only-of-type {\n",
       "        vertical-align: middle;\n",
       "    }\n",
       "\n",
       "    .dataframe tbody tr th {\n",
       "        vertical-align: top;\n",
       "    }\n",
       "\n",
       "    .dataframe thead th {\n",
       "        text-align: right;\n",
       "    }\n",
       "</style>\n",
       "<table border=\"1\" class=\"dataframe\">\n",
       "  <thead>\n",
       "    <tr style=\"text-align: right;\">\n",
       "      <th></th>\n",
       "      <th>$PnN</th>\n",
       "      <th>$PnR</th>\n",
       "      <th>$PnB</th>\n",
       "      <th>$PnE</th>\n",
       "      <th>$PnS</th>\n",
       "    </tr>\n",
       "    <tr>\n",
       "      <th>Channel Number</th>\n",
       "      <th></th>\n",
       "      <th></th>\n",
       "      <th></th>\n",
       "      <th></th>\n",
       "      <th></th>\n",
       "    </tr>\n",
       "  </thead>\n",
       "  <tbody>\n",
       "    <tr>\n",
       "      <th>1</th>\n",
       "      <td>FSC-H</td>\n",
       "      <td>1024</td>\n",
       "      <td>16</td>\n",
       "      <td>[0, 0]</td>\n",
       "      <td>FSC-Height</td>\n",
       "    </tr>\n",
       "    <tr>\n",
       "      <th>2</th>\n",
       "      <td>SSC-H</td>\n",
       "      <td>1024</td>\n",
       "      <td>16</td>\n",
       "      <td>[0, 0]</td>\n",
       "      <td>SSC-Height</td>\n",
       "    </tr>\n",
       "    <tr>\n",
       "      <th>3</th>\n",
       "      <td>FL1-H</td>\n",
       "      <td>1024</td>\n",
       "      <td>16</td>\n",
       "      <td>[4, 0]</td>\n",
       "      <td>FITC</td>\n",
       "    </tr>\n",
       "    <tr>\n",
       "      <th>4</th>\n",
       "      <td>FL2-H</td>\n",
       "      <td>1024</td>\n",
       "      <td>16</td>\n",
       "      <td>[4, 0]</td>\n",
       "      <td>None</td>\n",
       "    </tr>\n",
       "    <tr>\n",
       "      <th>5</th>\n",
       "      <td>FL3-H</td>\n",
       "      <td>1024</td>\n",
       "      <td>16</td>\n",
       "      <td>[4, 0]</td>\n",
       "      <td>None</td>\n",
       "    </tr>\n",
       "    <tr>\n",
       "      <th>6</th>\n",
       "      <td>FL1-A</td>\n",
       "      <td>1024</td>\n",
       "      <td>16</td>\n",
       "      <td>[0, 0]</td>\n",
       "      <td>None</td>\n",
       "    </tr>\n",
       "    <tr>\n",
       "      <th>7</th>\n",
       "      <td>FL4-H</td>\n",
       "      <td>1024</td>\n",
       "      <td>16</td>\n",
       "      <td>[4, 0]</td>\n",
       "      <td>None</td>\n",
       "    </tr>\n",
       "  </tbody>\n",
       "</table>\n",
       "</div>"
      ],
      "text/plain": [
       "                 $PnN  $PnR  $PnB    $PnE        $PnS\n",
       "Channel Number                                       \n",
       "1               FSC-H  1024    16  [0, 0]  FSC-Height\n",
       "2               SSC-H  1024    16  [0, 0]  SSC-Height\n",
       "3               FL1-H  1024    16  [4, 0]        FITC\n",
       "4               FL2-H  1024    16  [4, 0]        None\n",
       "5               FL3-H  1024    16  [4, 0]        None\n",
       "6               FL1-A  1024    16  [0, 0]        None\n",
       "7               FL4-H  1024    16  [4, 0]        None"
      ]
     },
     "execution_count": 20,
     "metadata": {},
     "output_type": "execute_result"
    }
   ],
   "source": [
    "test.channels"
   ]
  },
  {
   "cell_type": "code",
   "execution_count": null,
   "metadata": {},
   "outputs": [],
   "source": []
  }
 ],
 "metadata": {
  "kernelspec": {
   "display_name": "Python 3",
   "language": "python",
   "name": "python3"
  },
  "language_info": {
   "codemirror_mode": {
    "name": "ipython",
    "version": 3
   },
   "file_extension": ".py",
   "mimetype": "text/x-python",
   "name": "python",
   "nbconvert_exporter": "python",
   "pygments_lexer": "ipython3",
   "version": "3.7.3"
  }
 },
 "nbformat": 4,
 "nbformat_minor": 2
}
