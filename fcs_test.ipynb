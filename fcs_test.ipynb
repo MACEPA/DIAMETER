{
 "cells": [
  {
   "cell_type": "code",
   "execution_count": 102,
   "metadata": {},
   "outputs": [],
   "source": [
    "import math\n",
    "import numpy as np\n",
    "import pandas as pd\n",
    "from analytic_wfm import peakdetect_spline\n",
    "import matplotlib.pyplot as plt\n",
    "from scipy.stats import gaussian_kde\n",
    "from scipy.signal import find_peaks\n",
    "from scipy.interpolate import CubicSpline, UnivariateSpline\n",
    "from sklearn.neighbors import KernelDensity\n",
    "from FlowCytometryTools import FCMeasurement\n",
    "from statsmodels.distributions.empirical_distribution import ECDF"
   ]
  },
  {
   "cell_type": "code",
   "execution_count": 103,
   "metadata": {},
   "outputs": [],
   "source": [
    "fcs_dir = 'C:/Users/lzoeckler/Desktop/maria_data/Archive_facs'"
   ]
  },
  {
   "cell_type": "code",
   "execution_count": 104,
   "metadata": {},
   "outputs": [
    {
     "name": "stderr",
     "output_type": "stream",
     "text": [
      "Encountered an illegal utf-8 byte in the header.\n",
      " Illegal utf-8 characters will be ignored.\n",
      "'utf-8' codec can't decode byte 0xaa in position 101: invalid start byte\n",
      "Encountered an illegal utf-8 byte in the header.\n",
      " Illegal utf-8 characters will be ignored.\n",
      "'utf-8' codec can't decode byte 0xaa in position 101: invalid start byte\n"
     ]
    }
   ],
   "source": [
    "test = FCMeasurement(ID='', datafile='{}/1.fcs'.format(fcs_dir))\n",
    "fcs_data = test.data\n",
    "fcs_channels = test.channels"
   ]
  },
  {
   "cell_type": "code",
   "execution_count": 105,
   "metadata": {},
   "outputs": [
    {
     "name": "stdout",
     "output_type": "stream",
     "text": [
      "10000 observations\n",
      "<class 'pandas.core.frame.DataFrame'>\n"
     ]
    },
    {
     "data": {
      "text/html": [
       "<div>\n",
       "<style scoped>\n",
       "    .dataframe tbody tr th:only-of-type {\n",
       "        vertical-align: middle;\n",
       "    }\n",
       "\n",
       "    .dataframe tbody tr th {\n",
       "        vertical-align: top;\n",
       "    }\n",
       "\n",
       "    .dataframe thead th {\n",
       "        text-align: right;\n",
       "    }\n",
       "</style>\n",
       "<table border=\"1\" class=\"dataframe\">\n",
       "  <thead>\n",
       "    <tr style=\"text-align: right;\">\n",
       "      <th></th>\n",
       "      <th>$PnN</th>\n",
       "      <th>$PnR</th>\n",
       "      <th>$PnB</th>\n",
       "      <th>$PnE</th>\n",
       "      <th>$PnS</th>\n",
       "    </tr>\n",
       "    <tr>\n",
       "      <th>Channel Number</th>\n",
       "      <th></th>\n",
       "      <th></th>\n",
       "      <th></th>\n",
       "      <th></th>\n",
       "      <th></th>\n",
       "    </tr>\n",
       "  </thead>\n",
       "  <tbody>\n",
       "    <tr>\n",
       "      <th>1</th>\n",
       "      <td>FSC-H</td>\n",
       "      <td>1024</td>\n",
       "      <td>16</td>\n",
       "      <td>[0, 0]</td>\n",
       "      <td>FSC-Height</td>\n",
       "    </tr>\n",
       "    <tr>\n",
       "      <th>2</th>\n",
       "      <td>SSC-H</td>\n",
       "      <td>1024</td>\n",
       "      <td>16</td>\n",
       "      <td>[0, 0]</td>\n",
       "      <td>SSC-Height</td>\n",
       "    </tr>\n",
       "    <tr>\n",
       "      <th>3</th>\n",
       "      <td>FL1-H</td>\n",
       "      <td>1024</td>\n",
       "      <td>16</td>\n",
       "      <td>[4, 0]</td>\n",
       "      <td>FITC</td>\n",
       "    </tr>\n",
       "    <tr>\n",
       "      <th>4</th>\n",
       "      <td>FL2-H</td>\n",
       "      <td>1024</td>\n",
       "      <td>16</td>\n",
       "      <td>[4, 0]</td>\n",
       "      <td>None</td>\n",
       "    </tr>\n",
       "    <tr>\n",
       "      <th>5</th>\n",
       "      <td>FL3-H</td>\n",
       "      <td>1024</td>\n",
       "      <td>16</td>\n",
       "      <td>[4, 0]</td>\n",
       "      <td>None</td>\n",
       "    </tr>\n",
       "    <tr>\n",
       "      <th>6</th>\n",
       "      <td>FL1-A</td>\n",
       "      <td>1024</td>\n",
       "      <td>16</td>\n",
       "      <td>[0, 0]</td>\n",
       "      <td>None</td>\n",
       "    </tr>\n",
       "    <tr>\n",
       "      <th>7</th>\n",
       "      <td>FL4-H</td>\n",
       "      <td>1024</td>\n",
       "      <td>16</td>\n",
       "      <td>[4, 0]</td>\n",
       "      <td>None</td>\n",
       "    </tr>\n",
       "  </tbody>\n",
       "</table>\n",
       "</div>"
      ],
      "text/plain": [
       "                 $PnN  $PnR  $PnB    $PnE        $PnS\n",
       "Channel Number                                       \n",
       "1               FSC-H  1024    16  [0, 0]  FSC-Height\n",
       "2               SSC-H  1024    16  [0, 0]  SSC-Height\n",
       "3               FL1-H  1024    16  [4, 0]        FITC\n",
       "4               FL2-H  1024    16  [4, 0]        None\n",
       "5               FL3-H  1024    16  [4, 0]        None\n",
       "6               FL1-A  1024    16  [0, 0]        None\n",
       "7               FL4-H  1024    16  [4, 0]        None"
      ]
     },
     "execution_count": 105,
     "metadata": {},
     "output_type": "execute_result"
    }
   ],
   "source": [
    "print(len(fcs_data), 'observations')\n",
    "print(type(fcs_data))\n",
    "test.channels"
   ]
  },
  {
   "cell_type": "code",
   "execution_count": 106,
   "metadata": {},
   "outputs": [
    {
     "data": {
      "text/html": [
       "<div>\n",
       "<style scoped>\n",
       "    .dataframe tbody tr th:only-of-type {\n",
       "        vertical-align: middle;\n",
       "    }\n",
       "\n",
       "    .dataframe tbody tr th {\n",
       "        vertical-align: top;\n",
       "    }\n",
       "\n",
       "    .dataframe thead th {\n",
       "        text-align: right;\n",
       "    }\n",
       "</style>\n",
       "<table border=\"1\" class=\"dataframe\">\n",
       "  <thead>\n",
       "    <tr style=\"text-align: right;\">\n",
       "      <th></th>\n",
       "      <th>FSC-H</th>\n",
       "      <th>SSC-H</th>\n",
       "      <th>FL1-H</th>\n",
       "      <th>FL2-H</th>\n",
       "      <th>FL3-H</th>\n",
       "      <th>FL1-A</th>\n",
       "      <th>FL4-H</th>\n",
       "    </tr>\n",
       "  </thead>\n",
       "  <tbody>\n",
       "    <tr>\n",
       "      <th>0</th>\n",
       "      <td>395.0</td>\n",
       "      <td>205.0</td>\n",
       "      <td>468.0</td>\n",
       "      <td>416.0</td>\n",
       "      <td>419.0</td>\n",
       "      <td>13.0</td>\n",
       "      <td>451.0</td>\n",
       "    </tr>\n",
       "    <tr>\n",
       "      <th>1</th>\n",
       "      <td>237.0</td>\n",
       "      <td>385.0</td>\n",
       "      <td>516.0</td>\n",
       "      <td>453.0</td>\n",
       "      <td>454.0</td>\n",
       "      <td>22.0</td>\n",
       "      <td>470.0</td>\n",
       "    </tr>\n",
       "    <tr>\n",
       "      <th>2</th>\n",
       "      <td>190.0</td>\n",
       "      <td>148.0</td>\n",
       "      <td>552.0</td>\n",
       "      <td>477.0</td>\n",
       "      <td>489.0</td>\n",
       "      <td>32.0</td>\n",
       "      <td>527.0</td>\n",
       "    </tr>\n",
       "    <tr>\n",
       "      <th>3</th>\n",
       "      <td>487.0</td>\n",
       "      <td>169.0</td>\n",
       "      <td>579.0</td>\n",
       "      <td>529.0</td>\n",
       "      <td>553.0</td>\n",
       "      <td>41.0</td>\n",
       "      <td>553.0</td>\n",
       "    </tr>\n",
       "    <tr>\n",
       "      <th>4</th>\n",
       "      <td>419.0</td>\n",
       "      <td>185.0</td>\n",
       "      <td>525.0</td>\n",
       "      <td>465.0</td>\n",
       "      <td>470.0</td>\n",
       "      <td>25.0</td>\n",
       "      <td>512.0</td>\n",
       "    </tr>\n",
       "  </tbody>\n",
       "</table>\n",
       "</div>"
      ],
      "text/plain": [
       "   FSC-H  SSC-H  FL1-H  FL2-H  FL3-H  FL1-A  FL4-H\n",
       "0  395.0  205.0  468.0  416.0  419.0   13.0  451.0\n",
       "1  237.0  385.0  516.0  453.0  454.0   22.0  470.0\n",
       "2  190.0  148.0  552.0  477.0  489.0   32.0  527.0\n",
       "3  487.0  169.0  579.0  529.0  553.0   41.0  553.0\n",
       "4  419.0  185.0  525.0  465.0  470.0   25.0  512.0"
      ]
     },
     "execution_count": 106,
     "metadata": {},
     "output_type": "execute_result"
    }
   ],
   "source": [
    "fcs_data.head()"
   ]
  },
  {
   "cell_type": "code",
   "execution_count": 107,
   "metadata": {},
   "outputs": [
    {
     "data": {
      "text/html": [
       "<div>\n",
       "<style scoped>\n",
       "    .dataframe tbody tr th:only-of-type {\n",
       "        vertical-align: middle;\n",
       "    }\n",
       "\n",
       "    .dataframe tbody tr th {\n",
       "        vertical-align: top;\n",
       "    }\n",
       "\n",
       "    .dataframe thead th {\n",
       "        text-align: right;\n",
       "    }\n",
       "</style>\n",
       "<table border=\"1\" class=\"dataframe\">\n",
       "  <thead>\n",
       "    <tr style=\"text-align: right;\">\n",
       "      <th></th>\n",
       "      <th>FSC-H</th>\n",
       "      <th>SSC-H</th>\n",
       "      <th>FL1-A</th>\n",
       "    </tr>\n",
       "  </thead>\n",
       "  <tbody>\n",
       "    <tr>\n",
       "      <th>0</th>\n",
       "      <td>395.0</td>\n",
       "      <td>205.0</td>\n",
       "      <td>2.564949</td>\n",
       "    </tr>\n",
       "    <tr>\n",
       "      <th>1</th>\n",
       "      <td>237.0</td>\n",
       "      <td>385.0</td>\n",
       "      <td>3.091042</td>\n",
       "    </tr>\n",
       "    <tr>\n",
       "      <th>2</th>\n",
       "      <td>190.0</td>\n",
       "      <td>148.0</td>\n",
       "      <td>3.465736</td>\n",
       "    </tr>\n",
       "    <tr>\n",
       "      <th>3</th>\n",
       "      <td>487.0</td>\n",
       "      <td>169.0</td>\n",
       "      <td>3.713572</td>\n",
       "    </tr>\n",
       "    <tr>\n",
       "      <th>4</th>\n",
       "      <td>419.0</td>\n",
       "      <td>185.0</td>\n",
       "      <td>3.218876</td>\n",
       "    </tr>\n",
       "  </tbody>\n",
       "</table>\n",
       "</div>"
      ],
      "text/plain": [
       "   FSC-H  SSC-H     FL1-A\n",
       "0  395.0  205.0  2.564949\n",
       "1  237.0  385.0  3.091042\n",
       "2  190.0  148.0  3.465736\n",
       "3  487.0  169.0  3.713572\n",
       "4  419.0  185.0  3.218876"
      ]
     },
     "execution_count": 107,
     "metadata": {},
     "output_type": "execute_result"
    }
   ],
   "source": [
    "test = fcs_data.loc[fcs_data['FL1-A'] > 0]\n",
    "test = test[['FSC-H', 'SSC-H', 'FL1-A']]\n",
    "test['FL1-A'] = test['FL1-A'].apply(math.log)\n",
    "test.head()"
   ]
  },
  {
   "cell_type": "code",
   "execution_count": 108,
   "metadata": {},
   "outputs": [
    {
     "data": {
      "text/html": [
       "<div>\n",
       "<style scoped>\n",
       "    .dataframe tbody tr th:only-of-type {\n",
       "        vertical-align: middle;\n",
       "    }\n",
       "\n",
       "    .dataframe tbody tr th {\n",
       "        vertical-align: top;\n",
       "    }\n",
       "\n",
       "    .dataframe thead th {\n",
       "        text-align: right;\n",
       "    }\n",
       "</style>\n",
       "<table border=\"1\" class=\"dataframe\">\n",
       "  <thead>\n",
       "    <tr style=\"text-align: right;\">\n",
       "      <th></th>\n",
       "      <th>FSC-H</th>\n",
       "      <th>SSC-H</th>\n",
       "      <th>FL1-A</th>\n",
       "    </tr>\n",
       "  </thead>\n",
       "  <tbody>\n",
       "    <tr>\n",
       "      <th>0</th>\n",
       "      <td>0.787215</td>\n",
       "      <td>0.648359</td>\n",
       "      <td>2.564949</td>\n",
       "    </tr>\n",
       "    <tr>\n",
       "      <th>1</th>\n",
       "      <td>0.366547</td>\n",
       "      <td>0.883353</td>\n",
       "      <td>3.091042</td>\n",
       "    </tr>\n",
       "    <tr>\n",
       "      <th>2</th>\n",
       "      <td>0.264206</td>\n",
       "      <td>0.452781</td>\n",
       "      <td>3.465736</td>\n",
       "    </tr>\n",
       "    <tr>\n",
       "      <th>3</th>\n",
       "      <td>0.970988</td>\n",
       "      <td>0.536715</td>\n",
       "      <td>3.713572</td>\n",
       "    </tr>\n",
       "    <tr>\n",
       "      <th>4</th>\n",
       "      <td>0.853341</td>\n",
       "      <td>0.590336</td>\n",
       "      <td>3.218876</td>\n",
       "    </tr>\n",
       "  </tbody>\n",
       "</table>\n",
       "</div>"
      ],
      "text/plain": [
       "      FSC-H     SSC-H     FL1-A\n",
       "0  0.787215  0.648359  2.564949\n",
       "1  0.366547  0.883353  3.091042\n",
       "2  0.264206  0.452781  3.465736\n",
       "3  0.970988  0.536715  3.713572\n",
       "4  0.853341  0.590336  3.218876"
      ]
     },
     "execution_count": 108,
     "metadata": {},
     "output_type": "execute_result"
    }
   ],
   "source": [
    "FSC_ecdf = ECDF(test['FSC-H'])\n",
    "test['FSC-H'] = FSC_ecdf(test['FSC-H'])\n",
    "SSC_ecdf = ECDF(test['SSC-H'])\n",
    "test['SSC-H'] = SSC_ecdf(test['SSC-H'])\n",
    "test.head()"
   ]
  },
  {
   "cell_type": "code",
   "execution_count": 109,
   "metadata": {},
   "outputs": [],
   "source": [
    "fsc_filt = (.4, .95)\n",
    "ssc_filt = (.05, .6)"
   ]
  },
  {
   "cell_type": "code",
   "execution_count": 147,
   "metadata": {},
   "outputs": [
    {
     "data": {
      "text/html": [
       "<div>\n",
       "<style scoped>\n",
       "    .dataframe tbody tr th:only-of-type {\n",
       "        vertical-align: middle;\n",
       "    }\n",
       "\n",
       "    .dataframe tbody tr th {\n",
       "        vertical-align: top;\n",
       "    }\n",
       "\n",
       "    .dataframe thead th {\n",
       "        text-align: right;\n",
       "    }\n",
       "</style>\n",
       "<table border=\"1\" class=\"dataframe\">\n",
       "  <thead>\n",
       "    <tr style=\"text-align: right;\">\n",
       "      <th></th>\n",
       "      <th>FSC-H</th>\n",
       "      <th>SSC-H</th>\n",
       "      <th>FL1-A</th>\n",
       "    </tr>\n",
       "  </thead>\n",
       "  <tbody>\n",
       "    <tr>\n",
       "      <th>4</th>\n",
       "      <td>0.853341</td>\n",
       "      <td>0.590336</td>\n",
       "      <td>3.218876</td>\n",
       "    </tr>\n",
       "    <tr>\n",
       "      <th>6</th>\n",
       "      <td>0.915066</td>\n",
       "      <td>0.449080</td>\n",
       "      <td>2.484907</td>\n",
       "    </tr>\n",
       "    <tr>\n",
       "      <th>7</th>\n",
       "      <td>0.703481</td>\n",
       "      <td>0.405362</td>\n",
       "      <td>2.639057</td>\n",
       "    </tr>\n",
       "    <tr>\n",
       "      <th>8</th>\n",
       "      <td>0.889156</td>\n",
       "      <td>0.494398</td>\n",
       "      <td>3.367296</td>\n",
       "    </tr>\n",
       "    <tr>\n",
       "      <th>9</th>\n",
       "      <td>0.585434</td>\n",
       "      <td>0.417167</td>\n",
       "      <td>2.079442</td>\n",
       "    </tr>\n",
       "  </tbody>\n",
       "</table>\n",
       "</div>"
      ],
      "text/plain": [
       "      FSC-H     SSC-H     FL1-A\n",
       "4  0.853341  0.590336  3.218876\n",
       "6  0.915066  0.449080  2.484907\n",
       "7  0.703481  0.405362  2.639057\n",
       "8  0.889156  0.494398  3.367296\n",
       "9  0.585434  0.417167  2.079442"
      ]
     },
     "execution_count": 147,
     "metadata": {},
     "output_type": "execute_result"
    }
   ],
   "source": [
    "fsc_filter = (test['FSC-H'] >= fsc_filt[0]) & (test['FSC-H'] <= fsc_filt[1])\n",
    "sub_test = test.loc[fsc_filter]\n",
    "ssc_filter = (test['SSC-H'] >= ssc_filt[0]) & (test['SSC-H'] <= ssc_filt[1])\n",
    "sub_test = sub_test.loc[ssc_filter]\n",
    "sub_test.head()"
   ]
  },
  {
   "cell_type": "code",
   "execution_count": 148,
   "metadata": {},
   "outputs": [
    {
     "name": "stderr",
     "output_type": "stream",
     "text": [
      "C:\\Users\\lzoeckler\\miniconda3\\envs\\DIAMETER\\lib\\site-packages\\ipykernel_launcher.py:1: FutureWarning: Method .as_matrix will be removed in a future version. Use .values instead.\n",
      "  \"\"\"Entry point for launching an IPython kernel.\n"
     ]
    }
   ],
   "source": [
    "fl1h = sub_test['FL1-A'].as_matrix()"
   ]
  },
  {
   "cell_type": "code",
   "execution_count": 149,
   "metadata": {},
   "outputs": [
    {
     "data": {
      "text/plain": [
       "<matplotlib.axes._subplots.AxesSubplot at 0x2117d25fe80>"
      ]
     },
     "execution_count": 149,
     "metadata": {},
     "output_type": "execute_result"
    },
    {
     "data": {
      "image/png": "[encoded data removed]",
      "text/plain": [
       "<Figure size 432x288 with 1 Axes>"
      ]
     },
     "metadata": {
      "needs_background": "light"
     },
     "output_type": "display_data"
    }
   ],
   "source": [
    "sub_test['FL1-A'].plot.kde()"
   ]
  },
  {
   "cell_type": "code",
   "execution_count": 150,
   "metadata": {},
   "outputs": [
    {
     "data": {
      "text/plain": [
       "array([0.87968401, 0.25872959, 0.2908796 , ..., 1.06886877, 1.10782862,\n",
       "       0.73468708])"
      ]
     },
     "execution_count": 150,
     "metadata": {},
     "output_type": "execute_result"
    }
   ],
   "source": [
    "density = gaussian_kde(fl1h).evaluate(fl1h)\n",
    "density"
   ]
  },
  {
   "cell_type": "code",
   "execution_count": 151,
   "metadata": {},
   "outputs": [
    {
     "data": {
      "text/html": [
       "<div>\n",
       "<style scoped>\n",
       "    .dataframe tbody tr th:only-of-type {\n",
       "        vertical-align: middle;\n",
       "    }\n",
       "\n",
       "    .dataframe tbody tr th {\n",
       "        vertical-align: top;\n",
       "    }\n",
       "\n",
       "    .dataframe thead th {\n",
       "        text-align: right;\n",
       "    }\n",
       "</style>\n",
       "<table border=\"1\" class=\"dataframe\">\n",
       "  <thead>\n",
       "    <tr style=\"text-align: right;\">\n",
       "      <th></th>\n",
       "      <th>FSC-H</th>\n",
       "      <th>SSC-H</th>\n",
       "      <th>FL1-A</th>\n",
       "      <th>density</th>\n",
       "      <th>freq</th>\n",
       "      <th>intensity</th>\n",
       "    </tr>\n",
       "  </thead>\n",
       "  <tbody>\n",
       "    <tr>\n",
       "      <th>206</th>\n",
       "      <td>0.617547</td>\n",
       "      <td>0.340136</td>\n",
       "      <td>0.000000</td>\n",
       "      <td>0.010357</td>\n",
       "      <td>0.000005</td>\n",
       "      <td>0.000000</td>\n",
       "    </tr>\n",
       "    <tr>\n",
       "      <th>22</th>\n",
       "      <td>0.527611</td>\n",
       "      <td>0.266807</td>\n",
       "      <td>0.693147</td>\n",
       "      <td>0.096652</td>\n",
       "      <td>0.000045</td>\n",
       "      <td>16.861310</td>\n",
       "    </tr>\n",
       "    <tr>\n",
       "      <th>10</th>\n",
       "      <td>0.472789</td>\n",
       "      <td>0.064026</td>\n",
       "      <td>1.098612</td>\n",
       "      <td>0.052205</td>\n",
       "      <td>0.000024</td>\n",
       "      <td>26.724544</td>\n",
       "    </tr>\n",
       "    <tr>\n",
       "      <th>161</th>\n",
       "      <td>0.620948</td>\n",
       "      <td>0.309724</td>\n",
       "      <td>1.386294</td>\n",
       "      <td>0.028889</td>\n",
       "      <td>0.000013</td>\n",
       "      <td>33.722620</td>\n",
       "    </tr>\n",
       "    <tr>\n",
       "      <th>508</th>\n",
       "      <td>0.521909</td>\n",
       "      <td>0.320428</td>\n",
       "      <td>1.609438</td>\n",
       "      <td>0.039588</td>\n",
       "      <td>0.000018</td>\n",
       "      <td>39.150749</td>\n",
       "    </tr>\n",
       "  </tbody>\n",
       "</table>\n",
       "</div>"
      ],
      "text/plain": [
       "        FSC-H     SSC-H     FL1-A   density      freq  intensity\n",
       "206  0.617547  0.340136  0.000000  0.010357  0.000005   0.000000\n",
       "22   0.527611  0.266807  0.693147  0.096652  0.000045  16.861310\n",
       "10   0.472789  0.064026  1.098612  0.052205  0.000024  26.724544\n",
       "161  0.620948  0.309724  1.386294  0.028889  0.000013  33.722620\n",
       "508  0.521909  0.320428  1.609438  0.039588  0.000018  39.150749"
      ]
     },
     "execution_count": 151,
     "metadata": {},
     "output_type": "execute_result"
    }
   ],
   "source": [
    "sub_test['density'] = density\n",
    "d_sum = sub_test['density'].sum()\n",
    "freq_func = lambda x: x / d_sum\n",
    "sub_test['freq'] = sub_test['density'].apply(freq_func)\n",
    "fl1h_max = sub_test['FL1-A'].max()\n",
    "int_func = lambda x: 100 * (x / fl1h_max)\n",
    "sub_test['intensity'] = sub_test['FL1-A'].apply(int_func)\n",
    "sub_test.drop_duplicates(['FL1-A', 'density', 'freq', 'intensity'],\n",
    "                         inplace=True)\n",
    "sub_test.sort_values('intensity', inplace=True)\n",
    "sub_test.head()"
   ]
  },
  {
   "cell_type": "code",
   "execution_count": 152,
   "metadata": {},
   "outputs": [],
   "source": [
    "smooth_spline = CubicSpline(sub_test['intensity'], sub_test['freq'])\n",
    "spline_derivative = smooth_spline.derivative()"
   ]
  },
  {
   "cell_type": "code",
   "execution_count": 153,
   "metadata": {},
   "outputs": [
    {
     "data": {
      "text/plain": [
       "array([4.86079330e-06, 5.51410644e-06, 5.17835586e-06, 5.00159998e-06,\n",
       "       5.08276353e-06, 5.25935700e-06, 5.48428568e-06, 5.76952960e-06,\n",
       "       6.03937193e-06, 6.29076512e-06, 6.52868737e-06, 6.72500653e-06,\n",
       "       6.86336808e-06, 6.96270854e-06, 7.05726761e-06, 7.17524639e-06,\n",
       "       7.33936846e-06, 7.57227731e-06, 7.89253476e-06, 8.30672753e-06,\n",
       "       8.80659807e-06, 9.37202321e-06, 9.97567451e-06, 1.05864333e-05,\n",
       "       1.11715482e-05, 1.16986665e-05, 1.21382919e-05, 1.24663392e-05,\n",
       "       1.26661502e-05, 1.27295482e-05, 1.26568719e-05, 1.24561737e-05,\n",
       "       1.21418456e-05, 1.17329164e-05, 1.12512224e-05, 1.07196173e-05,\n",
       "       1.01603604e-05, 9.59379729e-06, 9.03740409e-06, 8.50522507e-06,\n",
       "       8.00768273e-06, 7.55170328e-06, 7.14107609e-06, 6.77695838e-06,\n",
       "       6.45844285e-06, 6.18312161e-06, 5.94759905e-06, 5.74792588e-06,\n",
       "       5.57994311e-06, 5.43953668e-06, 5.32281195e-06, 5.22620105e-06,\n",
       "       5.08097328e-06, 5.02716672e-06, 4.85706700e-06])"
      ]
     },
     "execution_count": 153,
     "metadata": {},
     "output_type": "execute_result"
    }
   ],
   "source": [
    "den_x = smooth_spline(sub_test['density'])\n",
    "den_x"
   ]
  },
  {
   "cell_type": "code",
   "execution_count": 154,
   "metadata": {},
   "outputs": [
    {
     "data": {
      "text/plain": [
       "[<matplotlib.lines.Line2D at 0x2117d48e048>]"
      ]
     },
     "execution_count": 154,
     "metadata": {},
     "output_type": "execute_result"
    },
    {
     "data": {
      "image/png": "[encoded data removed]",
      "text/plain": [
       "<Figure size 432x288 with 1 Axes>"
      ]
     },
     "metadata": {
      "needs_background": "light"
     },
     "output_type": "display_data"
    }
   ],
   "source": [
    "plt.plot(sub_test['intensity'], den_x)"
   ]
  },
  {
   "cell_type": "code",
   "execution_count": 155,
   "metadata": {},
   "outputs": [
    {
     "data": {
      "text/plain": [
       "array([ 1, 29], dtype=int64)"
      ]
     },
     "execution_count": 155,
     "metadata": {},
     "output_type": "execute_result"
    }
   ],
   "source": [
    "peaks1, properties1 = find_peaks(den_x)\n",
    "peaks1"
   ]
  },
  {
   "cell_type": "code",
   "execution_count": 156,
   "metadata": {},
   "outputs": [
    {
     "data": {
      "text/plain": [
       "[<matplotlib.lines.Line2D at 0x2117d7097b8>]"
      ]
     },
     "execution_count": 156,
     "metadata": {},
     "output_type": "execute_result"
    },
    {
     "data": {
      "image/png": "[encoded data removed]",
      "text/plain": [
       "<Figure size 432x288 with 1 Axes>"
      ]
     },
     "metadata": {
      "needs_background": "light"
     },
     "output_type": "display_data"
    }
   ],
   "source": [
    "plt.plot(sub_test['intensity'], sub_test['density'])\n",
    "plt.plot(peaks1, testx[peaks1], \"x\")"
   ]
  },
  {
   "cell_type": "code",
   "execution_count": 72,
   "metadata": {},
   "outputs": [
    {
     "ename": "ValueError",
     "evalue": "No zero crossings found",
     "output_type": "error",
     "traceback": [
      "\u001b[1;31m---------------------------------------------------------------------------\u001b[0m",
      "\u001b[1;31mValueError\u001b[0m                                Traceback (most recent call last)",
      "\u001b[1;32m<ipython-input-72-2e5ad7936040>\u001b[0m in \u001b[0;36m<module>\u001b[1;34m\u001b[0m\n\u001b[1;32m----> 1\u001b[1;33m \u001b[0mpeaks2\u001b[0m\u001b[1;33m,\u001b[0m \u001b[0mproperties2\u001b[0m \u001b[1;33m=\u001b[0m \u001b[0mpeakdetect_spline\u001b[0m\u001b[1;33m(\u001b[0m\u001b[0mden_x\u001b[0m\u001b[1;33m,\u001b[0m \u001b[0msub_test\u001b[0m\u001b[1;33m[\u001b[0m\u001b[1;34m'intensity'\u001b[0m\u001b[1;33m]\u001b[0m\u001b[1;33m)\u001b[0m\u001b[1;33m\u001b[0m\u001b[1;33m\u001b[0m\u001b[0m\n\u001b[0m\u001b[0;32m      2\u001b[0m \u001b[1;31m# peaks2 = np.array(peaks2[0], type=)\u001b[0m\u001b[1;33m\u001b[0m\u001b[1;33m\u001b[0m\u001b[1;33m\u001b[0m\u001b[0m\n\u001b[0;32m      3\u001b[0m \u001b[1;31m# plt.plot(sub_test['intensity'], den_x)\u001b[0m\u001b[1;33m\u001b[0m\u001b[1;33m\u001b[0m\u001b[1;33m\u001b[0m\u001b[0m\n\u001b[0;32m      4\u001b[0m \u001b[1;31m# plt.plot(peaks2, den_x[peaks2], \"x\")\u001b[0m\u001b[1;33m\u001b[0m\u001b[1;33m\u001b[0m\u001b[1;33m\u001b[0m\u001b[0m\n\u001b[0;32m      5\u001b[0m \u001b[0mpeaks2\u001b[0m\u001b[1;33m\u001b[0m\u001b[1;33m\u001b[0m\u001b[0m\n",
      "\u001b[1;32m~\\miniconda3\\envs\\DIAMETER\\lib\\site-packages\\analytic_wfm\\peakdetect.py\u001b[0m in \u001b[0;36mpeakdetect_spline\u001b[1;34m(y_axis, x_axis, pad_len)\u001b[0m\n\u001b[0;32m    579\u001b[0m     \u001b[0my_interpolated\u001b[0m \u001b[1;33m=\u001b[0m \u001b[0mcspline1d_eval\u001b[0m\u001b[1;33m(\u001b[0m\u001b[0mcj\u001b[0m\u001b[1;33m,\u001b[0m \u001b[0mx_interpolated\u001b[0m\u001b[1;33m,\u001b[0m \u001b[0mdx\u001b[0m\u001b[1;33m=\u001b[0m\u001b[0mdx\u001b[0m\u001b[1;33m,\u001b[0m\u001b[0mx0\u001b[0m\u001b[1;33m=\u001b[0m\u001b[0mx_axis\u001b[0m\u001b[1;33m[\u001b[0m\u001b[1;36m0\u001b[0m\u001b[1;33m]\u001b[0m\u001b[1;33m)\u001b[0m\u001b[1;33m\u001b[0m\u001b[1;33m\u001b[0m\u001b[0m\n\u001b[0;32m    580\u001b[0m     \u001b[1;31m# get peaks\u001b[0m\u001b[1;33m\u001b[0m\u001b[1;33m\u001b[0m\u001b[1;33m\u001b[0m\u001b[0m\n\u001b[1;32m--> 581\u001b[1;33m     \u001b[0mmax_peaks\u001b[0m\u001b[1;33m,\u001b[0m \u001b[0mmin_peaks\u001b[0m \u001b[1;33m=\u001b[0m \u001b[0mpeakdetect_zero_crossing\u001b[0m\u001b[1;33m(\u001b[0m\u001b[0my_interpolated\u001b[0m\u001b[1;33m,\u001b[0m \u001b[0mx_interpolated\u001b[0m\u001b[1;33m)\u001b[0m\u001b[1;33m\u001b[0m\u001b[1;33m\u001b[0m\u001b[0m\n\u001b[0m\u001b[0;32m    582\u001b[0m \u001b[1;33m\u001b[0m\u001b[0m\n\u001b[0;32m    583\u001b[0m     \u001b[1;32mreturn\u001b[0m \u001b[1;33m[\u001b[0m\u001b[0mmax_peaks\u001b[0m\u001b[1;33m,\u001b[0m \u001b[0mmin_peaks\u001b[0m\u001b[1;33m]\u001b[0m\u001b[1;33m\u001b[0m\u001b[1;33m\u001b[0m\u001b[0m\n",
      "\u001b[1;32m~\\miniconda3\\envs\\DIAMETER\\lib\\site-packages\\analytic_wfm\\peakdetect.py\u001b[0m in \u001b[0;36mpeakdetect_zero_crossing\u001b[1;34m(y_axis, x_axis, window)\u001b[0m\n\u001b[0;32m    619\u001b[0m     \u001b[0mx_axis\u001b[0m\u001b[1;33m,\u001b[0m \u001b[0my_axis\u001b[0m \u001b[1;33m=\u001b[0m \u001b[0m_datacheck_peakdetect\u001b[0m\u001b[1;33m(\u001b[0m\u001b[0mx_axis\u001b[0m\u001b[1;33m,\u001b[0m \u001b[0my_axis\u001b[0m\u001b[1;33m)\u001b[0m\u001b[1;33m\u001b[0m\u001b[1;33m\u001b[0m\u001b[0m\n\u001b[0;32m    620\u001b[0m \u001b[1;33m\u001b[0m\u001b[0m\n\u001b[1;32m--> 621\u001b[1;33m     \u001b[0mzero_indices\u001b[0m \u001b[1;33m=\u001b[0m \u001b[0mzero_crossings\u001b[0m\u001b[1;33m(\u001b[0m\u001b[0my_axis\u001b[0m\u001b[1;33m,\u001b[0m \u001b[0mwindow_len\u001b[0m \u001b[1;33m=\u001b[0m \u001b[0mwindow\u001b[0m\u001b[1;33m)\u001b[0m\u001b[1;33m\u001b[0m\u001b[1;33m\u001b[0m\u001b[0m\n\u001b[0m\u001b[0;32m    622\u001b[0m     \u001b[0mperiod_lengths\u001b[0m \u001b[1;33m=\u001b[0m \u001b[0mnp\u001b[0m\u001b[1;33m.\u001b[0m\u001b[0mdiff\u001b[0m\u001b[1;33m(\u001b[0m\u001b[0mzero_indices\u001b[0m\u001b[1;33m)\u001b[0m\u001b[1;33m\u001b[0m\u001b[1;33m\u001b[0m\u001b[0m\n\u001b[0;32m    623\u001b[0m \u001b[1;33m\u001b[0m\u001b[0m\n",
      "\u001b[1;32m~\\miniconda3\\envs\\DIAMETER\\lib\\site-packages\\analytic_wfm\\peakdetect.py\u001b[0m in \u001b[0;36mzero_crossings\u001b[1;34m(y_axis, window_len, window_f, offset_corrected)\u001b[0m\n\u001b[0;32m    767\u001b[0m     \u001b[1;31m# check if any zero crossings were found\u001b[0m\u001b[1;33m\u001b[0m\u001b[1;33m\u001b[0m\u001b[1;33m\u001b[0m\u001b[0m\n\u001b[0;32m    768\u001b[0m     \u001b[1;32mif\u001b[0m \u001b[0mlen\u001b[0m\u001b[1;33m(\u001b[0m\u001b[0mindices\u001b[0m\u001b[1;33m)\u001b[0m \u001b[1;33m<\u001b[0m \u001b[1;36m1\u001b[0m\u001b[1;33m:\u001b[0m\u001b[1;33m\u001b[0m\u001b[1;33m\u001b[0m\u001b[0m\n\u001b[1;32m--> 769\u001b[1;33m         \u001b[1;32mraise\u001b[0m \u001b[0mValueError\u001b[0m\u001b[1;33m(\u001b[0m\u001b[1;34m\"No zero crossings found\"\u001b[0m\u001b[1;33m)\u001b[0m\u001b[1;33m\u001b[0m\u001b[1;33m\u001b[0m\u001b[0m\n\u001b[0m\u001b[0;32m    770\u001b[0m     \u001b[1;31m#remove offset from indices due to filter function when returning\u001b[0m\u001b[1;33m\u001b[0m\u001b[1;33m\u001b[0m\u001b[1;33m\u001b[0m\u001b[0m\n\u001b[0;32m    771\u001b[0m     \u001b[1;32mreturn\u001b[0m \u001b[0mindices\u001b[0m \u001b[1;33m-\u001b[0m \u001b[1;33m(\u001b[0m\u001b[0mwindow_len\u001b[0m \u001b[1;33m//\u001b[0m \u001b[1;36m2\u001b[0m \u001b[1;33m-\u001b[0m \u001b[1;36m1\u001b[0m\u001b[1;33m)\u001b[0m\u001b[1;33m\u001b[0m\u001b[1;33m\u001b[0m\u001b[0m\n",
      "\u001b[1;31mValueError\u001b[0m: No zero crossings found"
     ]
    }
   ],
   "source": [
    "peaks2, properties2 = peakdetect_spline(den_x, sub_test['intensity'])\n",
    "# peaks2 = np.array(peaks2[0], type=)\n",
    "# plt.plot(sub_test['intensity'], den_x)\n",
    "# plt.plot(peaks2, den_x[peaks2], \"x\")\n",
    "peaks2"
   ]
  },
  {
   "cell_type": "code",
   "execution_count": 52,
   "metadata": {},
   "outputs": [
    {
     "data": {
      "text/plain": [
       "array([7.60543348e-06, 7.53603291e-06, 7.57174839e-06, 7.59050898e-06,\n",
       "       7.58189797e-06, 7.56314144e-06, 7.53920933e-06, 7.50879195e-06,\n",
       "       7.47994653e-06, 7.45301111e-06, 7.42746333e-06, 7.40634172e-06,\n",
       "       7.39143317e-06, 7.38071766e-06, 7.37050891e-06, 7.35775941e-06,\n",
       "       7.34000053e-06, 7.31475261e-06, 7.27994713e-06, 7.23477861e-06,\n",
       "       7.18003176e-06, 7.11778979e-06, 7.05096264e-06, 6.98294324e-06,\n",
       "       6.91738847e-06, 6.85799623e-06, 6.80821412e-06, 6.77091734e-06,\n",
       "       6.74813672e-06, 6.74089855e-06, 6.74919563e-06, 6.77207502e-06,\n",
       "       6.80781078e-06, 6.85412603e-06, 6.90843186e-06, 6.96805563e-06,\n",
       "       7.03043785e-06, 7.09328403e-06, 7.15466545e-06, 7.21306975e-06,\n",
       "       7.26740756e-06, 7.31698507e-06, 7.36145347e-06, 7.40074606e-06,\n",
       "       7.43501176e-06, 7.46455190e-06, 7.48976452e-06, 7.51109836e-06,\n",
       "       7.52901724e-06, 7.54397430e-06, 7.55639467e-06, 7.56666523e-06,\n",
       "       7.58208797e-06, 7.58779714e-06, 7.60582820e-06])"
      ]
     },
     "execution_count": 52,
     "metadata": {},
     "output_type": "execute_result"
    }
   ],
   "source": [
    "den_der_x = spline_derivative(sub_test['density'])\n",
    "den_der_x"
   ]
  },
  {
   "cell_type": "code",
   "execution_count": 53,
   "metadata": {},
   "outputs": [
    {
     "data": {
      "text/plain": [
       "[<matplotlib.lines.Line2D at 0x2117be567b8>]"
      ]
     },
     "execution_count": 53,
     "metadata": {},
     "output_type": "execute_result"
    },
    {
     "data": {
      "image/png": "[encoded data removed]",
      "text/plain": [
       "<Figure size 432x288 with 1 Axes>"
      ]
     },
     "metadata": {
      "needs_background": "light"
     },
     "output_type": "display_data"
    }
   ],
   "source": [
    "plt.plot(sub_test['intensity'], den_der_x)"
   ]
  },
  {
   "cell_type": "code",
   "execution_count": null,
   "metadata": {},
   "outputs": [],
   "source": []
  },
  {
   "cell_type": "code",
   "execution_count": null,
   "metadata": {},
   "outputs": [],
   "source": []
  }
 ],
 "metadata": {
  "kernelspec": {
   "display_name": "Python 3",
   "language": "python",
   "name": "python3"
  },
  "language_info": {
   "codemirror_mode": {
    "name": "ipython",
    "version": 3
   },
   "file_extension": ".py",
   "mimetype": "text/x-python",
   "name": "python",
   "nbconvert_exporter": "python",
   "pygments_lexer": "ipython3",
   "version": "3.7.3"
  }
 },
 "nbformat": 4,
 "nbformat_minor": 2
}
